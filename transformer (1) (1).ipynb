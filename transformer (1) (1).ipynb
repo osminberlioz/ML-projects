{
  "cells": [
    {
      "cell_type": "markdown",
      "id": "b076bd1a-b236-4fbc-953d-8295b25122ae",
      "metadata": {
        "id": "b076bd1a-b236-4fbc-953d-8295b25122ae"
      },
      "source": [
        "# 🎶 Music Generation with Transformers"
      ]
    },
    {
      "cell_type": "code",
      "source": [
        "!bash scripts/download_music_data.sh"
      ],
      "metadata": {
        "colab": {
          "base_uri": "https://localhost:8080/"
        },
        "id": "HrNRbxfRzLlE",
        "outputId": "0d4aa896-bcfa-46f0-ca8f-081fcf41d97a"
      },
      "id": "HrNRbxfRzLlE",
      "execution_count": 1,
      "outputs": [
        {
          "output_type": "stream",
          "name": "stdout",
          "text": [
            "bash: scripts/download_music_data.sh: No such file or directory\n"
          ]
        }
      ]
    },
    {
      "cell_type": "markdown",
      "id": "9235cbd1-f136-411c-88d9-f69f270c0b96",
      "metadata": {
        "id": "9235cbd1-f136-411c-88d9-f69f270c0b96"
      },
      "source": [
        "In this notebook, we'll walk through the steps required to train your own Transformer model to generate music in the style of the Bach cello suites"
      ]
    },
    {
      "cell_type": "code",
      "execution_count": 6,
      "id": "84acc7be-6764-4668-b2bb-178f63deeed3",
      "metadata": {
        "colab": {
          "base_uri": "https://localhost:8080/"
        },
        "id": "84acc7be-6764-4668-b2bb-178f63deeed3",
        "outputId": "472c4a46-9eb5-4519-b447-8c951521720a"
      },
      "outputs": [
        {
          "output_type": "stream",
          "name": "stdout",
          "text": [
            "The autoreload extension is already loaded. To reload it, use:\n",
            "  %reload_ext autoreload\n"
          ]
        }
      ],
      "source": [
        "%load_ext autoreload\n",
        "%autoreload 2\n",
        "\n",
        "import os\n",
        "import glob\n",
        "import numpy as np\n",
        "import time\n",
        "import matplotlib.pyplot as plt\n",
        "\n",
        "import tensorflow as tf\n",
        "from tensorflow.keras import layers, models, losses, callbacks\n",
        "\n",
        "import music21\n",
        "\n",
        "import os\n",
        "import pickle as pkl\n",
        "import music21\n",
        "import keras\n",
        "import tensorflow as tf\n",
        "\n",
        "from fractions import Fraction\n",
        "\n",
        "\n",
        "def parse_midi_files(file_list, parser, seq_len, parsed_data_path=None):\n",
        "    notes_list = []\n",
        "    duration_list = []\n",
        "    notes = []\n",
        "    durations = []\n",
        "\n",
        "    for i, file in enumerate(file_list):\n",
        "        print(i + 1, \"Parsing %s\" % file)\n",
        "        score = parser.parse(file).chordify()\n",
        "\n",
        "        notes.append(\"START\")\n",
        "        durations.append(\"0.0\")\n",
        "\n",
        "        for element in score.flat:\n",
        "            note_name = None\n",
        "            duration_name = None\n",
        "\n",
        "            if isinstance(element, music21.key.Key):\n",
        "                note_name = str(element.tonic.name) + \":\" + str(element.mode)\n",
        "                duration_name = \"0.0\"\n",
        "\n",
        "            elif isinstance(element, music21.meter.TimeSignature):\n",
        "                note_name = str(element.ratioString) + \"TS\"\n",
        "                duration_name = \"0.0\"\n",
        "\n",
        "            elif isinstance(element, music21.chord.Chord):\n",
        "                note_name = element.pitches[-1].nameWithOctave\n",
        "                duration_name = str(element.duration.quarterLength)\n",
        "\n",
        "            elif isinstance(element, music21.note.Rest):\n",
        "                note_name = str(element.name)\n",
        "                duration_name = str(element.duration.quarterLength)\n",
        "\n",
        "            elif isinstance(element, music21.note.Note):\n",
        "                note_name = str(element.nameWithOctave)\n",
        "                duration_name = str(element.duration.quarterLength)\n",
        "\n",
        "            if note_name and duration_name:\n",
        "                notes.append(note_name)\n",
        "                durations.append(duration_name)\n",
        "        print(f\"{len(notes)} notes parsed\")\n",
        "\n",
        "    notes_list = []\n",
        "    duration_list = []\n",
        "\n",
        "    print(f\"Building sequences of length {seq_len}\")\n",
        "    for i in range(len(notes) - seq_len):\n",
        "        notes_list.append(\" \".join(notes[i : (i + seq_len)]))\n",
        "        duration_list.append(\" \".join(durations[i : (i + seq_len)]))\n",
        "\n",
        "    if parsed_data_path:\n",
        "        with open(os.path.join(parsed_data_path, \"notes\"), \"wb\") as f:\n",
        "            pkl.dump(notes_list, f)\n",
        "        with open(os.path.join(parsed_data_path, \"durations\"), \"wb\") as f:\n",
        "            pkl.dump(duration_list, f)\n",
        "\n",
        "    return notes_list, duration_list\n",
        "\n",
        "\n",
        "def load_parsed_files(parsed_data_path):\n",
        "    with open(os.path.join(parsed_data_path, \"notes\"), \"rb\") as f:\n",
        "        notes = pkl.load(f)\n",
        "    with open(os.path.join(parsed_data_path, \"durations\"), \"rb\") as f:\n",
        "        durations = pkl.load(f)\n",
        "    return notes, durations\n",
        "\n",
        "\n",
        "def get_midi_note(sample_note, sample_duration):\n",
        "    new_note = None\n",
        "\n",
        "    if \"TS\" in sample_note:\n",
        "        new_note = music21.meter.TimeSignature(sample_note.split(\"TS\")[0])\n",
        "\n",
        "    elif \"major\" in sample_note or \"minor\" in sample_note:\n",
        "        tonic, mode = sample_note.split(\":\")\n",
        "        new_note = music21.key.Key(tonic, mode)\n",
        "\n",
        "    elif sample_note == \"rest\":\n",
        "        new_note = music21.note.Rest()\n",
        "        new_note.duration = music21.duration.Duration(\n",
        "            float(Fraction(sample_duration))\n",
        "        )\n",
        "        new_note.storedInstrument = music21.instrument.Violoncello()\n",
        "\n",
        "    elif \".\" in sample_note:\n",
        "        notes_in_chord = sample_note.split(\".\")\n",
        "        chord_notes = []\n",
        "        for current_note in notes_in_chord:\n",
        "            n = music21.note.Note(current_note)\n",
        "            n.duration = music21.duration.Duration(\n",
        "                float(Fraction(sample_duration))\n",
        "            )\n",
        "            n.storedInstrument = music21.instrument.Violoncello()\n",
        "            chord_notes.append(n)\n",
        "        new_note = music21.chord.Chord(chord_notes)\n",
        "\n",
        "    elif sample_note == \"rest\":\n",
        "        new_note = music21.note.Rest()\n",
        "        new_note.duration = music21.duration.Duration(\n",
        "            float(Fraction(sample_duration))\n",
        "        )\n",
        "        new_note.storedInstrument = music21.instrument.Violoncello()\n",
        "\n",
        "    elif sample_note != \"START\":\n",
        "        new_note = music21.note.Note(sample_note)\n",
        "        new_note.duration = music21.duration.Duration(\n",
        "            float(Fraction(sample_duration))\n",
        "        )\n",
        "        new_note.storedInstrument = music21.instrument.Violoncello()\n",
        "\n",
        "    return new_note\n",
        "\n",
        "\n",
        "class SinePositionEncoding(keras.layers.Layer):\n",
        "    \"\"\"Sinusoidal positional encoding layer.\n",
        "    This layer calculates the position encoding as a mix of sine and cosine\n",
        "    functions with geometrically increasing wavelengths. Defined and formulized\n",
        "    in [Attention is All You Need](https://arxiv.org/abs/1706.03762).\n",
        "    Takes as input an embedded token tensor. The input must have shape\n",
        "    [batch_size, sequence_length, feature_size]. This layer will return a\n",
        "    positional encoding the same size as the embedded token tensor, which\n",
        "    can be added directly to the embedded token tensor.\n",
        "    Args:\n",
        "        max_wavelength: The maximum angular wavelength of the sine/cosine\n",
        "            curves, as described in Attention is All You Need. Defaults to\n",
        "            10000.\n",
        "    Examples:\n",
        "    ```python\n",
        "    # create a simple embedding layer with sinusoidal positional encoding\n",
        "    seq_len = 100\n",
        "    vocab_size = 1000\n",
        "    embedding_dim = 32\n",
        "    inputs = keras.Input((seq_len,), dtype=tf.float32)\n",
        "    embedding = keras.layers.Embedding(\n",
        "        input_dim=vocab_size, output_dim=embedding_dim\n",
        "    )(inputs)\n",
        "    positional_encoding = keras_nlp.layers.SinePositionEncoding()(embedding)\n",
        "    outputs = embedding + positional_encoding\n",
        "    ```\n",
        "    References:\n",
        "     - [Vaswani et al., 2017](https://arxiv.org/abs/1706.03762)\n",
        "    \"\"\"\n",
        "\n",
        "    def __init__(\n",
        "        self,\n",
        "        max_wavelength=10000,\n",
        "        **kwargs,\n",
        "    ):\n",
        "        super().__init__(**kwargs)\n",
        "        self.max_wavelength = max_wavelength\n",
        "\n",
        "    def call(self, inputs):\n",
        "        # TODO(jbischof): replace `hidden_size` with`hidden_dim` for consistency\n",
        "        # with other layers.\n",
        "        input_shape = tf.shape(inputs)\n",
        "        # length of sequence is the second last dimension of the inputs\n",
        "        seq_length = input_shape[-2]\n",
        "        hidden_size = input_shape[-1]\n",
        "        position = tf.cast(tf.range(seq_length), self.compute_dtype)\n",
        "        min_freq = tf.cast(1 / self.max_wavelength, dtype=self.compute_dtype)\n",
        "        timescales = tf.pow(\n",
        "            min_freq,\n",
        "            tf.cast(2 * (tf.range(hidden_size) // 2), self.compute_dtype)\n",
        "            / tf.cast(hidden_size, self.compute_dtype),\n",
        "        )\n",
        "        angles = tf.expand_dims(position, 1) * tf.expand_dims(timescales, 0)\n",
        "        # even indices are sine, odd are cosine\n",
        "        cos_mask = tf.cast(tf.range(hidden_size) % 2, self.compute_dtype)\n",
        "        sin_mask = 1 - cos_mask\n",
        "        # embedding shape is [seq_length, hidden_size]\n",
        "        positional_encodings = (\n",
        "            tf.sin(angles) * sin_mask + tf.cos(angles) * cos_mask\n",
        "        )\n",
        "\n",
        "        return tf.broadcast_to(positional_encodings, input_shape)\n",
        "\n",
        "    def get_config(self):\n",
        "        config = super().get_config()\n",
        "        config.update(\n",
        "            {\n",
        "                \"max_wavelength\": self.max_wavelength,\n",
        "            }\n",
        "        )\n",
        "        return config"
      ]
    },
    {
      "source": [
        "!pip install music21"
      ],
      "cell_type": "code",
      "metadata": {
        "colab": {
          "base_uri": "https://localhost:8080/"
        },
        "id": "pFK69ODo1M3g",
        "outputId": "90960c59-ac17-45bd-d77f-c9c0243305be"
      },
      "id": "pFK69ODo1M3g",
      "execution_count": 3,
      "outputs": [
        {
          "output_type": "stream",
          "name": "stdout",
          "text": [
            "Collecting music21\n",
            "  Downloading music21-9.1.0-py3-none-any.whl (22.8 MB)\n",
            "\u001b[2K     \u001b[90m━━━━━━━━━━━━━━━━━━━━━━━━━━━━━━━━━━━━━━━━\u001b[0m \u001b[32m22.8/22.8 MB\u001b[0m \u001b[31m41.4 MB/s\u001b[0m eta \u001b[36m0:00:00\u001b[0m\n",
            "\u001b[?25hCollecting chardet (from music21)\n",
            "  Downloading chardet-5.2.0-py3-none-any.whl (199 kB)\n",
            "\u001b[2K     \u001b[90m━━━━━━━━━━━━━━━━━━━━━━━━━━━━━━━━━━━━━━━━\u001b[0m \u001b[32m199.4/199.4 kB\u001b[0m \u001b[31m18.2 MB/s\u001b[0m eta \u001b[36m0:00:00\u001b[0m\n",
            "\u001b[?25hRequirement already satisfied: joblib in /usr/local/lib/python3.10/dist-packages (from music21) (1.3.2)\n",
            "Collecting jsonpickle (from music21)\n",
            "  Downloading jsonpickle-3.0.4-py3-none-any.whl (39 kB)\n",
            "Requirement already satisfied: matplotlib in /usr/local/lib/python3.10/dist-packages (from music21) (3.7.1)\n",
            "Requirement already satisfied: more-itertools in /usr/lib/python3/dist-packages (from music21) (8.10.0)\n",
            "Requirement already satisfied: numpy in /usr/local/lib/python3.10/dist-packages (from music21) (1.25.2)\n",
            "Requirement already satisfied: requests in /usr/local/lib/python3.10/dist-packages (from music21) (2.31.0)\n",
            "Collecting webcolors>=1.5 (from music21)\n",
            "  Downloading webcolors-1.13-py3-none-any.whl (14 kB)\n",
            "Requirement already satisfied: contourpy>=1.0.1 in /usr/local/lib/python3.10/dist-packages (from matplotlib->music21) (1.2.1)\n",
            "Requirement already satisfied: cycler>=0.10 in /usr/local/lib/python3.10/dist-packages (from matplotlib->music21) (0.12.1)\n",
            "Requirement already satisfied: fonttools>=4.22.0 in /usr/local/lib/python3.10/dist-packages (from matplotlib->music21) (4.50.0)\n",
            "Requirement already satisfied: kiwisolver>=1.0.1 in /usr/local/lib/python3.10/dist-packages (from matplotlib->music21) (1.4.5)\n",
            "Requirement already satisfied: packaging>=20.0 in /usr/local/lib/python3.10/dist-packages (from matplotlib->music21) (24.0)\n",
            "Requirement already satisfied: pillow>=6.2.0 in /usr/local/lib/python3.10/dist-packages (from matplotlib->music21) (10.3.0)\n",
            "Requirement already satisfied: pyparsing>=2.3.1 in /usr/local/lib/python3.10/dist-packages (from matplotlib->music21) (3.1.2)\n",
            "Requirement already satisfied: python-dateutil>=2.7 in /usr/local/lib/python3.10/dist-packages (from matplotlib->music21) (2.9.0.post0)\n",
            "Requirement already satisfied: charset-normalizer<4,>=2 in /usr/local/lib/python3.10/dist-packages (from requests->music21) (3.3.2)\n",
            "Requirement already satisfied: idna<4,>=2.5 in /usr/local/lib/python3.10/dist-packages (from requests->music21) (3.6)\n",
            "Requirement already satisfied: urllib3<3,>=1.21.1 in /usr/local/lib/python3.10/dist-packages (from requests->music21) (2.0.7)\n",
            "Requirement already satisfied: certifi>=2017.4.17 in /usr/local/lib/python3.10/dist-packages (from requests->music21) (2024.2.2)\n",
            "Requirement already satisfied: six>=1.5 in /usr/local/lib/python3.10/dist-packages (from python-dateutil>=2.7->matplotlib->music21) (1.16.0)\n",
            "Installing collected packages: webcolors, jsonpickle, chardet, music21\n",
            "Successfully installed chardet-5.2.0 jsonpickle-3.0.4 music21-9.1.0 webcolors-1.13\n"
          ]
        }
      ]
    },
    {
      "source": [
        "!jupyter nbconvert --execute transformer_utils.ipynb"
      ],
      "cell_type": "code",
      "metadata": {
        "colab": {
          "base_uri": "https://localhost:8080/"
        },
        "id": "GAfvy7rG1RUS",
        "outputId": "f6ec30a0-cf89-4c3f-85e2-fd5fe8c3bdbf"
      },
      "id": "GAfvy7rG1RUS",
      "execution_count": 4,
      "outputs": [
        {
          "output_type": "stream",
          "name": "stdout",
          "text": [
            "[NbConvertApp] WARNING | pattern 'transformer_utils.ipynb' matched no files\n",
            "This application is used to convert notebook files (*.ipynb)\n",
            "        to various other formats.\n",
            "\n",
            "        WARNING: THE COMMANDLINE INTERFACE MAY CHANGE IN FUTURE RELEASES.\n",
            "\n",
            "Options\n",
            "=======\n",
            "The options below are convenience aliases to configurable class-options,\n",
            "as listed in the \"Equivalent to\" description-line of the aliases.\n",
            "To see all configurable class-options for some <cmd>, use:\n",
            "    <cmd> --help-all\n",
            "\n",
            "--debug\n",
            "    set log level to logging.DEBUG (maximize logging output)\n",
            "    Equivalent to: [--Application.log_level=10]\n",
            "--show-config\n",
            "    Show the application's configuration (human-readable format)\n",
            "    Equivalent to: [--Application.show_config=True]\n",
            "--show-config-json\n",
            "    Show the application's configuration (json format)\n",
            "    Equivalent to: [--Application.show_config_json=True]\n",
            "--generate-config\n",
            "    generate default config file\n",
            "    Equivalent to: [--JupyterApp.generate_config=True]\n",
            "-y\n",
            "    Answer yes to any questions instead of prompting.\n",
            "    Equivalent to: [--JupyterApp.answer_yes=True]\n",
            "--execute\n",
            "    Execute the notebook prior to export.\n",
            "    Equivalent to: [--ExecutePreprocessor.enabled=True]\n",
            "--allow-errors\n",
            "    Continue notebook execution even if one of the cells throws an error and include the error message in the cell output (the default behaviour is to abort conversion). This flag is only relevant if '--execute' was specified, too.\n",
            "    Equivalent to: [--ExecutePreprocessor.allow_errors=True]\n",
            "--stdin\n",
            "    read a single notebook file from stdin. Write the resulting notebook with default basename 'notebook.*'\n",
            "    Equivalent to: [--NbConvertApp.from_stdin=True]\n",
            "--stdout\n",
            "    Write notebook output to stdout instead of files.\n",
            "    Equivalent to: [--NbConvertApp.writer_class=StdoutWriter]\n",
            "--inplace\n",
            "    Run nbconvert in place, overwriting the existing notebook (only\n",
            "            relevant when converting to notebook format)\n",
            "    Equivalent to: [--NbConvertApp.use_output_suffix=False --NbConvertApp.export_format=notebook --FilesWriter.build_directory=]\n",
            "--clear-output\n",
            "    Clear output of current file and save in place,\n",
            "            overwriting the existing notebook.\n",
            "    Equivalent to: [--NbConvertApp.use_output_suffix=False --NbConvertApp.export_format=notebook --FilesWriter.build_directory= --ClearOutputPreprocessor.enabled=True]\n",
            "--coalesce-streams\n",
            "    Coalesce consecutive stdout and stderr outputs into one stream (within each cell).\n",
            "    Equivalent to: [--NbConvertApp.use_output_suffix=False --NbConvertApp.export_format=notebook --FilesWriter.build_directory= --CoalesceStreamsPreprocessor.enabled=True]\n",
            "--no-prompt\n",
            "    Exclude input and output prompts from converted document.\n",
            "    Equivalent to: [--TemplateExporter.exclude_input_prompt=True --TemplateExporter.exclude_output_prompt=True]\n",
            "--no-input\n",
            "    Exclude input cells and output prompts from converted document.\n",
            "            This mode is ideal for generating code-free reports.\n",
            "    Equivalent to: [--TemplateExporter.exclude_output_prompt=True --TemplateExporter.exclude_input=True --TemplateExporter.exclude_input_prompt=True]\n",
            "--allow-chromium-download\n",
            "    Whether to allow downloading chromium if no suitable version is found on the system.\n",
            "    Equivalent to: [--WebPDFExporter.allow_chromium_download=True]\n",
            "--disable-chromium-sandbox\n",
            "    Disable chromium security sandbox when converting to PDF..\n",
            "    Equivalent to: [--WebPDFExporter.disable_sandbox=True]\n",
            "--show-input\n",
            "    Shows code input. This flag is only useful for dejavu users.\n",
            "    Equivalent to: [--TemplateExporter.exclude_input=False]\n",
            "--embed-images\n",
            "    Embed the images as base64 dataurls in the output. This flag is only useful for the HTML/WebPDF/Slides exports.\n",
            "    Equivalent to: [--HTMLExporter.embed_images=True]\n",
            "--sanitize-html\n",
            "    Whether the HTML in Markdown cells and cell outputs should be sanitized..\n",
            "    Equivalent to: [--HTMLExporter.sanitize_html=True]\n",
            "--log-level=<Enum>\n",
            "    Set the log level by value or name.\n",
            "    Choices: any of [0, 10, 20, 30, 40, 50, 'DEBUG', 'INFO', 'WARN', 'ERROR', 'CRITICAL']\n",
            "    Default: 30\n",
            "    Equivalent to: [--Application.log_level]\n",
            "--config=<Unicode>\n",
            "    Full path of a config file.\n",
            "    Default: ''\n",
            "    Equivalent to: [--JupyterApp.config_file]\n",
            "--to=<Unicode>\n",
            "    The export format to be used, either one of the built-in formats\n",
            "            ['asciidoc', 'custom', 'html', 'latex', 'markdown', 'notebook', 'pdf', 'python', 'qtpdf', 'qtpng', 'rst', 'script', 'slides', 'webpdf']\n",
            "            or a dotted object name that represents the import path for an\n",
            "            ``Exporter`` class\n",
            "    Default: ''\n",
            "    Equivalent to: [--NbConvertApp.export_format]\n",
            "--template=<Unicode>\n",
            "    Name of the template to use\n",
            "    Default: ''\n",
            "    Equivalent to: [--TemplateExporter.template_name]\n",
            "--template-file=<Unicode>\n",
            "    Name of the template file to use\n",
            "    Default: None\n",
            "    Equivalent to: [--TemplateExporter.template_file]\n",
            "--theme=<Unicode>\n",
            "    Template specific theme(e.g. the name of a JupyterLab CSS theme distributed\n",
            "    as prebuilt extension for the lab template)\n",
            "    Default: 'light'\n",
            "    Equivalent to: [--HTMLExporter.theme]\n",
            "--sanitize_html=<Bool>\n",
            "    Whether the HTML in Markdown cells and cell outputs should be sanitized.This\n",
            "    should be set to True by nbviewer or similar tools.\n",
            "    Default: False\n",
            "    Equivalent to: [--HTMLExporter.sanitize_html]\n",
            "--writer=<DottedObjectName>\n",
            "    Writer class used to write the\n",
            "                                        results of the conversion\n",
            "    Default: 'FilesWriter'\n",
            "    Equivalent to: [--NbConvertApp.writer_class]\n",
            "--post=<DottedOrNone>\n",
            "    PostProcessor class used to write the\n",
            "                                        results of the conversion\n",
            "    Default: ''\n",
            "    Equivalent to: [--NbConvertApp.postprocessor_class]\n",
            "--output=<Unicode>\n",
            "    Overwrite base name use for output files.\n",
            "                Supports pattern replacements '{notebook_name}'.\n",
            "    Default: '{notebook_name}'\n",
            "    Equivalent to: [--NbConvertApp.output_base]\n",
            "--output-dir=<Unicode>\n",
            "    Directory to write output(s) to. Defaults\n",
            "                                  to output to the directory of each notebook. To recover\n",
            "                                  previous default behaviour (outputting to the current\n",
            "                                  working directory) use . as the flag value.\n",
            "    Default: ''\n",
            "    Equivalent to: [--FilesWriter.build_directory]\n",
            "--reveal-prefix=<Unicode>\n",
            "    The URL prefix for reveal.js (version 3.x).\n",
            "            This defaults to the reveal CDN, but can be any url pointing to a copy\n",
            "            of reveal.js.\n",
            "            For speaker notes to work, this must be a relative path to a local\n",
            "            copy of reveal.js: e.g., \"reveal.js\".\n",
            "            If a relative path is given, it must be a subdirectory of the\n",
            "            current directory (from which the server is run).\n",
            "            See the usage documentation\n",
            "            (https://nbconvert.readthedocs.io/en/latest/usage.html#reveal-js-html-slideshow)\n",
            "            for more details.\n",
            "    Default: ''\n",
            "    Equivalent to: [--SlidesExporter.reveal_url_prefix]\n",
            "--nbformat=<Enum>\n",
            "    The nbformat version to write.\n",
            "            Use this to downgrade notebooks.\n",
            "    Choices: any of [1, 2, 3, 4]\n",
            "    Default: 4\n",
            "    Equivalent to: [--NotebookExporter.nbformat_version]\n",
            "\n",
            "Examples\n",
            "--------\n",
            "\n",
            "    The simplest way to use nbconvert is\n",
            "\n",
            "            > jupyter nbconvert mynotebook.ipynb --to html\n",
            "\n",
            "            Options include ['asciidoc', 'custom', 'html', 'latex', 'markdown', 'notebook', 'pdf', 'python', 'qtpdf', 'qtpng', 'rst', 'script', 'slides', 'webpdf'].\n",
            "\n",
            "            > jupyter nbconvert --to latex mynotebook.ipynb\n",
            "\n",
            "            Both HTML and LaTeX support multiple output templates. LaTeX includes\n",
            "            'base', 'article' and 'report'.  HTML includes 'basic', 'lab' and\n",
            "            'classic'. You can specify the flavor of the format used.\n",
            "\n",
            "            > jupyter nbconvert --to html --template lab mynotebook.ipynb\n",
            "\n",
            "            You can also pipe the output to stdout, rather than a file\n",
            "\n",
            "            > jupyter nbconvert mynotebook.ipynb --stdout\n",
            "\n",
            "            PDF is generated via latex\n",
            "\n",
            "            > jupyter nbconvert mynotebook.ipynb --to pdf\n",
            "\n",
            "            You can get (and serve) a Reveal.js-powered slideshow\n",
            "\n",
            "            > jupyter nbconvert myslides.ipynb --to slides --post serve\n",
            "\n",
            "            Multiple notebooks can be given at the command line in a couple of\n",
            "            different ways:\n",
            "\n",
            "            > jupyter nbconvert notebook*.ipynb\n",
            "            > jupyter nbconvert notebook1.ipynb notebook2.ipynb\n",
            "\n",
            "            or you can specify the notebooks list in a config file, containing::\n",
            "\n",
            "                c.NbConvertApp.notebooks = [\"my_notebook.ipynb\"]\n",
            "\n",
            "            > jupyter nbconvert --config mycfg.py\n",
            "\n",
            "To see all available configurables, use `--help-all`.\n",
            "\n"
          ]
        }
      ]
    },
    {
      "cell_type": "code",
      "source": [
        "!git clone https://github.com/davidADSP/Generative_Deep_Learning_2nd_Edition/blob/main/notebooks/11_music/01_transformer/transformer.ipynb\n"
      ],
      "metadata": {
        "colab": {
          "base_uri": "https://localhost:8080/"
        },
        "id": "QpMKjQHr8mP-",
        "outputId": "ed8f445e-6af9-4be8-d4e7-9bcac7dbff6f"
      },
      "id": "QpMKjQHr8mP-",
      "execution_count": 11,
      "outputs": [
        {
          "output_type": "stream",
          "name": "stdout",
          "text": [
            "Cloning into 'transformer.ipynb'...\n",
            "fatal: repository 'https://github.com/davidADSP/Generative_Deep_Learning_2nd_Edition/blob/main/notebooks/11_music/01_transformer/transformer.ipynb/' not found\n"
          ]
        }
      ]
    },
    {
      "cell_type": "markdown",
      "id": "339e6268-ebd7-4feb-86db-1fe7abccdbe5",
      "metadata": {
        "id": "339e6268-ebd7-4feb-86db-1fe7abccdbe5"
      },
      "source": [
        "## 0. Parameters <a name=\"parameters\"></a>"
      ]
    },
    {
      "cell_type": "code",
      "execution_count": 48,
      "id": "1b2ee6ce-129f-4833-b0c5-fa567381c4e0",
      "metadata": {
        "id": "1b2ee6ce-129f-4833-b0c5-fa567381c4e0"
      },
      "outputs": [],
      "source": [
        "PARSE_MIDI_FILES = True\n",
        "PARSED_DATA_PATH = \"/app/notebooks/11_music/01_transformer/parsed_data/\"\n",
        "DATASET_REPETITIONS = 1\n",
        "\n",
        "SEQ_LEN = 50\n",
        "EMBEDDING_DIM = 256\n",
        "KEY_DIM = 256\n",
        "N_HEADS = 5\n",
        "DROPOUT_RATE = 0.3\n",
        "FEED_FORWARD_DIM = 256\n",
        "LOAD_MODEL = False\n",
        "\n",
        "# optimization\n",
        "EPOCHS = 200\n",
        "BATCH_SIZE = 256\n",
        "\n",
        "GENERATE_LEN = 50"
      ]
    },
    {
      "cell_type": "markdown",
      "id": "7d4f5e63-e36a-4dc8-9f03-cb29c1fa5290",
      "metadata": {
        "id": "7d4f5e63-e36a-4dc8-9f03-cb29c1fa5290"
      },
      "source": [
        "## 1. Prepare the Data"
      ]
    },
    {
      "cell_type": "code",
      "source": [
        "from google.colab import files\n",
        "\n",
        "uploaded = files.upload()\n",
        "\n",
        "for fn in uploaded.keys():\n",
        "  print('User uploaded file \"{name}\" with length {length} bytes'.format(\n",
        "      name=fn, length=len(uploaded[fn])))\n"
      ],
      "metadata": {
        "colab": {
          "base_uri": "https://localhost:8080/",
          "height": 348
        },
        "id": "B0IWd_o19tS5",
        "outputId": "4877fb04-1d75-48c1-9a23-5c98a1862a02"
      },
      "id": "B0IWd_o19tS5",
      "execution_count": 12,
      "outputs": [
        {
          "output_type": "display_data",
          "data": {
            "text/plain": [
              "<IPython.core.display.HTML object>"
            ],
            "text/html": [
              "\n",
              "     <input type=\"file\" id=\"files-19ddd06c-02a9-414c-995a-e1b3a5b71899\" name=\"files[]\" multiple disabled\n",
              "        style=\"border:none\" />\n",
              "     <output id=\"result-19ddd06c-02a9-414c-995a-e1b3a5b71899\">\n",
              "      Upload widget is only available when the cell has been executed in the\n",
              "      current browser session. Please rerun this cell to enable.\n",
              "      </output>\n",
              "      <script>// Copyright 2017 Google LLC\n",
              "//\n",
              "// Licensed under the Apache License, Version 2.0 (the \"License\");\n",
              "// you may not use this file except in compliance with the License.\n",
              "// You may obtain a copy of the License at\n",
              "//\n",
              "//      http://www.apache.org/licenses/LICENSE-2.0\n",
              "//\n",
              "// Unless required by applicable law or agreed to in writing, software\n",
              "// distributed under the License is distributed on an \"AS IS\" BASIS,\n",
              "// WITHOUT WARRANTIES OR CONDITIONS OF ANY KIND, either express or implied.\n",
              "// See the License for the specific language governing permissions and\n",
              "// limitations under the License.\n",
              "\n",
              "/**\n",
              " * @fileoverview Helpers for google.colab Python module.\n",
              " */\n",
              "(function(scope) {\n",
              "function span(text, styleAttributes = {}) {\n",
              "  const element = document.createElement('span');\n",
              "  element.textContent = text;\n",
              "  for (const key of Object.keys(styleAttributes)) {\n",
              "    element.style[key] = styleAttributes[key];\n",
              "  }\n",
              "  return element;\n",
              "}\n",
              "\n",
              "// Max number of bytes which will be uploaded at a time.\n",
              "const MAX_PAYLOAD_SIZE = 100 * 1024;\n",
              "\n",
              "function _uploadFiles(inputId, outputId) {\n",
              "  const steps = uploadFilesStep(inputId, outputId);\n",
              "  const outputElement = document.getElementById(outputId);\n",
              "  // Cache steps on the outputElement to make it available for the next call\n",
              "  // to uploadFilesContinue from Python.\n",
              "  outputElement.steps = steps;\n",
              "\n",
              "  return _uploadFilesContinue(outputId);\n",
              "}\n",
              "\n",
              "// This is roughly an async generator (not supported in the browser yet),\n",
              "// where there are multiple asynchronous steps and the Python side is going\n",
              "// to poll for completion of each step.\n",
              "// This uses a Promise to block the python side on completion of each step,\n",
              "// then passes the result of the previous step as the input to the next step.\n",
              "function _uploadFilesContinue(outputId) {\n",
              "  const outputElement = document.getElementById(outputId);\n",
              "  const steps = outputElement.steps;\n",
              "\n",
              "  const next = steps.next(outputElement.lastPromiseValue);\n",
              "  return Promise.resolve(next.value.promise).then((value) => {\n",
              "    // Cache the last promise value to make it available to the next\n",
              "    // step of the generator.\n",
              "    outputElement.lastPromiseValue = value;\n",
              "    return next.value.response;\n",
              "  });\n",
              "}\n",
              "\n",
              "/**\n",
              " * Generator function which is called between each async step of the upload\n",
              " * process.\n",
              " * @param {string} inputId Element ID of the input file picker element.\n",
              " * @param {string} outputId Element ID of the output display.\n",
              " * @return {!Iterable<!Object>} Iterable of next steps.\n",
              " */\n",
              "function* uploadFilesStep(inputId, outputId) {\n",
              "  const inputElement = document.getElementById(inputId);\n",
              "  inputElement.disabled = false;\n",
              "\n",
              "  const outputElement = document.getElementById(outputId);\n",
              "  outputElement.innerHTML = '';\n",
              "\n",
              "  const pickedPromise = new Promise((resolve) => {\n",
              "    inputElement.addEventListener('change', (e) => {\n",
              "      resolve(e.target.files);\n",
              "    });\n",
              "  });\n",
              "\n",
              "  const cancel = document.createElement('button');\n",
              "  inputElement.parentElement.appendChild(cancel);\n",
              "  cancel.textContent = 'Cancel upload';\n",
              "  const cancelPromise = new Promise((resolve) => {\n",
              "    cancel.onclick = () => {\n",
              "      resolve(null);\n",
              "    };\n",
              "  });\n",
              "\n",
              "  // Wait for the user to pick the files.\n",
              "  const files = yield {\n",
              "    promise: Promise.race([pickedPromise, cancelPromise]),\n",
              "    response: {\n",
              "      action: 'starting',\n",
              "    }\n",
              "  };\n",
              "\n",
              "  cancel.remove();\n",
              "\n",
              "  // Disable the input element since further picks are not allowed.\n",
              "  inputElement.disabled = true;\n",
              "\n",
              "  if (!files) {\n",
              "    return {\n",
              "      response: {\n",
              "        action: 'complete',\n",
              "      }\n",
              "    };\n",
              "  }\n",
              "\n",
              "  for (const file of files) {\n",
              "    const li = document.createElement('li');\n",
              "    li.append(span(file.name, {fontWeight: 'bold'}));\n",
              "    li.append(span(\n",
              "        `(${file.type || 'n/a'}) - ${file.size} bytes, ` +\n",
              "        `last modified: ${\n",
              "            file.lastModifiedDate ? file.lastModifiedDate.toLocaleDateString() :\n",
              "                                    'n/a'} - `));\n",
              "    const percent = span('0% done');\n",
              "    li.appendChild(percent);\n",
              "\n",
              "    outputElement.appendChild(li);\n",
              "\n",
              "    const fileDataPromise = new Promise((resolve) => {\n",
              "      const reader = new FileReader();\n",
              "      reader.onload = (e) => {\n",
              "        resolve(e.target.result);\n",
              "      };\n",
              "      reader.readAsArrayBuffer(file);\n",
              "    });\n",
              "    // Wait for the data to be ready.\n",
              "    let fileData = yield {\n",
              "      promise: fileDataPromise,\n",
              "      response: {\n",
              "        action: 'continue',\n",
              "      }\n",
              "    };\n",
              "\n",
              "    // Use a chunked sending to avoid message size limits. See b/62115660.\n",
              "    let position = 0;\n",
              "    do {\n",
              "      const length = Math.min(fileData.byteLength - position, MAX_PAYLOAD_SIZE);\n",
              "      const chunk = new Uint8Array(fileData, position, length);\n",
              "      position += length;\n",
              "\n",
              "      const base64 = btoa(String.fromCharCode.apply(null, chunk));\n",
              "      yield {\n",
              "        response: {\n",
              "          action: 'append',\n",
              "          file: file.name,\n",
              "          data: base64,\n",
              "        },\n",
              "      };\n",
              "\n",
              "      let percentDone = fileData.byteLength === 0 ?\n",
              "          100 :\n",
              "          Math.round((position / fileData.byteLength) * 100);\n",
              "      percent.textContent = `${percentDone}% done`;\n",
              "\n",
              "    } while (position < fileData.byteLength);\n",
              "  }\n",
              "\n",
              "  // All done.\n",
              "  yield {\n",
              "    response: {\n",
              "      action: 'complete',\n",
              "    }\n",
              "  };\n",
              "}\n",
              "\n",
              "scope.google = scope.google || {};\n",
              "scope.google.colab = scope.google.colab || {};\n",
              "scope.google.colab._files = {\n",
              "  _uploadFiles,\n",
              "  _uploadFilesContinue,\n",
              "};\n",
              "})(self);\n",
              "</script> "
            ]
          },
          "metadata": {}
        },
        {
          "output_type": "stream",
          "name": "stdout",
          "text": [
            "Saving bwv1007.zip to bwv1007.zip\n",
            "Saving bwv1008.zip to bwv1008.zip\n",
            "Saving bwv1009.zip to bwv1009.zip\n",
            "Saving bwv1010.zip to bwv1010.zip\n",
            "Saving bwv1011.zip to bwv1011.zip\n",
            "Saving bwv1012.zip to bwv1012.zip\n",
            "User uploaded file \"bwv1007.zip\" with length 7206 bytes\n",
            "User uploaded file \"bwv1008.zip\" with length 8021 bytes\n",
            "User uploaded file \"bwv1009.zip\" with length 8783 bytes\n",
            "User uploaded file \"bwv1010.zip\" with length 8622 bytes\n",
            "User uploaded file \"bwv1011.zip\" with length 8973 bytes\n",
            "User uploaded file \"bwv1012.zip\" with length 10242 bytes\n"
          ]
        }
      ]
    },
    {
      "cell_type": "code",
      "source": [
        "import os\n",
        "import zipfile\n",
        "\n",
        "# Iterate over each file that was uploaded\n",
        "for filename in uploaded.keys():\n",
        "    # Check if the file is a zip file\n",
        "    if filename.endswith('.zip'):\n",
        "        # Construct the path to the zip file\n",
        "        zip_path = os.path.join(\"/content\", filename)\n",
        "        # Construct the directory to which the files will be extracted\n",
        "        extract_dir = os.path.join(\"/content\", filename[:-4])  # Removing '.zip' from the filename\n",
        "        os.makedirs(extract_dir, exist_ok=True)  # Create the directory if it doesn't exist\n",
        "\n",
        "        # Unzip the file\n",
        "        with zipfile.ZipFile(zip_path, 'r') as zip_ref:\n",
        "            zip_ref.extractall(extract_dir)\n",
        "\n",
        "        print(f\"Extracted {filename} to {extract_dir}\")\n"
      ],
      "metadata": {
        "colab": {
          "base_uri": "https://localhost:8080/"
        },
        "id": "2b80PfVjAo_G",
        "outputId": "07c57f10-9b86-43a9-a430-3d3afd7a4878"
      },
      "id": "2b80PfVjAo_G",
      "execution_count": 15,
      "outputs": [
        {
          "output_type": "stream",
          "name": "stdout",
          "text": [
            "Extracted bwv1007.zip to /content/bwv1007\n",
            "Extracted bwv1008.zip to /content/bwv1008\n",
            "Extracted bwv1009.zip to /content/bwv1009\n",
            "Extracted bwv1010.zip to /content/bwv1010\n",
            "Extracted bwv1011.zip to /content/bwv1011\n",
            "Extracted bwv1012.zip to /content/bwv1012\n"
          ]
        }
      ]
    },
    {
      "cell_type": "code",
      "execution_count": 18,
      "id": "73de38bd-0b92-4441-9601-ed4a3b45f924",
      "metadata": {
        "colab": {
          "base_uri": "https://localhost:8080/"
        },
        "id": "73de38bd-0b92-4441-9601-ed4a3b45f924",
        "outputId": "da54e945-a892-4e7c-b14b-35cebd31a32d"
      },
      "outputs": [
        {
          "output_type": "stream",
          "name": "stdout",
          "text": [
            "Found 36 MIDI files\n"
          ]
        }
      ],
      "source": [
        "import glob\n",
        "\n",
        "# This pattern will match any .mid files in directories like /content/bwv1007, /content/bwv1008, etc.\n",
        "file_list = glob.glob(\"/content/bwv*/**/*.mid\", recursive=True)\n",
        "print(f\"Found {len(file_list)} MIDI files\")\n"
      ]
    },
    {
      "cell_type": "code",
      "execution_count": 19,
      "id": "b1ff575d-1632-43bf-844b-e5f2cea61454",
      "metadata": {
        "id": "b1ff575d-1632-43bf-844b-e5f2cea61454"
      },
      "outputs": [],
      "source": [
        "parser = music21.converter"
      ]
    },
    {
      "cell_type": "code",
      "execution_count": 20,
      "id": "b563da4f-0b08-4005-aa35-ca58a60a7def",
      "metadata": {
        "tags": [],
        "id": "b563da4f-0b08-4005-aa35-ca58a60a7def"
      },
      "outputs": [],
      "source": [
        "example_score = (\n",
        "    music21.converter.parse(file_list[1]).splitAtQuarterLength(12)[0].chordify()\n",
        ")"
      ]
    },
    {
      "cell_type": "code",
      "execution_count": 21,
      "id": "332bb057-d11d-41b3-9328-91dc7479a110",
      "metadata": {
        "colab": {
          "base_uri": "https://localhost:8080/",
          "height": 287
        },
        "id": "332bb057-d11d-41b3-9328-91dc7479a110",
        "outputId": "1a33087c-7e8b-4b75-f8c3-5bae4c3a2077"
      },
      "outputs": [
        {
          "output_type": "error",
          "ename": "SubConverterException",
          "evalue": "Cannot find a path to the 'mscore' file at /usr/bin/mscore3 -- download MuseScore",
          "traceback": [
            "\u001b[0;31m---------------------------------------------------------------------------\u001b[0m",
            "\u001b[0;31mSubConverterException\u001b[0m                     Traceback (most recent call last)",
            "\u001b[0;32m<ipython-input-21-5e38e4258984>\u001b[0m in \u001b[0;36m<cell line: 1>\u001b[0;34m()\u001b[0m\n\u001b[0;32m----> 1\u001b[0;31m \u001b[0mexample_score\u001b[0m\u001b[0;34m.\u001b[0m\u001b[0mshow\u001b[0m\u001b[0;34m(\u001b[0m\u001b[0;34m)\u001b[0m\u001b[0;34m\u001b[0m\u001b[0;34m\u001b[0m\u001b[0m\n\u001b[0m",
            "\u001b[0;32m/usr/local/lib/python3.10/dist-packages/music21/stream/base.py\u001b[0m in \u001b[0;36mshow\u001b[0;34m(self, fmt, app, **keywords)\u001b[0m\n\u001b[1;32m    410\u001b[0m         \u001b[0;32mif\u001b[0m \u001b[0mself\u001b[0m\u001b[0;34m.\u001b[0m\u001b[0misSorted\u001b[0m \u001b[0;32mis\u001b[0m \u001b[0;32mFalse\u001b[0m \u001b[0;32mand\u001b[0m \u001b[0mself\u001b[0m\u001b[0;34m.\u001b[0m\u001b[0mautoSort\u001b[0m\u001b[0;34m:\u001b[0m\u001b[0;34m\u001b[0m\u001b[0;34m\u001b[0m\u001b[0m\n\u001b[1;32m    411\u001b[0m             \u001b[0mself\u001b[0m\u001b[0;34m.\u001b[0m\u001b[0msort\u001b[0m\u001b[0;34m(\u001b[0m\u001b[0;34m)\u001b[0m\u001b[0;34m\u001b[0m\u001b[0;34m\u001b[0m\u001b[0m\n\u001b[0;32m--> 412\u001b[0;31m         \u001b[0;32mreturn\u001b[0m \u001b[0msuper\u001b[0m\u001b[0;34m(\u001b[0m\u001b[0;34m)\u001b[0m\u001b[0;34m.\u001b[0m\u001b[0mshow\u001b[0m\u001b[0;34m(\u001b[0m\u001b[0mfmt\u001b[0m\u001b[0;34m=\u001b[0m\u001b[0mfmt\u001b[0m\u001b[0;34m,\u001b[0m \u001b[0mapp\u001b[0m\u001b[0;34m=\u001b[0m\u001b[0mapp\u001b[0m\u001b[0;34m,\u001b[0m \u001b[0;34m**\u001b[0m\u001b[0mkeywords\u001b[0m\u001b[0;34m)\u001b[0m\u001b[0;34m\u001b[0m\u001b[0;34m\u001b[0m\u001b[0m\n\u001b[0m\u001b[1;32m    413\u001b[0m \u001b[0;34m\u001b[0m\u001b[0m\n\u001b[1;32m    414\u001b[0m     \u001b[0;31m# --------------------------------------------------------------------------\u001b[0m\u001b[0;34m\u001b[0m\u001b[0;34m\u001b[0m\u001b[0m\n",
            "\u001b[0;32m/usr/local/lib/python3.10/dist-packages/music21/base.py\u001b[0m in \u001b[0;36mshow\u001b[0;34m(self, fmt, app, **keywords)\u001b[0m\n\u001b[1;32m   2958\u001b[0m         \u001b[0mscClass\u001b[0m \u001b[0;34m=\u001b[0m \u001b[0mcommon\u001b[0m\u001b[0;34m.\u001b[0m\u001b[0mfindSubConverterForFormat\u001b[0m\u001b[0;34m(\u001b[0m\u001b[0mregularizedConverterFormat\u001b[0m\u001b[0;34m)\u001b[0m\u001b[0;34m\u001b[0m\u001b[0;34m\u001b[0m\u001b[0m\n\u001b[1;32m   2959\u001b[0m         \u001b[0mformatWriter\u001b[0m \u001b[0;34m=\u001b[0m \u001b[0mscClass\u001b[0m\u001b[0;34m(\u001b[0m\u001b[0;34m)\u001b[0m\u001b[0;34m\u001b[0m\u001b[0;34m\u001b[0m\u001b[0m\n\u001b[0;32m-> 2960\u001b[0;31m         return formatWriter.show(self,\n\u001b[0m\u001b[1;32m   2961\u001b[0m                                  \u001b[0mregularizedConverterFormat\u001b[0m\u001b[0;34m,\u001b[0m\u001b[0;34m\u001b[0m\u001b[0;34m\u001b[0m\u001b[0m\n\u001b[1;32m   2962\u001b[0m                                  \u001b[0mapp\u001b[0m\u001b[0;34m=\u001b[0m\u001b[0mapp\u001b[0m\u001b[0;34m,\u001b[0m\u001b[0;34m\u001b[0m\u001b[0;34m\u001b[0m\u001b[0m\n",
            "\u001b[0;32m/usr/local/lib/python3.10/dist-packages/music21/converter/subConverters.py\u001b[0m in \u001b[0;36mshow\u001b[0;34m(self, obj, fmt, app, subformats, **keywords)\u001b[0m\n\u001b[1;32m    381\u001b[0m \u001b[0;34m\u001b[0m\u001b[0m\n\u001b[1;32m    382\u001b[0m         \u001b[0;32mif\u001b[0m \u001b[0mhelperFormat\u001b[0m \u001b[0;32min\u001b[0m \u001b[0;34m(\u001b[0m\u001b[0;34m'musicxml'\u001b[0m\u001b[0;34m,\u001b[0m \u001b[0;34m'xml'\u001b[0m\u001b[0;34m,\u001b[0m \u001b[0;34m'lilypond'\u001b[0m\u001b[0;34m,\u001b[0m \u001b[0;34m'lily'\u001b[0m\u001b[0;34m)\u001b[0m\u001b[0;34m:\u001b[0m\u001b[0;34m\u001b[0m\u001b[0;34m\u001b[0m\u001b[0m\n\u001b[0;32m--> 383\u001b[0;31m             ip21_converters.showImageThroughMuseScore(\n\u001b[0m\u001b[1;32m    384\u001b[0m                 \u001b[0mobj\u001b[0m\u001b[0;34m,\u001b[0m\u001b[0;34m\u001b[0m\u001b[0;34m\u001b[0m\u001b[0m\n\u001b[1;32m    385\u001b[0m                 \u001b[0msubConverter\u001b[0m\u001b[0;34m=\u001b[0m\u001b[0mhelperSubConverter\u001b[0m\u001b[0;34m,\u001b[0m\u001b[0;34m\u001b[0m\u001b[0;34m\u001b[0m\u001b[0m\n",
            "\u001b[0;32m/usr/local/lib/python3.10/dist-packages/music21/ipython21/converters.py\u001b[0m in \u001b[0;36mshowImageThroughMuseScore\u001b[0;34m(obj, subConverter, fmt, subformats, multipageWidget, **keywords)\u001b[0m\n\u001b[1;32m     78\u001b[0m         \u001b[0;32mreturn\u001b[0m\u001b[0;34m\u001b[0m\u001b[0;34m\u001b[0m\u001b[0m\n\u001b[1;32m     79\u001b[0m \u001b[0;34m\u001b[0m\u001b[0m\n\u001b[0;32m---> 80\u001b[0;31m     fp = subConverter.write(\n\u001b[0m\u001b[1;32m     81\u001b[0m         \u001b[0mobj\u001b[0m\u001b[0;34m,\u001b[0m\u001b[0;34m\u001b[0m\u001b[0;34m\u001b[0m\u001b[0m\n\u001b[1;32m     82\u001b[0m         \u001b[0mfmt\u001b[0m\u001b[0;34m,\u001b[0m\u001b[0;34m\u001b[0m\u001b[0;34m\u001b[0m\u001b[0m\n",
            "\u001b[0;32m/usr/local/lib/python3.10/dist-packages/music21/converter/subConverters.py\u001b[0m in \u001b[0;36mwrite\u001b[0;34m(self, obj, fmt, fp, subformats, makeNotation, compress, **keywords)\u001b[0m\n\u001b[1;32m    989\u001b[0m                 and not str(environLocal['musescoreDirectPNGPath']).startswith('/skip')):\n\u001b[1;32m    990\u001b[0m             \u001b[0;32mfrom\u001b[0m \u001b[0mmusic21\u001b[0m\u001b[0;34m.\u001b[0m\u001b[0mconverter\u001b[0m\u001b[0;34m.\u001b[0m\u001b[0mmuseScore\u001b[0m \u001b[0;32mimport\u001b[0m \u001b[0mrunThroughMuseScore\u001b[0m\u001b[0;34m\u001b[0m\u001b[0;34m\u001b[0m\u001b[0m\n\u001b[0;32m--> 991\u001b[0;31m             \u001b[0moutFp\u001b[0m \u001b[0;34m=\u001b[0m \u001b[0mrunThroughMuseScore\u001b[0m\u001b[0;34m(\u001b[0m\u001b[0mxmlFp\u001b[0m\u001b[0;34m,\u001b[0m \u001b[0msubformats\u001b[0m\u001b[0;34m,\u001b[0m \u001b[0;34m**\u001b[0m\u001b[0mkeywords\u001b[0m\u001b[0;34m)\u001b[0m\u001b[0;34m\u001b[0m\u001b[0;34m\u001b[0m\u001b[0m\n\u001b[0m\u001b[1;32m    992\u001b[0m         \u001b[0;32melif\u001b[0m \u001b[0mcompress\u001b[0m\u001b[0;34m:\u001b[0m\u001b[0;34m\u001b[0m\u001b[0;34m\u001b[0m\u001b[0m\n\u001b[1;32m    993\u001b[0m             archiveTools.compressXML(xmlFp,\n",
            "\u001b[0;32m/usr/local/lib/python3.10/dist-packages/music21/converter/museScore.py\u001b[0m in \u001b[0;36mrunThroughMuseScore\u001b[0;34m(fp, subformats, dpi, trimEdges, leaveMargin, **keywords)\u001b[0m\n\u001b[1;32m     53\u001b[0m             + 'put a link to it in your .music21rc via Environment.')\n\u001b[1;32m     54\u001b[0m     \u001b[0;32mif\u001b[0m \u001b[0;32mnot\u001b[0m \u001b[0mmuseScorePath\u001b[0m\u001b[0;34m.\u001b[0m\u001b[0mexists\u001b[0m\u001b[0;34m(\u001b[0m\u001b[0;34m)\u001b[0m\u001b[0;34m:\u001b[0m\u001b[0;34m\u001b[0m\u001b[0;34m\u001b[0m\u001b[0m\n\u001b[0;32m---> 55\u001b[0;31m         raise SubConverterException(\n\u001b[0m\u001b[1;32m     56\u001b[0m             \u001b[0;34m\"Cannot find a path to the 'mscore' file at \"\u001b[0m\u001b[0;34m\u001b[0m\u001b[0;34m\u001b[0m\u001b[0m\n\u001b[1;32m     57\u001b[0m             + f'{museScorePath} -- download MuseScore')\n",
            "\u001b[0;31mSubConverterException\u001b[0m: Cannot find a path to the 'mscore' file at /usr/bin/mscore3 -- download MuseScore"
          ]
        }
      ],
      "source": [
        "example_score.show()"
      ]
    },
    {
      "source": [
        "import music21"
      ],
      "cell_type": "code",
      "metadata": {
        "id": "CoME_s4_Bv4H"
      },
      "id": "CoME_s4_Bv4H",
      "execution_count": 23,
      "outputs": []
    },
    {
      "source": [
        "!which mscore"
      ],
      "cell_type": "code",
      "metadata": {
        "id": "PgsnmoGTBxWE"
      },
      "id": "PgsnmoGTBxWE",
      "execution_count": 25,
      "outputs": []
    },
    {
      "cell_type": "code",
      "execution_count": 22,
      "id": "debce40c-2d56-4140-b65b-459c6464c1a7",
      "metadata": {
        "colab": {
          "base_uri": "https://localhost:8080/"
        },
        "id": "debce40c-2d56-4140-b65b-459c6464c1a7",
        "outputId": "a0a6929d-a1f4-4d6b-cf0a-2573dded6643"
      },
      "outputs": [
        {
          "output_type": "stream",
          "name": "stdout",
          "text": [
            "{0.0} <music21.metadata.Metadata object at 0x7dbe542f4310>\n",
            "{0.0} <music21.stream.Measure 1 offset=0.0>\n",
            "    {0.0} <music21.instrument.Violoncello 'Solo Cello: Solo Cello'>\n",
            "    {0.0} <music21.instrument.Violoncello 'Violoncello'>\n",
            "    {0.0} <music21.clef.BassClef>\n",
            "    {0.0} <music21.tempo.MetronomeMark largo Quarter=45>\n",
            "    {0.0} <music21.key.Key of F major>\n",
            "    {0.0} <music21.meter.TimeSignature 3/4>\n",
            "    {0.0} <music21.chord.Chord D3>\n",
            "    {0.5} <music21.chord.Chord F3>\n",
            "    {1.0} <music21.chord.Chord A3>\n",
            "    {2.25} <music21.chord.Chord F3>\n",
            "    {2.5} <music21.chord.Chord E3>\n",
            "    {2.75} <music21.chord.Chord D3>\n",
            "{3.0} <music21.stream.Measure 2 offset=3.0>\n",
            "    {0.0} <music21.chord.Chord C#3>\n",
            "    {0.25} <music21.chord.Chord E3>\n",
            "    {0.5} <music21.chord.Chord G3>\n",
            "    {0.75} <music21.chord.Chord A3>\n",
            "    {1.0} <music21.chord.Chord B-3>\n",
            "    {2.25} <music21.chord.Chord A3>\n",
            "    {2.5} <music21.chord.Chord G3>\n",
            "    {2.75} <music21.chord.Chord F3>\n",
            "{6.0} <music21.stream.Measure 3 offset=6.0>\n",
            "    {0.0} <music21.chord.Chord E3>\n",
            "    {0.25} <music21.chord.Chord G3>\n",
            "    {0.5} <music21.chord.Chord B-3>\n",
            "    {0.75} <music21.chord.Chord C#4>\n",
            "    {1.0} <music21.chord.Chord E4>\n",
            "    {1.75} <music21.chord.Chord B-3>\n",
            "    {2.0} <music21.chord.Chord A3>\n",
            "    {2.25} <music21.chord.Chord G3>\n",
            "    {2.5} <music21.chord.Chord F3>\n",
            "    {2.75} <music21.chord.Chord E3>\n",
            "{9.0} <music21.stream.Measure 4 offset=9.0>\n",
            "    {0.0} <music21.chord.Chord F3>\n",
            "    {0.25} <music21.chord.Chord G3>\n",
            "    {0.5} <music21.chord.Chord A3>\n",
            "    {0.75} <music21.chord.Chord F3>\n",
            "    {1.0} <music21.chord.Chord D3>\n",
            "    {1.5} <music21.chord.Chord C3>\n",
            "    {2.0} <music21.chord.Chord B-2>\n",
            "    {2.5} <music21.chord.Chord A2>\n"
          ]
        }
      ],
      "source": [
        "example_score.show(\"text\")"
      ]
    },
    {
      "cell_type": "code",
      "execution_count": 27,
      "id": "77459313-2417-4c18-b938-3a9859ec9bd9",
      "metadata": {
        "tags": [],
        "colab": {
          "base_uri": "https://localhost:8080/"
        },
        "id": "77459313-2417-4c18-b938-3a9859ec9bd9",
        "outputId": "12af7d72-1307-4b7d-b8ce-49f8efb7e5fb"
      },
      "outputs": [
        {
          "output_type": "stream",
          "name": "stdout",
          "text": [
            "1 Parsing /content/bwv1008/cs2-6gig.mid\n"
          ]
        },
        {
          "output_type": "stream",
          "name": "stderr",
          "text": [
            "<ipython-input-27-1f04502ee305>:10: Music21DeprecationWarning: .flat is deprecated.  Call .flatten() instead\n",
            "  notes, durations = parse_midi_files(\n"
          ]
        },
        {
          "output_type": "stream",
          "name": "stdout",
          "text": [
            "735 notes parsed\n",
            "2 Parsing /content/bwv1008/cs2-1pre.mid\n",
            "1373 notes parsed\n",
            "3 Parsing /content/bwv1008/cs2-2all.mid\n",
            "2066 notes parsed\n",
            "4 Parsing /content/bwv1008/cs2-4sar.mid\n",
            "2403 notes parsed\n",
            "5 Parsing /content/bwv1008/cs2-3cou.mid\n",
            "3144 notes parsed\n",
            "6 Parsing /content/bwv1008/cs2-5men.mid\n",
            "3671 notes parsed\n",
            "7 Parsing /content/bwv1012/cs6-6gig.mid\n",
            "4843 notes parsed\n",
            "8 Parsing /content/bwv1012/cs6-2all.mid\n",
            "5528 notes parsed\n",
            "9 Parsing /content/bwv1012/cs6-5gav.mid\n",
            "6334 notes parsed\n",
            "10 Parsing /content/bwv1012/cs6-4sar.mid\n",
            "6669 notes parsed\n",
            "11 Parsing /content/bwv1012/cs6-1pre.mid\n",
            "8011 notes parsed\n",
            "12 Parsing /content/bwv1012/cs6-3cou.mid\n",
            "9297 notes parsed\n",
            "13 Parsing /content/bwv1007/cs1-2all.mid\n",
            "10218 notes parsed\n",
            "14 Parsing /content/bwv1007/cs1-5men.mid\n",
            "10865 notes parsed\n",
            "15 Parsing /content/bwv1007/cs1-3cou.mid\n",
            "11685 notes parsed\n",
            "16 Parsing /content/bwv1007/cs1-6gig.mid\n",
            "12111 notes parsed\n",
            "17 Parsing /content/bwv1007/cs1-1pre.mid\n",
            "12769 notes parsed\n",
            "18 Parsing /content/bwv1007/cs1-4sar.mid\n",
            "13032 notes parsed\n",
            "19 Parsing /content/bwv1011/cs5-2all.mid\n",
            "13724 notes parsed\n",
            "20 Parsing /content/bwv1011/cs5-4sar.mid\n",
            "13943 notes parsed\n",
            "21 Parsing /content/bwv1011/cs5-1pre.mid\n",
            "15252 notes parsed\n",
            "22 Parsing /content/bwv1011/cs5-5gav.mid\n",
            "16454 notes parsed\n",
            "23 Parsing /content/bwv1011/cs5-3cou.mid\n",
            "16884 notes parsed\n",
            "24 Parsing /content/bwv1011/cs5-6gig.mid\n",
            "17333 notes parsed\n",
            "25 Parsing /content/bwv1009/cs3-5bou.mid\n",
            "18214 notes parsed\n",
            "26 Parsing /content/bwv1009/cs3-6gig.mid\n",
            "19175 notes parsed\n",
            "27 Parsing /content/bwv1009/cs3-2all.mid\n",
            "19912 notes parsed\n",
            "28 Parsing /content/bwv1009/cs3-3cou.mid\n",
            "20901 notes parsed\n",
            "29 Parsing /content/bwv1009/cs3-1pre.mid\n",
            "21882 notes parsed\n",
            "30 Parsing /content/bwv1009/cs3-4sar.mid\n",
            "22223 notes parsed\n",
            "31 Parsing /content/bwv1010/cs4-1pre.mid\n",
            "23040 notes parsed\n",
            "32 Parsing /content/bwv1010/cs4-2all.mid\n",
            "24095 notes parsed\n",
            "33 Parsing /content/bwv1010/cs4-4sar.mid\n",
            "24415 notes parsed\n",
            "34 Parsing /content/bwv1010/cs4-6gig.mid\n",
            "25386 notes parsed\n",
            "35 Parsing /content/bwv1010/cs4-3cou.mid\n",
            "26308 notes parsed\n",
            "36 Parsing /content/bwv1010/cs4-5bou.mid\n",
            "27632 notes parsed\n",
            "Building sequences of length 51\n"
          ]
        }
      ],
      "source": [
        "import os\n",
        "\n",
        "# Define the path to save parsed data within the Colab environment\n",
        "PARSED_DATA_PATH = \"/content/parsed_data/\"\n",
        "\n",
        "# Create the directory if it does not exist\n",
        "os.makedirs(PARSED_DATA_PATH, exist_ok=True)\n",
        "\n",
        "if PARSE_MIDI_FILES:\n",
        "    notes, durations = parse_midi_files(\n",
        "        file_list, parser, SEQ_LEN + 1, PARSED_DATA_PATH\n",
        "    )\n",
        "else:\n",
        "    notes, durations = load_parsed_files()\n"
      ]
    },
    {
      "cell_type": "code",
      "execution_count": 28,
      "id": "99f17b33-193e-4d83-8e0a-54dc8e7b249d",
      "metadata": {
        "colab": {
          "base_uri": "https://localhost:8080/"
        },
        "id": "99f17b33-193e-4d83-8e0a-54dc8e7b249d",
        "outputId": "8252e61b-d047-4a93-ac85-dfa41dfce42a"
      },
      "outputs": [
        {
          "output_type": "stream",
          "name": "stdout",
          "text": [
            "\n",
            "Notes string\n",
            " G3 E3 D3 E3 F3 D3 G3 E3 D3 E3 F3 D3 G3 E3 C#3 B-3 A3 G3 F3 E3 F2 A3 G3 F3 E3 C#3 D3 B-2 A2 G2 A2 F2 D2 A2 D3 E3 F3 D3 E-3 F3 G3 E-3 F3 D3 G3 A3 B-3 G3 A3 F3 E-3 ...\n",
            "\n",
            "Duration string\n",
            " 0.25 0.25 0.25 0.25 0.25 0.25 0.25 0.25 0.25 0.25 0.25 0.25 0.25 0.25 0.25 0.25 0.25 0.25 0.25 0.25 0.25 0.25 0.25 0.25 0.25 0.25 0.25 0.25 0.25 0.25 0.25 0.25 0.25 0.25 0.25 0.25 0.25 0.25 0.25 0.25 0.25 0.25 0.25 0.25 0.25 0.25 0.25 0.25 0.25 0.25 0.25 ...\n"
          ]
        }
      ],
      "source": [
        "example_notes = notes[658]\n",
        "example_durations = durations[658]\n",
        "print(\"\\nNotes string\\n\", example_notes, \"...\")\n",
        "print(\"\\nDuration string\\n\", example_durations, \"...\")"
      ]
    },
    {
      "cell_type": "markdown",
      "id": "aba2f39c-882f-423a-88eb-334502413639",
      "metadata": {
        "id": "aba2f39c-882f-423a-88eb-334502413639"
      },
      "source": [
        "## 2. Tokenize the data <a name=\"tokenize\"></a>"
      ]
    },
    {
      "cell_type": "code",
      "execution_count": 29,
      "id": "244e093e-b977-4b1f-8f46-6503a55ea0fe",
      "metadata": {
        "id": "244e093e-b977-4b1f-8f46-6503a55ea0fe"
      },
      "outputs": [],
      "source": [
        "def create_dataset(elements):\n",
        "    ds = (\n",
        "        tf.data.Dataset.from_tensor_slices(elements)\n",
        "        .batch(BATCH_SIZE, drop_remainder=True)\n",
        "        .shuffle(1000)\n",
        "    )\n",
        "    vectorize_layer = layers.TextVectorization(\n",
        "        standardize=None, output_mode=\"int\"\n",
        "    )\n",
        "    vectorize_layer.adapt(ds)\n",
        "    vocab = vectorize_layer.get_vocabulary()\n",
        "    return ds, vectorize_layer, vocab\n",
        "\n",
        "\n",
        "notes_seq_ds, notes_vectorize_layer, notes_vocab = create_dataset(notes)\n",
        "durations_seq_ds, durations_vectorize_layer, durations_vocab = create_dataset(\n",
        "    durations\n",
        ")\n",
        "seq_ds = tf.data.Dataset.zip((notes_seq_ds, durations_seq_ds))"
      ]
    },
    {
      "cell_type": "code",
      "execution_count": 30,
      "id": "9ec4d36c-a4ad-4c32-89a2-749c21786441",
      "metadata": {
        "colab": {
          "base_uri": "https://localhost:8080/"
        },
        "id": "9ec4d36c-a4ad-4c32-89a2-749c21786441",
        "outputId": "1b7febf2-d249-4432-e980-cbc757307541"
      },
      "outputs": [
        {
          "output_type": "stream",
          "name": "stdout",
          "text": [
            "note token duration token\n",
            "         2         2\n",
            "         8         2\n",
            "         4         2\n",
            "         8         2\n",
            "         5         2\n",
            "         4         2\n",
            "         2         2\n",
            "         8         2\n",
            "         4         2\n",
            "         8         2\n",
            "         5         2\n"
          ]
        }
      ],
      "source": [
        "# Display the same example notes and durations converted to ints\n",
        "example_tokenised_notes = notes_vectorize_layer(example_notes)\n",
        "example_tokenised_durations = durations_vectorize_layer(example_durations)\n",
        "print(\"{:10} {:10}\".format(\"note token\", \"duration token\"))\n",
        "for i, (note_int, duration_int) in enumerate(\n",
        "    zip(\n",
        "        example_tokenised_notes.numpy()[:11],\n",
        "        example_tokenised_durations.numpy()[:11],\n",
        "    )\n",
        "):\n",
        "    print(f\"{note_int:10}{duration_int:10}\")"
      ]
    },
    {
      "cell_type": "code",
      "execution_count": 31,
      "id": "8dc29b17-1591-4b02-98e1-7f25960350be",
      "metadata": {
        "colab": {
          "base_uri": "https://localhost:8080/"
        },
        "id": "8dc29b17-1591-4b02-98e1-7f25960350be",
        "outputId": "56dd7ccd-4c5e-410a-8ca6-29db42510cf2"
      },
      "outputs": [
        {
          "output_type": "stream",
          "name": "stdout",
          "text": [
            "\n",
            "NOTES_VOCAB: length = 59\n",
            "0: \n",
            "1: [UNK]\n",
            "2: G3\n",
            "3: A3\n",
            "4: D3\n",
            "5: F3\n",
            "6: C4\n",
            "7: D4\n",
            "8: E3\n",
            "9: B3\n",
            "\n",
            "DURATIONS_VOCAB: length = 24\n",
            "0: \n",
            "1: [UNK]\n",
            "2: 0.25\n",
            "3: 0.5\n",
            "4: 1.0\n",
            "5: 1/3\n",
            "6: 0.75\n",
            "7: 1/12\n",
            "8: 1.5\n",
            "9: 0.0\n"
          ]
        }
      ],
      "source": [
        "notes_vocab_size = len(notes_vocab)\n",
        "durations_vocab_size = len(durations_vocab)\n",
        "\n",
        "# Display some token:note mappings\n",
        "print(f\"\\nNOTES_VOCAB: length = {len(notes_vocab)}\")\n",
        "for i, note in enumerate(notes_vocab[:10]):\n",
        "    print(f\"{i}: {note}\")\n",
        "\n",
        "print(f\"\\nDURATIONS_VOCAB: length = {len(durations_vocab)}\")\n",
        "# Display some token:duration mappings\n",
        "for i, note in enumerate(durations_vocab[:10]):\n",
        "    print(f\"{i}: {note}\")"
      ]
    },
    {
      "cell_type": "markdown",
      "id": "823fb0c1-ebf8-453b-be94-9a33b466cae4",
      "metadata": {
        "id": "823fb0c1-ebf8-453b-be94-9a33b466cae4"
      },
      "source": [
        "## 3. Create the Training Set <a name=\"create\"></a>"
      ]
    },
    {
      "cell_type": "code",
      "execution_count": 32,
      "id": "8f0f2a52-b157-478d-8de7-11ed6c383461",
      "metadata": {
        "tags": [],
        "id": "8f0f2a52-b157-478d-8de7-11ed6c383461"
      },
      "outputs": [],
      "source": [
        "# Create the training set of sequences and the same sequences shifted by one note\n",
        "def prepare_inputs(notes, durations):\n",
        "    notes = tf.expand_dims(notes, -1)\n",
        "    durations = tf.expand_dims(durations, -1)\n",
        "    tokenized_notes = notes_vectorize_layer(notes)\n",
        "    tokenized_durations = durations_vectorize_layer(durations)\n",
        "    x = (tokenized_notes[:, :-1], tokenized_durations[:, :-1])\n",
        "    y = (tokenized_notes[:, 1:], tokenized_durations[:, 1:])\n",
        "    return x, y\n",
        "\n",
        "\n",
        "ds = seq_ds.map(prepare_inputs).repeat(DATASET_REPETITIONS)"
      ]
    },
    {
      "cell_type": "code",
      "execution_count": 33,
      "id": "78248965-1716-4077-8db4-191e98c7a6a5",
      "metadata": {
        "colab": {
          "base_uri": "https://localhost:8080/"
        },
        "id": "78248965-1716-4077-8db4-191e98c7a6a5",
        "outputId": "89fccc29-9494-458a-eb98-aa76b5d3f375"
      },
      "outputs": [
        {
          "output_type": "stream",
          "name": "stdout",
          "text": [
            "((<tf.Tensor: shape=(256, 50), dtype=int64, numpy=\n",
            "array([[ 9,  6,  3, ..., 19,  4,  8],\n",
            "       [ 6,  3,  2, ...,  4,  8,  5],\n",
            "       [ 3,  2,  8, ...,  8,  5, 26],\n",
            "       ...,\n",
            "       [12,  8,  4, ...,  8,  4, 13],\n",
            "       [ 8,  4, 12, ...,  4, 13, 18],\n",
            "       [ 4, 12, 13, ..., 13, 18,  4]])>, <tf.Tensor: shape=(256, 50), dtype=int64, numpy=\n",
            "array([[2, 2, 2, ..., 3, 3, 3],\n",
            "       [2, 2, 2, ..., 3, 3, 3],\n",
            "       [2, 2, 2, ..., 3, 3, 4],\n",
            "       ...,\n",
            "       [2, 2, 2, ..., 3, 3, 3],\n",
            "       [2, 2, 2, ..., 3, 3, 2],\n",
            "       [2, 2, 2, ..., 3, 2, 2]])>), (<tf.Tensor: shape=(256, 50), dtype=int64, numpy=\n",
            "array([[ 6,  3,  2, ...,  4,  8,  5],\n",
            "       [ 3,  2,  8, ...,  8,  5, 26],\n",
            "       [ 2,  8, 13, ...,  5, 26,  5],\n",
            "       ...,\n",
            "       [ 8,  4, 12, ...,  4, 13, 18],\n",
            "       [ 4, 12, 13, ..., 13, 18,  4],\n",
            "       [12, 13, 12, ..., 18,  4, 19]])>, <tf.Tensor: shape=(256, 50), dtype=int64, numpy=\n",
            "array([[2, 2, 2, ..., 3, 3, 3],\n",
            "       [2, 2, 2, ..., 3, 3, 4],\n",
            "       [2, 2, 2, ..., 3, 4, 3],\n",
            "       ...,\n",
            "       [2, 2, 2, ..., 3, 3, 2],\n",
            "       [2, 2, 2, ..., 3, 2, 2],\n",
            "       [2, 2, 2, ..., 2, 2, 3]])>))\n"
          ]
        }
      ],
      "source": [
        "example_input_output = ds.take(1).get_single_element()\n",
        "print(example_input_output)"
      ]
    },
    {
      "cell_type": "markdown",
      "id": "5bb6376b-c4f9-4946-a736-94f1739c3149",
      "metadata": {
        "id": "5bb6376b-c4f9-4946-a736-94f1739c3149"
      },
      "source": [
        "## 5. Create the causal attention mask function <a name=\"causal\"></a>"
      ]
    },
    {
      "cell_type": "code",
      "execution_count": 34,
      "id": "afb6fa02-3b59-48eb-bcef-d51c9d32ec18",
      "metadata": {
        "colab": {
          "base_uri": "https://localhost:8080/"
        },
        "id": "afb6fa02-3b59-48eb-bcef-d51c9d32ec18",
        "outputId": "2a5118a7-e48a-4db2-a4db-f5de8235c1f0"
      },
      "outputs": [
        {
          "output_type": "execute_result",
          "data": {
            "text/plain": [
              "array([[1, 1, 1, 1, 1, 1, 1, 1, 1, 1],\n",
              "       [0, 1, 1, 1, 1, 1, 1, 1, 1, 1],\n",
              "       [0, 0, 1, 1, 1, 1, 1, 1, 1, 1],\n",
              "       [0, 0, 0, 1, 1, 1, 1, 1, 1, 1],\n",
              "       [0, 0, 0, 0, 1, 1, 1, 1, 1, 1],\n",
              "       [0, 0, 0, 0, 0, 1, 1, 1, 1, 1],\n",
              "       [0, 0, 0, 0, 0, 0, 1, 1, 1, 1],\n",
              "       [0, 0, 0, 0, 0, 0, 0, 1, 1, 1],\n",
              "       [0, 0, 0, 0, 0, 0, 0, 0, 1, 1],\n",
              "       [0, 0, 0, 0, 0, 0, 0, 0, 0, 1]], dtype=int32)"
            ]
          },
          "metadata": {},
          "execution_count": 34
        }
      ],
      "source": [
        "def causal_attention_mask(batch_size, n_dest, n_src, dtype):\n",
        "    i = tf.range(n_dest)[:, None]\n",
        "    j = tf.range(n_src)\n",
        "    m = i >= j - n_src + n_dest\n",
        "    mask = tf.cast(m, dtype)\n",
        "    mask = tf.reshape(mask, [1, n_dest, n_src])\n",
        "    mult = tf.concat(\n",
        "        [tf.expand_dims(batch_size, -1), tf.constant([1, 1], dtype=tf.int32)], 0\n",
        "    )\n",
        "    return tf.tile(mask, mult)\n",
        "\n",
        "\n",
        "np.transpose(causal_attention_mask(1, 10, 10, dtype=tf.int32)[0])"
      ]
    },
    {
      "cell_type": "markdown",
      "id": "52210a38-c8b4-4da7-90ce-eaa89c8fcafa",
      "metadata": {
        "id": "52210a38-c8b4-4da7-90ce-eaa89c8fcafa"
      },
      "source": [
        "## 6. Create a Transformer Block layer <a name=\"transformer\"></a>"
      ]
    },
    {
      "cell_type": "code",
      "execution_count": 35,
      "id": "bc3f25e8-4e3f-4849-9b92-676ea46e3ed2",
      "metadata": {
        "id": "bc3f25e8-4e3f-4849-9b92-676ea46e3ed2"
      },
      "outputs": [],
      "source": [
        "class TransformerBlock(layers.Layer):\n",
        "    def __init__(\n",
        "        self,\n",
        "        num_heads,\n",
        "        key_dim,\n",
        "        embed_dim,\n",
        "        ff_dim,\n",
        "        name,\n",
        "        dropout_rate=DROPOUT_RATE,\n",
        "    ):\n",
        "        super(TransformerBlock, self).__init__(name=name)\n",
        "        self.num_heads = num_heads\n",
        "        self.key_dim = key_dim\n",
        "        self.embed_dim = embed_dim\n",
        "        self.ff_dim = ff_dim\n",
        "        self.dropout_rate = dropout_rate\n",
        "        self.attn = layers.MultiHeadAttention(\n",
        "            num_heads, key_dim, output_shape=embed_dim\n",
        "        )\n",
        "        self.dropout_1 = layers.Dropout(self.dropout_rate)\n",
        "        self.ln_1 = layers.LayerNormalization(epsilon=1e-6)\n",
        "        self.ffn_1 = layers.Dense(self.ff_dim, activation=\"relu\")\n",
        "        self.ffn_2 = layers.Dense(self.embed_dim)\n",
        "        self.dropout_2 = layers.Dropout(self.dropout_rate)\n",
        "        self.ln_2 = layers.LayerNormalization(epsilon=1e-6)\n",
        "\n",
        "    def call(self, inputs):\n",
        "        input_shape = tf.shape(inputs)\n",
        "        batch_size = input_shape[0]\n",
        "        seq_len = input_shape[1]\n",
        "        causal_mask = causal_attention_mask(\n",
        "            batch_size, seq_len, seq_len, tf.bool\n",
        "        )\n",
        "        attention_output, attention_scores = self.attn(\n",
        "            inputs,\n",
        "            inputs,\n",
        "            attention_mask=causal_mask,\n",
        "            return_attention_scores=True,\n",
        "        )\n",
        "        attention_output = self.dropout_1(attention_output)\n",
        "        out1 = self.ln_1(inputs + attention_output)\n",
        "        ffn_1 = self.ffn_1(out1)\n",
        "        ffn_2 = self.ffn_2(ffn_1)\n",
        "        ffn_output = self.dropout_2(ffn_2)\n",
        "        return (self.ln_2(out1 + ffn_output), attention_scores)\n",
        "\n",
        "    def get_config(self):\n",
        "        config = super().get_config()\n",
        "        config.update(\n",
        "            {\n",
        "                \"key_dim\": self.key_dim,\n",
        "                \"embed_dim\": self.embed_dim,\n",
        "                \"num_heads\": self.num_heads,\n",
        "                \"ff_dim\": self.ff_dim,\n",
        "                \"dropout_rate\": self.dropout_rate,\n",
        "            }\n",
        "        )\n",
        "        return config"
      ]
    },
    {
      "cell_type": "markdown",
      "id": "37ee1198-3bfc-415a-b247-02b8166133fe",
      "metadata": {
        "id": "37ee1198-3bfc-415a-b247-02b8166133fe"
      },
      "source": [
        "## 7. Create the Token and Position Embedding <a name=\"embedder\"></a>"
      ]
    },
    {
      "cell_type": "code",
      "execution_count": 36,
      "id": "d7e30225-7fea-4a3c-afbc-b0017d5da661",
      "metadata": {
        "id": "d7e30225-7fea-4a3c-afbc-b0017d5da661"
      },
      "outputs": [],
      "source": [
        "class TokenAndPositionEmbedding(layers.Layer):\n",
        "    def __init__(self, vocab_size, embed_dim):\n",
        "        super(TokenAndPositionEmbedding, self).__init__()\n",
        "        self.vocab_size = vocab_size\n",
        "        self.embed_dim = embed_dim\n",
        "        self.token_emb = layers.Embedding(\n",
        "            input_dim=vocab_size,\n",
        "            output_dim=embed_dim,\n",
        "            embeddings_initializer=\"he_uniform\",\n",
        "        )\n",
        "        self.pos_emb = SinePositionEncoding()\n",
        "\n",
        "    def call(self, x):\n",
        "        embedding = self.token_emb(x)\n",
        "        positions = self.pos_emb(embedding)\n",
        "        return embedding + positions\n",
        "\n",
        "    def get_config(self):\n",
        "        config = super().get_config()\n",
        "        config.update(\n",
        "            {\n",
        "                \"vocab_size\": self.vocab_size,\n",
        "                \"embed_dim\": self.embed_dim,\n",
        "            }\n",
        "        )\n",
        "        return config"
      ]
    },
    {
      "cell_type": "code",
      "execution_count": 37,
      "id": "96ec1c62-c375-4831-99f3-d313f98f39b6",
      "metadata": {
        "colab": {
          "base_uri": "https://localhost:8080/",
          "height": 1000
        },
        "id": "96ec1c62-c375-4831-99f3-d313f98f39b6",
        "outputId": "a7570872-3a24-483d-b9ce-d5578bed9f02"
      },
      "outputs": [
        {
          "output_type": "display_data",
          "data": {
            "text/plain": [
              "<Figure size 640x480 with 1 Axes>"
            ],
            "image/png": "[encoded data removed]"
          },
          "metadata": {
            "image/png": {
              "width": 547,
              "height": 354
            }
          }
        },
        {
          "output_type": "display_data",
          "data": {
            "text/plain": [
              "<Figure size 640x480 with 1 Axes>"
            ],
            "image/png": "[encoded data removed]"
          },
          "metadata": {
            "image/png": {
              "width": 547,
              "height": 354
            }
          }
        },
        {
          "output_type": "display_data",
          "data": {
            "text/plain": [
              "<Figure size 640x480 with 1 Axes>"
            ],
            "image/png": "[encoded data removed]"
          },
          "metadata": {
            "image/png": {
              "width": 547,
              "height": 354
            }
          }
        }
      ],
      "source": [
        "tpe = TokenAndPositionEmbedding(notes_vocab_size, 32)\n",
        "token_embedding = tpe.token_emb(example_tokenised_notes)\n",
        "position_embedding = tpe.pos_emb(token_embedding)\n",
        "embedding = tpe(example_tokenised_notes)\n",
        "plt.imshow(\n",
        "    np.transpose(token_embedding),\n",
        "    cmap=\"coolwarm\",\n",
        "    interpolation=\"nearest\",\n",
        "    origin=\"lower\",\n",
        ")\n",
        "plt.show()\n",
        "plt.imshow(\n",
        "    np.transpose(position_embedding),\n",
        "    cmap=\"coolwarm\",\n",
        "    interpolation=\"nearest\",\n",
        "    origin=\"lower\",\n",
        ")\n",
        "plt.show()\n",
        "plt.imshow(\n",
        "    np.transpose(embedding),\n",
        "    cmap=\"coolwarm\",\n",
        "    interpolation=\"nearest\",\n",
        "    origin=\"lower\",\n",
        ")\n",
        "plt.show()"
      ]
    },
    {
      "cell_type": "markdown",
      "id": "fee70157-5cb1-466c-bb9d-ba4720a93173",
      "metadata": {
        "id": "fee70157-5cb1-466c-bb9d-ba4720a93173"
      },
      "source": [
        "## 8. Build the Transformer model <a name=\"transformer_decoder\"></a>"
      ]
    },
    {
      "cell_type": "code",
      "execution_count": 38,
      "id": "df56f070-228b-4364-94ae-5b6a12349960",
      "metadata": {
        "id": "df56f070-228b-4364-94ae-5b6a12349960"
      },
      "outputs": [],
      "source": [
        "note_inputs = layers.Input(shape=(None,), dtype=tf.int32)\n",
        "durations_inputs = layers.Input(shape=(None,), dtype=tf.int32)\n",
        "note_embeddings = TokenAndPositionEmbedding(\n",
        "    notes_vocab_size, EMBEDDING_DIM // 2\n",
        ")(note_inputs)\n",
        "duration_embeddings = TokenAndPositionEmbedding(\n",
        "    durations_vocab_size, EMBEDDING_DIM // 2\n",
        ")(durations_inputs)\n",
        "embeddings = layers.Concatenate()([note_embeddings, duration_embeddings])\n",
        "x, attention_scores = TransformerBlock(\n",
        "    N_HEADS, KEY_DIM, EMBEDDING_DIM, FEED_FORWARD_DIM, name=\"attention\"\n",
        ")(embeddings)\n",
        "note_outputs = layers.Dense(\n",
        "    notes_vocab_size, activation=\"softmax\", name=\"note_outputs\"\n",
        ")(x)\n",
        "duration_outputs = layers.Dense(\n",
        "    durations_vocab_size, activation=\"softmax\", name=\"duration_outputs\"\n",
        ")(x)\n",
        "model = models.Model(\n",
        "    inputs=[note_inputs, durations_inputs],\n",
        "    outputs=[note_outputs, duration_outputs],  # attention_scores\n",
        ")\n",
        "model.compile(\n",
        "    \"adam\",\n",
        "    loss=[\n",
        "        losses.SparseCategoricalCrossentropy(),\n",
        "        losses.SparseCategoricalCrossentropy(),\n",
        "    ],\n",
        ")\n",
        "att_model = models.Model(\n",
        "    inputs=[note_inputs, durations_inputs], outputs=attention_scores\n",
        ")"
      ]
    },
    {
      "cell_type": "code",
      "execution_count": 39,
      "id": "eddbcc80-d0e9-41f0-bd70-032d489369b4",
      "metadata": {
        "colab": {
          "base_uri": "https://localhost:8080/"
        },
        "id": "eddbcc80-d0e9-41f0-bd70-032d489369b4",
        "outputId": "4d58c1cb-4dd5-4204-e61d-663ebfdedf58"
      },
      "outputs": [
        {
          "output_type": "stream",
          "name": "stdout",
          "text": [
            "Model: \"model\"\n",
            "__________________________________________________________________________________________________\n",
            " Layer (type)                Output Shape                 Param #   Connected to                  \n",
            "==================================================================================================\n",
            " input_1 (InputLayer)        [(None, None)]               0         []                            \n",
            "                                                                                                  \n",
            " input_2 (InputLayer)        [(None, None)]               0         []                            \n",
            "                                                                                                  \n",
            " token_and_position_embeddi  (None, None, 128)            7552      ['input_1[0][0]']             \n",
            " ng_1 (TokenAndPositionEmbe                                                                       \n",
            " dding)                                                                                           \n",
            "                                                                                                  \n",
            " token_and_position_embeddi  (None, None, 128)            3072      ['input_2[0][0]']             \n",
            " ng_2 (TokenAndPositionEmbe                                                                       \n",
            " dding)                                                                                           \n",
            "                                                                                                  \n",
            " concatenate (Concatenate)   (None, None, 256)            0         ['token_and_position_embedding\n",
            "                                                                    _1[0][0]',                    \n",
            "                                                                     'token_and_position_embedding\n",
            "                                                                    _2[0][0]']                    \n",
            "                                                                                                  \n",
            " attention (TransformerBloc  ((None, None, 256),          1447424   ['concatenate[0][0]']         \n",
            " k)                           (None, 5, None, None))                                              \n",
            "                                                                                                  \n",
            " note_outputs (Dense)        (None, None, 59)             15163     ['attention[0][0]']           \n",
            "                                                                                                  \n",
            " duration_outputs (Dense)    (None, None, 24)             6168      ['attention[0][0]']           \n",
            "                                                                                                  \n",
            "==================================================================================================\n",
            "Total params: 1479379 (5.64 MB)\n",
            "Trainable params: 1479379 (5.64 MB)\n",
            "Non-trainable params: 0 (0.00 Byte)\n",
            "__________________________________________________________________________________________________\n"
          ]
        }
      ],
      "source": [
        "model.summary()"
      ]
    },
    {
      "cell_type": "code",
      "execution_count": 40,
      "id": "b51a1dbc-7185-43ab-b9f9-834d267c99a0",
      "metadata": {
        "id": "b51a1dbc-7185-43ab-b9f9-834d267c99a0"
      },
      "outputs": [],
      "source": [
        "if LOAD_MODEL:\n",
        "    model.load_weights(\"./checkpoint/checkpoint.ckpt\")\n",
        "    # model = models.load_model('./models/model', compile=True)"
      ]
    },
    {
      "cell_type": "markdown",
      "id": "afeab12c-b871-47c0-884c-752238b9f719",
      "metadata": {
        "id": "afeab12c-b871-47c0-884c-752238b9f719"
      },
      "source": [
        "## 9. Train the Transformer <a name=\"train\"></a>"
      ]
    },
    {
      "cell_type": "code",
      "execution_count": 41,
      "id": "a2003f19-610a-4acb-a225-0f6c1a3d3a1f",
      "metadata": {
        "id": "a2003f19-610a-4acb-a225-0f6c1a3d3a1f"
      },
      "outputs": [],
      "source": [
        "# Create a MusicGenerator checkpoint\n",
        "class MusicGenerator(callbacks.Callback):\n",
        "    def __init__(self, index_to_note, index_to_duration, top_k=10):\n",
        "        self.index_to_note = index_to_note\n",
        "        self.note_to_index = {\n",
        "            note: index for index, note in enumerate(index_to_note)\n",
        "        }\n",
        "        self.index_to_duration = index_to_duration\n",
        "        self.duration_to_index = {\n",
        "            duration: index for index, duration in enumerate(index_to_duration)\n",
        "        }\n",
        "\n",
        "    def sample_from(self, probs, temperature):\n",
        "        probs = probs ** (1 / temperature)\n",
        "        probs = probs / np.sum(probs)\n",
        "        return np.random.choice(len(probs), p=probs), probs\n",
        "\n",
        "    def get_note(self, notes, durations, temperature):\n",
        "        sample_note_idx = 1\n",
        "        while sample_note_idx == 1:\n",
        "            sample_note_idx, note_probs = self.sample_from(\n",
        "                notes[0][-1], temperature\n",
        "            )\n",
        "            sample_note = self.index_to_note[sample_note_idx]\n",
        "\n",
        "        sample_duration_idx = 1\n",
        "        while sample_duration_idx == 1:\n",
        "            sample_duration_idx, duration_probs = self.sample_from(\n",
        "                durations[0][-1], temperature\n",
        "            )\n",
        "            sample_duration = self.index_to_duration[sample_duration_idx]\n",
        "\n",
        "        new_note = get_midi_note(sample_note, sample_duration)\n",
        "\n",
        "        return (\n",
        "            new_note,\n",
        "            sample_note_idx,\n",
        "            sample_note,\n",
        "            note_probs,\n",
        "            sample_duration_idx,\n",
        "            sample_duration,\n",
        "            duration_probs,\n",
        "        )\n",
        "\n",
        "    def generate(self, start_notes, start_durations, max_tokens, temperature):\n",
        "        attention_model = models.Model(\n",
        "            inputs=self.model.input,\n",
        "            outputs=self.model.get_layer(\"attention\").output,\n",
        "        )\n",
        "\n",
        "        start_note_tokens = [self.note_to_index.get(x, 1) for x in start_notes]\n",
        "        start_duration_tokens = [\n",
        "            self.duration_to_index.get(x, 1) for x in start_durations\n",
        "        ]\n",
        "        sample_note = None\n",
        "        sample_duration = None\n",
        "        info = []\n",
        "        midi_stream = music21.stream.Stream()\n",
        "\n",
        "        midi_stream.append(music21.clef.BassClef())\n",
        "\n",
        "        for sample_note, sample_duration in zip(start_notes, start_durations):\n",
        "            new_note = get_midi_note(sample_note, sample_duration)\n",
        "            if new_note is not None:\n",
        "                midi_stream.append(new_note)\n",
        "\n",
        "        while len(start_note_tokens) < max_tokens:\n",
        "            x1 = np.array([start_note_tokens])\n",
        "            x2 = np.array([start_duration_tokens])\n",
        "            notes, durations = self.model.predict([x1, x2], verbose=0)\n",
        "\n",
        "            repeat = True\n",
        "\n",
        "            while repeat:\n",
        "                (\n",
        "                    new_note,\n",
        "                    sample_note_idx,\n",
        "                    sample_note,\n",
        "                    note_probs,\n",
        "                    sample_duration_idx,\n",
        "                    sample_duration,\n",
        "                    duration_probs,\n",
        "                ) = self.get_note(notes, durations, temperature)\n",
        "\n",
        "                if (\n",
        "                    isinstance(new_note, music21.chord.Chord)\n",
        "                    or isinstance(new_note, music21.note.Note)\n",
        "                    or isinstance(new_note, music21.note.Rest)\n",
        "                ) and sample_duration == \"0.0\":\n",
        "                    repeat = True\n",
        "                else:\n",
        "                    repeat = False\n",
        "\n",
        "            if new_note is not None:\n",
        "                midi_stream.append(new_note)\n",
        "\n",
        "            _, att = attention_model.predict([x1, x2], verbose=0)\n",
        "\n",
        "            info.append(\n",
        "                {\n",
        "                    \"prompt\": [start_notes.copy(), start_durations.copy()],\n",
        "                    \"midi\": midi_stream,\n",
        "                    \"chosen_note\": (sample_note, sample_duration),\n",
        "                    \"note_probs\": note_probs,\n",
        "                    \"duration_probs\": duration_probs,\n",
        "                    \"atts\": att[0, :, -1, :],\n",
        "                }\n",
        "            )\n",
        "            start_note_tokens.append(sample_note_idx)\n",
        "            start_duration_tokens.append(sample_duration_idx)\n",
        "            start_notes.append(sample_note)\n",
        "            start_durations.append(sample_duration)\n",
        "\n",
        "            if sample_note == \"START\":\n",
        "                break\n",
        "\n",
        "        return info\n",
        "\n",
        "    def on_epoch_end(self, epoch, logs=None):\n",
        "        info = self.generate(\n",
        "            [\"START\"], [\"0.0\"], max_tokens=GENERATE_LEN, temperature=0.5\n",
        "        )\n",
        "        midi_stream = info[-1][\"midi\"].chordify()\n",
        "        print(info[-1][\"prompt\"])\n",
        "        midi_stream.show()\n",
        "        midi_stream.write(\n",
        "            \"midi\",\n",
        "            fp=os.path.join(\n",
        "                \"/app/notebooks/11_music/01_transformer/output\",\n",
        "                \"output-\" + str(epoch).zfill(4) + \".mid\",\n",
        "            ),\n",
        "        )"
      ]
    },
    {
      "cell_type": "code",
      "execution_count": 42,
      "id": "48a82971-e609-4ced-9fd1-60eb9694c08a",
      "metadata": {
        "id": "48a82971-e609-4ced-9fd1-60eb9694c08a"
      },
      "outputs": [],
      "source": [
        "# Create a model save checkpoint\n",
        "model_checkpoint_callback = callbacks.ModelCheckpoint(\n",
        "    filepath=\"./checkpoint/checkpoint.ckpt\",\n",
        "    save_weights_only=True,\n",
        "    save_freq=\"epoch\",\n",
        "    verbose=0,\n",
        ")\n",
        "\n",
        "tensorboard_callback = callbacks.TensorBoard(log_dir=\"./logs\")\n",
        "\n",
        "# Tokenize starting prompt\n",
        "music_generator = MusicGenerator(notes_vocab, durations_vocab)"
      ]
    },
    {
      "cell_type": "code",
      "source": [
        "from google.colab import drive\n",
        "drive.mount('/content/drive')\n"
      ],
      "metadata": {
        "colab": {
          "base_uri": "https://localhost:8080/"
        },
        "id": "xv5NtL7iJqNy",
        "outputId": "7750c85a-913d-4f9e-f7b5-e54044dadc06"
      },
      "id": "xv5NtL7iJqNy",
      "execution_count": 45,
      "outputs": [
        {
          "output_type": "stream",
          "name": "stdout",
          "text": [
            "Mounted at /content/drive\n"
          ]
        }
      ]
    },
    {
      "cell_type": "code",
      "source": [
        "from music21 import stream\n",
        "\n",
        "# Assume `s` is a music21 stream object\n",
        "s = stream.Stream()\n",
        "\n",
        "# ... your code to populate the stream ...\n",
        "\n",
        "# Save to MIDI file\n",
        "midi_path = '/content/drive/My Drive/generated_music.midi'\n",
        "s.write('midi', fp=midi_path)\n"
      ],
      "metadata": {
        "colab": {
          "base_uri": "https://localhost:8080/",
          "height": 35
        },
        "id": "pL_xOeumJkW9",
        "outputId": "ae07cc6c-a316-4a2b-d651-69a8f5d45a67"
      },
      "id": "pL_xOeumJkW9",
      "execution_count": 46,
      "outputs": [
        {
          "output_type": "execute_result",
          "data": {
            "text/plain": [
              "'/content/drive/My Drive/generated_music.midi'"
            ],
            "application/vnd.google.colaboratory.intrinsic+json": {
              "type": "string"
            }
          },
          "metadata": {},
          "execution_count": 46
        }
      ]
    },
    {
      "cell_type": "code",
      "execution_count": 50,
      "id": "69f0c057-01c8-4a6a-9d82-8e83e66aa075",
      "metadata": {
        "tags": [],
        "colab": {
          "base_uri": "https://localhost:8080/"
        },
        "id": "69f0c057-01c8-4a6a-9d82-8e83e66aa075",
        "outputId": "1264049e-0e88-4acd-a37f-2c79a4c53006"
      },
      "outputs": [
        {
          "output_type": "stream",
          "name": "stdout",
          "text": [
            "Epoch 1/200\n",
            "107/107 [==============================] - 55s 515ms/step - loss: 3.2708 - note_outputs_loss: 2.6582 - duration_outputs_loss: 0.6126\n",
            "Epoch 2/200\n",
            "107/107 [==============================] - 56s 522ms/step - loss: 3.1808 - note_outputs_loss: 2.5831 - duration_outputs_loss: 0.5977\n",
            "Epoch 3/200\n",
            "107/107 [==============================] - 56s 527ms/step - loss: 3.1283 - note_outputs_loss: 2.5370 - duration_outputs_loss: 0.5913\n",
            "Epoch 4/200\n",
            "107/107 [==============================] - 56s 524ms/step - loss: 3.0543 - note_outputs_loss: 2.4896 - duration_outputs_loss: 0.5647\n",
            "Epoch 5/200\n",
            "107/107 [==============================] - 56s 526ms/step - loss: 3.0234 - note_outputs_loss: 2.4646 - duration_outputs_loss: 0.5588\n",
            "Epoch 6/200\n",
            "107/107 [==============================] - 56s 520ms/step - loss: 2.9987 - note_outputs_loss: 2.4386 - duration_outputs_loss: 0.5602\n",
            "Epoch 7/200\n",
            "107/107 [==============================] - 56s 523ms/step - loss: 2.9767 - note_outputs_loss: 2.4206 - duration_outputs_loss: 0.5561\n",
            "Epoch 8/200\n",
            "107/107 [==============================] - 56s 523ms/step - loss: 2.9322 - note_outputs_loss: 2.3770 - duration_outputs_loss: 0.5553\n",
            "Epoch 9/200\n",
            "107/107 [==============================] - 56s 519ms/step - loss: 2.9151 - note_outputs_loss: 2.3591 - duration_outputs_loss: 0.5559\n",
            "Epoch 10/200\n",
            "107/107 [==============================] - 56s 521ms/step - loss: 2.8878 - note_outputs_loss: 2.3328 - duration_outputs_loss: 0.5550\n",
            "Epoch 11/200\n",
            "107/107 [==============================] - 56s 523ms/step - loss: 2.8712 - note_outputs_loss: 2.3249 - duration_outputs_loss: 0.5462\n",
            "Epoch 12/200\n",
            "107/107 [==============================] - 56s 521ms/step - loss: 2.8433 - note_outputs_loss: 2.2950 - duration_outputs_loss: 0.5483\n",
            "Epoch 13/200\n",
            "107/107 [==============================] - 56s 522ms/step - loss: 2.8260 - note_outputs_loss: 2.2803 - duration_outputs_loss: 0.5457\n",
            "Epoch 14/200\n",
            "107/107 [==============================] - 56s 523ms/step - loss: 2.8168 - note_outputs_loss: 2.2700 - duration_outputs_loss: 0.5468\n",
            "Epoch 15/200\n",
            "107/107 [==============================] - 56s 519ms/step - loss: 2.7963 - note_outputs_loss: 2.2509 - duration_outputs_loss: 0.5454\n",
            "Epoch 16/200\n",
            "107/107 [==============================] - 56s 520ms/step - loss: 2.8013 - note_outputs_loss: 2.2488 - duration_outputs_loss: 0.5525\n",
            "Epoch 17/200\n",
            "107/107 [==============================] - 56s 523ms/step - loss: 2.7738 - note_outputs_loss: 2.2287 - duration_outputs_loss: 0.5451\n",
            "Epoch 18/200\n",
            "107/107 [==============================] - 56s 521ms/step - loss: 2.7499 - note_outputs_loss: 2.2064 - duration_outputs_loss: 0.5435\n",
            "Epoch 19/200\n",
            "107/107 [==============================] - 56s 520ms/step - loss: 2.7362 - note_outputs_loss: 2.1952 - duration_outputs_loss: 0.5410\n",
            "Epoch 20/200\n",
            "107/107 [==============================] - 56s 520ms/step - loss: 2.7193 - note_outputs_loss: 2.1787 - duration_outputs_loss: 0.5406\n",
            "Epoch 21/200\n",
            "107/107 [==============================] - 56s 523ms/step - loss: 2.7025 - note_outputs_loss: 2.1674 - duration_outputs_loss: 0.5351\n",
            "Epoch 22/200\n",
            "107/107 [==============================] - 56s 520ms/step - loss: 2.6717 - note_outputs_loss: 2.1432 - duration_outputs_loss: 0.5285\n",
            "Epoch 23/200\n",
            "107/107 [==============================] - 56s 522ms/step - loss: 2.6699 - note_outputs_loss: 2.1371 - duration_outputs_loss: 0.5328\n",
            "Epoch 24/200\n",
            "107/107 [==============================] - 56s 522ms/step - loss: 2.6590 - note_outputs_loss: 2.1236 - duration_outputs_loss: 0.5354\n",
            "Epoch 25/200\n",
            "107/107 [==============================] - 55s 518ms/step - loss: 2.6531 - note_outputs_loss: 2.1179 - duration_outputs_loss: 0.5351\n",
            "Epoch 26/200\n",
            "107/107 [==============================] - 55s 514ms/step - loss: 2.6247 - note_outputs_loss: 2.0917 - duration_outputs_loss: 0.5331\n",
            "Epoch 27/200\n",
            "107/107 [==============================] - 55s 515ms/step - loss: 2.6184 - note_outputs_loss: 2.0842 - duration_outputs_loss: 0.5342\n",
            "Epoch 28/200\n",
            "107/107 [==============================] - 55s 517ms/step - loss: 2.5999 - note_outputs_loss: 2.0704 - duration_outputs_loss: 0.5295\n",
            "Epoch 29/200\n",
            "107/107 [==============================] - 55s 515ms/step - loss: 2.5976 - note_outputs_loss: 2.0597 - duration_outputs_loss: 0.5379\n",
            "Epoch 30/200\n",
            "107/107 [==============================] - 55s 514ms/step - loss: 2.5755 - note_outputs_loss: 2.0446 - duration_outputs_loss: 0.5308\n",
            "Epoch 31/200\n",
            "107/107 [==============================] - 56s 521ms/step - loss: 2.5674 - note_outputs_loss: 2.0354 - duration_outputs_loss: 0.5319\n",
            "Epoch 32/200\n",
            "107/107 [==============================] - 55s 518ms/step - loss: 2.5367 - note_outputs_loss: 2.0075 - duration_outputs_loss: 0.5292\n",
            "Epoch 33/200\n",
            "107/107 [==============================] - 56s 521ms/step - loss: 2.5381 - note_outputs_loss: 2.0056 - duration_outputs_loss: 0.5324\n",
            "Epoch 34/200\n",
            "107/107 [==============================] - 56s 520ms/step - loss: 2.5168 - note_outputs_loss: 1.9880 - duration_outputs_loss: 0.5288\n",
            "Epoch 35/200\n",
            "107/107 [==============================] - 56s 520ms/step - loss: 2.4929 - note_outputs_loss: 1.9620 - duration_outputs_loss: 0.5308\n",
            "Epoch 36/200\n",
            "107/107 [==============================] - 56s 523ms/step - loss: 2.4898 - note_outputs_loss: 1.9565 - duration_outputs_loss: 0.5333\n",
            "Epoch 37/200\n",
            "107/107 [==============================] - 56s 522ms/step - loss: 2.4866 - note_outputs_loss: 1.9514 - duration_outputs_loss: 0.5352\n",
            "Epoch 38/200\n",
            "107/107 [==============================] - 56s 522ms/step - loss: 2.4674 - note_outputs_loss: 1.9411 - duration_outputs_loss: 0.5263\n",
            "Epoch 39/200\n",
            "107/107 [==============================] - 56s 520ms/step - loss: 2.4497 - note_outputs_loss: 1.9175 - duration_outputs_loss: 0.5322\n",
            "Epoch 40/200\n",
            "107/107 [==============================] - 56s 521ms/step - loss: 2.4389 - note_outputs_loss: 1.9102 - duration_outputs_loss: 0.5286\n",
            "Epoch 41/200\n",
            "107/107 [==============================] - 56s 524ms/step - loss: 2.4251 - note_outputs_loss: 1.8947 - duration_outputs_loss: 0.5304\n",
            "Epoch 42/200\n",
            "107/107 [==============================] - 56s 521ms/step - loss: 2.4059 - note_outputs_loss: 1.8783 - duration_outputs_loss: 0.5276\n",
            "Epoch 43/200\n",
            "107/107 [==============================] - 56s 524ms/step - loss: 2.3979 - note_outputs_loss: 1.8659 - duration_outputs_loss: 0.5320\n",
            "Epoch 44/200\n",
            "107/107 [==============================] - 56s 523ms/step - loss: 2.3925 - note_outputs_loss: 1.8565 - duration_outputs_loss: 0.5360\n",
            "Epoch 45/200\n",
            "107/107 [==============================] - 56s 524ms/step - loss: 2.3749 - note_outputs_loss: 1.8476 - duration_outputs_loss: 0.5272\n",
            "Epoch 46/200\n",
            "107/107 [==============================] - 56s 518ms/step - loss: 2.3732 - note_outputs_loss: 1.8430 - duration_outputs_loss: 0.5302\n",
            "Epoch 47/200\n",
            "107/107 [==============================] - 55s 518ms/step - loss: 2.3566 - note_outputs_loss: 1.8222 - duration_outputs_loss: 0.5344\n",
            "Epoch 48/200\n",
            "107/107 [==============================] - 56s 524ms/step - loss: 2.3364 - note_outputs_loss: 1.8044 - duration_outputs_loss: 0.5320\n",
            "Epoch 49/200\n",
            "107/107 [==============================] - 56s 520ms/step - loss: 2.3304 - note_outputs_loss: 1.8007 - duration_outputs_loss: 0.5297\n",
            "Epoch 50/200\n",
            "107/107 [==============================] - 56s 521ms/step - loss: 2.3241 - note_outputs_loss: 1.7915 - duration_outputs_loss: 0.5326\n",
            "Epoch 51/200\n",
            "107/107 [==============================] - 56s 520ms/step - loss: 2.3014 - note_outputs_loss: 1.7721 - duration_outputs_loss: 0.5293\n",
            "Epoch 52/200\n",
            "107/107 [==============================] - 56s 518ms/step - loss: 2.2977 - note_outputs_loss: 1.7637 - duration_outputs_loss: 0.5340\n",
            "Epoch 53/200\n",
            "107/107 [==============================] - 56s 519ms/step - loss: 2.2855 - note_outputs_loss: 1.7528 - duration_outputs_loss: 0.5327\n",
            "Epoch 54/200\n",
            "107/107 [==============================] - 56s 519ms/step - loss: 2.2717 - note_outputs_loss: 1.7379 - duration_outputs_loss: 0.5338\n",
            "Epoch 55/200\n",
            "107/107 [==============================] - 56s 521ms/step - loss: 2.2681 - note_outputs_loss: 1.7369 - duration_outputs_loss: 0.5312\n",
            "Epoch 56/200\n",
            "107/107 [==============================] - 56s 520ms/step - loss: 2.2538 - note_outputs_loss: 1.7206 - duration_outputs_loss: 0.5332\n",
            "Epoch 57/200\n",
            "107/107 [==============================] - 56s 520ms/step - loss: 2.2421 - note_outputs_loss: 1.7083 - duration_outputs_loss: 0.5338\n",
            "Epoch 58/200\n",
            "107/107 [==============================] - 56s 519ms/step - loss: 2.2308 - note_outputs_loss: 1.6970 - duration_outputs_loss: 0.5338\n",
            "Epoch 59/200\n",
            "107/107 [==============================] - 56s 521ms/step - loss: 2.2280 - note_outputs_loss: 1.6922 - duration_outputs_loss: 0.5358\n",
            "Epoch 60/200\n",
            "107/107 [==============================] - 55s 516ms/step - loss: 2.2107 - note_outputs_loss: 1.6738 - duration_outputs_loss: 0.5369\n",
            "Epoch 61/200\n",
            "107/107 [==============================] - 56s 522ms/step - loss: 2.1993 - note_outputs_loss: 1.6660 - duration_outputs_loss: 0.5333\n",
            "Epoch 62/200\n",
            "107/107 [==============================] - 55s 518ms/step - loss: 2.1902 - note_outputs_loss: 1.6577 - duration_outputs_loss: 0.5326\n",
            "Epoch 63/200\n",
            "107/107 [==============================] - 56s 520ms/step - loss: 2.1829 - note_outputs_loss: 1.6496 - duration_outputs_loss: 0.5332\n",
            "Epoch 64/200\n",
            "107/107 [==============================] - 56s 520ms/step - loss: 2.1666 - note_outputs_loss: 1.6355 - duration_outputs_loss: 0.5311\n",
            "Epoch 65/200\n",
            "107/107 [==============================] - 56s 521ms/step - loss: 2.1711 - note_outputs_loss: 1.6350 - duration_outputs_loss: 0.5361\n",
            "Epoch 66/200\n",
            "107/107 [==============================] - 56s 523ms/step - loss: 2.1513 - note_outputs_loss: 1.6183 - duration_outputs_loss: 0.5330\n",
            "Epoch 67/200\n",
            "107/107 [==============================] - 57s 529ms/step - loss: 2.1512 - note_outputs_loss: 1.6194 - duration_outputs_loss: 0.5317\n",
            "Epoch 68/200\n",
            "107/107 [==============================] - 56s 524ms/step - loss: 2.1490 - note_outputs_loss: 1.6127 - duration_outputs_loss: 0.5363\n",
            "Epoch 69/200\n",
            "107/107 [==============================] - 56s 523ms/step - loss: 2.1388 - note_outputs_loss: 1.6065 - duration_outputs_loss: 0.5323\n",
            "Epoch 70/200\n",
            "107/107 [==============================] - 56s 524ms/step - loss: 2.1376 - note_outputs_loss: 1.5996 - duration_outputs_loss: 0.5380\n",
            "Epoch 71/200\n",
            "107/107 [==============================] - 57s 529ms/step - loss: 2.1150 - note_outputs_loss: 1.5826 - duration_outputs_loss: 0.5324\n",
            "Epoch 72/200\n",
            "107/107 [==============================] - 57s 529ms/step - loss: 2.1073 - note_outputs_loss: 1.5756 - duration_outputs_loss: 0.5317\n",
            "Epoch 73/200\n",
            "107/107 [==============================] - 56s 523ms/step - loss: 2.1008 - note_outputs_loss: 1.5662 - duration_outputs_loss: 0.5347\n",
            "Epoch 74/200\n",
            "107/107 [==============================] - 57s 532ms/step - loss: 2.0958 - note_outputs_loss: 1.5609 - duration_outputs_loss: 0.5349\n",
            "Epoch 75/200\n",
            "107/107 [==============================] - 56s 526ms/step - loss: 2.0943 - note_outputs_loss: 1.5606 - duration_outputs_loss: 0.5337\n",
            "Epoch 76/200\n",
            "107/107 [==============================] - 57s 531ms/step - loss: 2.0892 - note_outputs_loss: 1.5540 - duration_outputs_loss: 0.5352\n",
            "Epoch 77/200\n",
            "107/107 [==============================] - 57s 533ms/step - loss: 2.0736 - note_outputs_loss: 1.5408 - duration_outputs_loss: 0.5328\n",
            "Epoch 78/200\n",
            "107/107 [==============================] - 57s 535ms/step - loss: 2.0824 - note_outputs_loss: 1.5466 - duration_outputs_loss: 0.5358\n",
            "Epoch 79/200\n",
            "107/107 [==============================] - 58s 542ms/step - loss: 2.0664 - note_outputs_loss: 1.5335 - duration_outputs_loss: 0.5329\n",
            "Epoch 80/200\n",
            "107/107 [==============================] - 57s 536ms/step - loss: 2.0607 - note_outputs_loss: 1.5251 - duration_outputs_loss: 0.5356\n",
            "Epoch 81/200\n",
            "107/107 [==============================] - 57s 535ms/step - loss: 2.0628 - note_outputs_loss: 1.5216 - duration_outputs_loss: 0.5412\n",
            "Epoch 82/200\n",
            "107/107 [==============================] - 56s 527ms/step - loss: 2.0508 - note_outputs_loss: 1.5141 - duration_outputs_loss: 0.5367\n",
            "Epoch 83/200\n",
            "107/107 [==============================] - 57s 534ms/step - loss: 2.0381 - note_outputs_loss: 1.5039 - duration_outputs_loss: 0.5341\n",
            "Epoch 84/200\n",
            "107/107 [==============================] - 57s 534ms/step - loss: 2.0491 - note_outputs_loss: 1.5072 - duration_outputs_loss: 0.5419\n",
            "Epoch 85/200\n",
            "107/107 [==============================] - 58s 537ms/step - loss: 2.0388 - note_outputs_loss: 1.5038 - duration_outputs_loss: 0.5350\n",
            "Epoch 86/200\n",
            "107/107 [==============================] - 58s 537ms/step - loss: 2.0225 - note_outputs_loss: 1.4896 - duration_outputs_loss: 0.5329\n",
            "Epoch 87/200\n",
            "107/107 [==============================] - 57s 532ms/step - loss: 2.0195 - note_outputs_loss: 1.4839 - duration_outputs_loss: 0.5356\n",
            "Epoch 88/200\n",
            "107/107 [==============================] - 56s 524ms/step - loss: 2.0145 - note_outputs_loss: 1.4785 - duration_outputs_loss: 0.5360\n",
            "Epoch 89/200\n",
            "107/107 [==============================] - 56s 526ms/step - loss: 2.0156 - note_outputs_loss: 1.4769 - duration_outputs_loss: 0.5386\n",
            "Epoch 90/200\n",
            "107/107 [==============================] - 57s 530ms/step - loss: 2.0030 - note_outputs_loss: 1.4688 - duration_outputs_loss: 0.5342\n",
            "Epoch 91/200\n",
            "107/107 [==============================] - 56s 527ms/step - loss: 1.9921 - note_outputs_loss: 1.4596 - duration_outputs_loss: 0.5326\n",
            "Epoch 92/200\n",
            "107/107 [==============================] - 56s 524ms/step - loss: 1.9875 - note_outputs_loss: 1.4532 - duration_outputs_loss: 0.5343\n",
            "Epoch 93/200\n",
            "107/107 [==============================] - 57s 528ms/step - loss: 1.9935 - note_outputs_loss: 1.4581 - duration_outputs_loss: 0.5354\n",
            "Epoch 94/200\n",
            "107/107 [==============================] - 57s 528ms/step - loss: 1.9912 - note_outputs_loss: 1.4552 - duration_outputs_loss: 0.5359\n",
            "Epoch 95/200\n",
            "107/107 [==============================] - 56s 526ms/step - loss: 1.9800 - note_outputs_loss: 1.4492 - duration_outputs_loss: 0.5308\n",
            "Epoch 96/200\n",
            "107/107 [==============================] - 57s 530ms/step - loss: 1.9769 - note_outputs_loss: 1.4402 - duration_outputs_loss: 0.5366\n",
            "Epoch 97/200\n",
            "107/107 [==============================] - 56s 524ms/step - loss: 1.9737 - note_outputs_loss: 1.4351 - duration_outputs_loss: 0.5386\n",
            "Epoch 98/200\n",
            "107/107 [==============================] - 56s 519ms/step - loss: 1.9616 - note_outputs_loss: 1.4247 - duration_outputs_loss: 0.5369\n",
            "Epoch 99/200\n",
            "107/107 [==============================] - 56s 520ms/step - loss: 1.9591 - note_outputs_loss: 1.4255 - duration_outputs_loss: 0.5336\n",
            "Epoch 100/200\n",
            "107/107 [==============================] - 56s 521ms/step - loss: 1.9525 - note_outputs_loss: 1.4183 - duration_outputs_loss: 0.5342\n",
            "Epoch 101/200\n",
            "107/107 [==============================] - 55s 518ms/step - loss: 1.9536 - note_outputs_loss: 1.4216 - duration_outputs_loss: 0.5319\n",
            "Epoch 102/200\n",
            "107/107 [==============================] - 55s 515ms/step - loss: 1.9432 - note_outputs_loss: 1.4046 - duration_outputs_loss: 0.5386\n",
            "Epoch 103/200\n",
            "107/107 [==============================] - 55s 517ms/step - loss: 1.9420 - note_outputs_loss: 1.4048 - duration_outputs_loss: 0.5372\n",
            "Epoch 104/200\n",
            "107/107 [==============================] - 56s 522ms/step - loss: 1.9384 - note_outputs_loss: 1.4028 - duration_outputs_loss: 0.5356\n",
            "Epoch 105/200\n",
            "107/107 [==============================] - 56s 522ms/step - loss: 1.9398 - note_outputs_loss: 1.4039 - duration_outputs_loss: 0.5359\n",
            "Epoch 106/200\n",
            "107/107 [==============================] - 56s 524ms/step - loss: 1.9397 - note_outputs_loss: 1.3995 - duration_outputs_loss: 0.5402\n",
            "Epoch 107/200\n",
            "107/107 [==============================] - 55s 518ms/step - loss: 1.9200 - note_outputs_loss: 1.3862 - duration_outputs_loss: 0.5338\n",
            "Epoch 108/200\n",
            "107/107 [==============================] - 55s 517ms/step - loss: 1.9143 - note_outputs_loss: 1.3799 - duration_outputs_loss: 0.5344\n",
            "Epoch 109/200\n",
            "107/107 [==============================] - 55s 517ms/step - loss: 1.9146 - note_outputs_loss: 1.3827 - duration_outputs_loss: 0.5319\n",
            "Epoch 110/200\n",
            "107/107 [==============================] - 56s 523ms/step - loss: 1.9193 - note_outputs_loss: 1.3848 - duration_outputs_loss: 0.5345\n",
            "Epoch 111/200\n",
            "107/107 [==============================] - 56s 526ms/step - loss: 1.9136 - note_outputs_loss: 1.3764 - duration_outputs_loss: 0.5372\n",
            "Epoch 112/200\n",
            "107/107 [==============================] - 56s 521ms/step - loss: 1.9144 - note_outputs_loss: 1.3780 - duration_outputs_loss: 0.5365\n",
            "Epoch 113/200\n",
            "107/107 [==============================] - 55s 518ms/step - loss: 1.9105 - note_outputs_loss: 1.3739 - duration_outputs_loss: 0.5366\n",
            "Epoch 114/200\n",
            "107/107 [==============================] - 56s 521ms/step - loss: 1.9029 - note_outputs_loss: 1.3692 - duration_outputs_loss: 0.5337\n",
            "Epoch 115/200\n",
            "107/107 [==============================] - 55s 518ms/step - loss: 1.9026 - note_outputs_loss: 1.3628 - duration_outputs_loss: 0.5398\n",
            "Epoch 116/200\n",
            "107/107 [==============================] - 56s 520ms/step - loss: 1.9029 - note_outputs_loss: 1.3631 - duration_outputs_loss: 0.5397\n",
            "Epoch 117/200\n",
            "107/107 [==============================] - 56s 521ms/step - loss: 1.8903 - note_outputs_loss: 1.3543 - duration_outputs_loss: 0.5361\n",
            "Epoch 118/200\n",
            "107/107 [==============================] - 56s 521ms/step - loss: 1.8883 - note_outputs_loss: 1.3526 - duration_outputs_loss: 0.5357\n",
            "Epoch 119/200\n",
            "107/107 [==============================] - 55s 517ms/step - loss: 1.8833 - note_outputs_loss: 1.3443 - duration_outputs_loss: 0.5389\n",
            "Epoch 120/200\n",
            "107/107 [==============================] - 55s 518ms/step - loss: 1.8829 - note_outputs_loss: 1.3436 - duration_outputs_loss: 0.5393\n",
            "Epoch 121/200\n",
            "107/107 [==============================] - 56s 519ms/step - loss: 1.8729 - note_outputs_loss: 1.3353 - duration_outputs_loss: 0.5376\n",
            "Epoch 122/200\n",
            "107/107 [==============================] - 56s 522ms/step - loss: 1.8704 - note_outputs_loss: 1.3358 - duration_outputs_loss: 0.5347\n",
            "Epoch 123/200\n",
            "107/107 [==============================] - 56s 521ms/step - loss: 1.8713 - note_outputs_loss: 1.3364 - duration_outputs_loss: 0.5349\n",
            "Epoch 124/200\n",
            "107/107 [==============================] - 55s 516ms/step - loss: 1.8592 - note_outputs_loss: 1.3252 - duration_outputs_loss: 0.5340\n",
            "Epoch 125/200\n",
            "107/107 [==============================] - 55s 516ms/step - loss: 1.8601 - note_outputs_loss: 1.3263 - duration_outputs_loss: 0.5338\n",
            "Epoch 126/200\n",
            "107/107 [==============================] - 55s 512ms/step - loss: 1.8681 - note_outputs_loss: 1.3310 - duration_outputs_loss: 0.5371\n",
            "Epoch 127/200\n",
            "107/107 [==============================] - 55s 517ms/step - loss: 1.8545 - note_outputs_loss: 1.3224 - duration_outputs_loss: 0.5321\n",
            "Epoch 128/200\n",
            "107/107 [==============================] - 55s 518ms/step - loss: 1.8576 - note_outputs_loss: 1.3177 - duration_outputs_loss: 0.5399\n",
            "Epoch 129/200\n",
            "107/107 [==============================] - 55s 517ms/step - loss: 1.8513 - note_outputs_loss: 1.3106 - duration_outputs_loss: 0.5407\n",
            "Epoch 130/200\n",
            "107/107 [==============================] - 55s 512ms/step - loss: 1.8458 - note_outputs_loss: 1.3092 - duration_outputs_loss: 0.5366\n",
            "Epoch 131/200\n",
            "107/107 [==============================] - 55s 515ms/step - loss: 1.8439 - note_outputs_loss: 1.3094 - duration_outputs_loss: 0.5344\n",
            "Epoch 132/200\n",
            "107/107 [==============================] - 55s 512ms/step - loss: 1.8383 - note_outputs_loss: 1.3092 - duration_outputs_loss: 0.5291\n",
            "Epoch 133/200\n",
            "107/107 [==============================] - 56s 523ms/step - loss: 1.8379 - note_outputs_loss: 1.3016 - duration_outputs_loss: 0.5363\n",
            "Epoch 134/200\n",
            "107/107 [==============================] - 56s 522ms/step - loss: 1.8440 - note_outputs_loss: 1.3100 - duration_outputs_loss: 0.5340\n",
            "Epoch 135/200\n",
            "107/107 [==============================] - 56s 523ms/step - loss: 1.8409 - note_outputs_loss: 1.3009 - duration_outputs_loss: 0.5400\n",
            "Epoch 136/200\n",
            "107/107 [==============================] - 56s 519ms/step - loss: 1.8347 - note_outputs_loss: 1.2984 - duration_outputs_loss: 0.5363\n",
            "Epoch 137/200\n",
            "107/107 [==============================] - 56s 523ms/step - loss: 1.8329 - note_outputs_loss: 1.2968 - duration_outputs_loss: 0.5361\n",
            "Epoch 138/200\n",
            "107/107 [==============================] - 56s 523ms/step - loss: 1.8268 - note_outputs_loss: 1.2901 - duration_outputs_loss: 0.5367\n",
            "Epoch 139/200\n",
            "107/107 [==============================] - 56s 521ms/step - loss: 1.8278 - note_outputs_loss: 1.2910 - duration_outputs_loss: 0.5368\n",
            "Epoch 140/200\n",
            "107/107 [==============================] - 55s 516ms/step - loss: 1.8237 - note_outputs_loss: 1.2877 - duration_outputs_loss: 0.5360\n",
            "Epoch 141/200\n",
            "107/107 [==============================] - 54s 508ms/step - loss: 1.8160 - note_outputs_loss: 1.2807 - duration_outputs_loss: 0.5353\n",
            "Epoch 142/200\n",
            "107/107 [==============================] - 55s 515ms/step - loss: 1.8213 - note_outputs_loss: 1.2844 - duration_outputs_loss: 0.5369\n",
            "Epoch 143/200\n",
            "107/107 [==============================] - 55s 510ms/step - loss: 1.8127 - note_outputs_loss: 1.2726 - duration_outputs_loss: 0.5401\n",
            "Epoch 144/200\n",
            "107/107 [==============================] - 55s 514ms/step - loss: 1.8171 - note_outputs_loss: 1.2800 - duration_outputs_loss: 0.5371\n",
            "Epoch 145/200\n",
            "107/107 [==============================] - 55s 515ms/step - loss: 1.8068 - note_outputs_loss: 1.2714 - duration_outputs_loss: 0.5354\n",
            "Epoch 146/200\n",
            "107/107 [==============================] - 55s 513ms/step - loss: 1.8090 - note_outputs_loss: 1.2728 - duration_outputs_loss: 0.5362\n",
            "Epoch 147/200\n",
            "107/107 [==============================] - 55s 514ms/step - loss: 1.8006 - note_outputs_loss: 1.2664 - duration_outputs_loss: 0.5342\n",
            "Epoch 148/200\n",
            "107/107 [==============================] - 55s 516ms/step - loss: 1.8037 - note_outputs_loss: 1.2671 - duration_outputs_loss: 0.5366\n",
            "Epoch 149/200\n",
            "107/107 [==============================] - 55s 517ms/step - loss: 1.8005 - note_outputs_loss: 1.2640 - duration_outputs_loss: 0.5365\n",
            "Epoch 150/200\n",
            "107/107 [==============================] - 55s 516ms/step - loss: 1.7948 - note_outputs_loss: 1.2584 - duration_outputs_loss: 0.5364\n",
            "Epoch 151/200\n",
            "107/107 [==============================] - 56s 522ms/step - loss: 1.7976 - note_outputs_loss: 1.2613 - duration_outputs_loss: 0.5362\n",
            "Epoch 152/200\n",
            "107/107 [==============================] - 56s 521ms/step - loss: 1.7925 - note_outputs_loss: 1.2541 - duration_outputs_loss: 0.5384\n",
            "Epoch 153/200\n",
            "107/107 [==============================] - 56s 519ms/step - loss: 1.7957 - note_outputs_loss: 1.2596 - duration_outputs_loss: 0.5361\n",
            "Epoch 154/200\n",
            "107/107 [==============================] - 56s 526ms/step - loss: 1.7940 - note_outputs_loss: 1.2546 - duration_outputs_loss: 0.5394\n",
            "Epoch 155/200\n",
            "107/107 [==============================] - 57s 529ms/step - loss: 1.8018 - note_outputs_loss: 1.2581 - duration_outputs_loss: 0.5436\n",
            "Epoch 156/200\n",
            "107/107 [==============================] - 56s 519ms/step - loss: 1.7802 - note_outputs_loss: 1.2442 - duration_outputs_loss: 0.5360\n",
            "Epoch 157/200\n",
            "107/107 [==============================] - 56s 523ms/step - loss: 1.7859 - note_outputs_loss: 1.2508 - duration_outputs_loss: 0.5351\n",
            "Epoch 158/200\n",
            "107/107 [==============================] - 56s 522ms/step - loss: 1.7756 - note_outputs_loss: 1.2424 - duration_outputs_loss: 0.5333\n",
            "Epoch 159/200\n",
            "107/107 [==============================] - 56s 524ms/step - loss: 1.7657 - note_outputs_loss: 1.2295 - duration_outputs_loss: 0.5362\n",
            "Epoch 160/200\n",
            "107/107 [==============================] - 56s 523ms/step - loss: 1.7683 - note_outputs_loss: 1.2358 - duration_outputs_loss: 0.5325\n",
            "Epoch 161/200\n",
            "107/107 [==============================] - 56s 524ms/step - loss: 1.7818 - note_outputs_loss: 1.2429 - duration_outputs_loss: 0.5389\n",
            "Epoch 162/200\n",
            "107/107 [==============================] - 56s 526ms/step - loss: 1.7733 - note_outputs_loss: 1.2365 - duration_outputs_loss: 0.5368\n",
            "Epoch 163/200\n",
            "107/107 [==============================] - 56s 524ms/step - loss: 1.7607 - note_outputs_loss: 1.2238 - duration_outputs_loss: 0.5369\n",
            "Epoch 164/200\n",
            "107/107 [==============================] - 55s 516ms/step - loss: 1.7629 - note_outputs_loss: 1.2270 - duration_outputs_loss: 0.5360\n",
            "Epoch 165/200\n",
            "107/107 [==============================] - 55s 517ms/step - loss: 1.7652 - note_outputs_loss: 1.2300 - duration_outputs_loss: 0.5352\n",
            "Epoch 166/200\n",
            "107/107 [==============================] - 55s 517ms/step - loss: 1.7651 - note_outputs_loss: 1.2273 - duration_outputs_loss: 0.5379\n",
            "Epoch 167/200\n",
            "107/107 [==============================] - 56s 521ms/step - loss: 1.7591 - note_outputs_loss: 1.2249 - duration_outputs_loss: 0.5343\n",
            "Epoch 168/200\n",
            "107/107 [==============================] - 56s 521ms/step - loss: 1.7605 - note_outputs_loss: 1.2230 - duration_outputs_loss: 0.5375\n",
            "Epoch 169/200\n",
            "107/107 [==============================] - 55s 515ms/step - loss: 1.7594 - note_outputs_loss: 1.2203 - duration_outputs_loss: 0.5391\n",
            "Epoch 170/200\n",
            "107/107 [==============================] - 56s 520ms/step - loss: 1.7478 - note_outputs_loss: 1.2115 - duration_outputs_loss: 0.5362\n",
            "Epoch 171/200\n",
            "107/107 [==============================] - 55s 518ms/step - loss: 1.7533 - note_outputs_loss: 1.2170 - duration_outputs_loss: 0.5363\n",
            "Epoch 172/200\n",
            "107/107 [==============================] - 56s 519ms/step - loss: 1.7523 - note_outputs_loss: 1.2156 - duration_outputs_loss: 0.5367\n",
            "Epoch 173/200\n",
            "107/107 [==============================] - 55s 515ms/step - loss: 1.7450 - note_outputs_loss: 1.2102 - duration_outputs_loss: 0.5348\n",
            "Epoch 174/200\n",
            "107/107 [==============================] - 56s 525ms/step - loss: 1.7474 - note_outputs_loss: 1.2119 - duration_outputs_loss: 0.5355\n",
            "Epoch 175/200\n",
            "107/107 [==============================] - 56s 522ms/step - loss: 1.7532 - note_outputs_loss: 1.2158 - duration_outputs_loss: 0.5374\n",
            "Epoch 176/200\n",
            "107/107 [==============================] - 56s 524ms/step - loss: 1.7464 - note_outputs_loss: 1.2089 - duration_outputs_loss: 0.5375\n",
            "Epoch 177/200\n",
            "107/107 [==============================] - 56s 521ms/step - loss: 1.7393 - note_outputs_loss: 1.2011 - duration_outputs_loss: 0.5382\n",
            "Epoch 178/200\n",
            "107/107 [==============================] - 56s 520ms/step - loss: 1.7413 - note_outputs_loss: 1.2059 - duration_outputs_loss: 0.5354\n",
            "Epoch 179/200\n",
            "107/107 [==============================] - 56s 520ms/step - loss: 1.7355 - note_outputs_loss: 1.1973 - duration_outputs_loss: 0.5381\n",
            "Epoch 180/200\n",
            "107/107 [==============================] - 56s 519ms/step - loss: 1.7379 - note_outputs_loss: 1.2017 - duration_outputs_loss: 0.5362\n",
            "Epoch 181/200\n",
            "107/107 [==============================] - 55s 516ms/step - loss: 1.7370 - note_outputs_loss: 1.1984 - duration_outputs_loss: 0.5386\n",
            "Epoch 182/200\n",
            "107/107 [==============================] - 55s 514ms/step - loss: 1.7318 - note_outputs_loss: 1.1931 - duration_outputs_loss: 0.5387\n",
            "Epoch 183/200\n",
            "107/107 [==============================] - 55s 517ms/step - loss: 1.7307 - note_outputs_loss: 1.1929 - duration_outputs_loss: 0.5378\n",
            "Epoch 184/200\n",
            "107/107 [==============================] - 55s 514ms/step - loss: 1.7281 - note_outputs_loss: 1.1934 - duration_outputs_loss: 0.5348\n",
            "Epoch 185/200\n",
            "107/107 [==============================] - 55s 516ms/step - loss: 1.7264 - note_outputs_loss: 1.1886 - duration_outputs_loss: 0.5378\n",
            "Epoch 186/200\n",
            "107/107 [==============================] - 55s 515ms/step - loss: 1.7260 - note_outputs_loss: 1.1895 - duration_outputs_loss: 0.5365\n",
            "Epoch 187/200\n",
            "107/107 [==============================] - 55s 517ms/step - loss: 1.7283 - note_outputs_loss: 1.1906 - duration_outputs_loss: 0.5378\n",
            "Epoch 188/200\n",
            "107/107 [==============================] - 55s 515ms/step - loss: 1.7214 - note_outputs_loss: 1.1832 - duration_outputs_loss: 0.5382\n",
            "Epoch 189/200\n",
            "107/107 [==============================] - 55s 517ms/step - loss: 1.7239 - note_outputs_loss: 1.1857 - duration_outputs_loss: 0.5382\n",
            "Epoch 190/200\n",
            "107/107 [==============================] - 55s 517ms/step - loss: 1.7198 - note_outputs_loss: 1.1781 - duration_outputs_loss: 0.5417\n",
            "Epoch 191/200\n",
            "107/107 [==============================] - 55s 516ms/step - loss: 1.7160 - note_outputs_loss: 1.1801 - duration_outputs_loss: 0.5359\n",
            "Epoch 192/200\n",
            "107/107 [==============================] - 56s 519ms/step - loss: 1.7105 - note_outputs_loss: 1.1738 - duration_outputs_loss: 0.5368\n",
            "Epoch 193/200\n",
            "107/107 [==============================] - 56s 520ms/step - loss: 1.7149 - note_outputs_loss: 1.1765 - duration_outputs_loss: 0.5384\n",
            "Epoch 194/200\n",
            "107/107 [==============================] - 56s 524ms/step - loss: 1.7141 - note_outputs_loss: 1.1796 - duration_outputs_loss: 0.5345\n",
            "Epoch 195/200\n",
            "107/107 [==============================] - 55s 516ms/step - loss: 1.7060 - note_outputs_loss: 1.1714 - duration_outputs_loss: 0.5347\n",
            "Epoch 196/200\n",
            "107/107 [==============================] - 55s 512ms/step - loss: 1.7138 - note_outputs_loss: 1.1780 - duration_outputs_loss: 0.5358\n",
            "Epoch 197/200\n",
            "107/107 [==============================] - 55s 514ms/step - loss: 1.7110 - note_outputs_loss: 1.1720 - duration_outputs_loss: 0.5390\n",
            "Epoch 198/200\n",
            "107/107 [==============================] - 55s 513ms/step - loss: 1.7168 - note_outputs_loss: 1.1772 - duration_outputs_loss: 0.5396\n",
            "Epoch 199/200\n",
            "107/107 [==============================] - 56s 521ms/step - loss: 1.7080 - note_outputs_loss: 1.1735 - duration_outputs_loss: 0.5344\n",
            "Epoch 200/200\n",
            "107/107 [==============================] - 56s 520ms/step - loss: 1.7028 - note_outputs_loss: 1.1664 - duration_outputs_loss: 0.5364\n"
          ]
        },
        {
          "output_type": "execute_result",
          "data": {
            "text/plain": [
              "<keras.src.callbacks.History at 0x7dbe4eb75030>"
            ]
          },
          "metadata": {},
          "execution_count": 50
        }
      ],
      "source": [
        "from tensorflow.keras.callbacks import EarlyStopping\n",
        "\n",
        "early_stopping_callback = EarlyStopping(monitor='loss', patience=5)\n",
        "\n",
        "\n",
        "model.fit(\n",
        "    ds,\n",
        "    epochs=EPOCHS,\n",
        "    callbacks=[\n",
        "        model_checkpoint_callback,\n",
        "        tensorboard_callback,\n",
        "        early_stopping_callback,\n",
        "    ],\n",
        ")"
      ]
    },
    {
      "cell_type": "code",
      "execution_count": 51,
      "id": "4de2131e-f13c-45af-ab8d-c361b0be8640",
      "metadata": {
        "id": "4de2131e-f13c-45af-ab8d-c361b0be8640"
      },
      "outputs": [],
      "source": [
        "# Save the final model\n",
        "model.save(\"./models/model\")"
      ]
    },
    {
      "cell_type": "markdown",
      "id": "7f0445d3-5513-428b-995a-b337547d2a71",
      "metadata": {
        "id": "7f0445d3-5513-428b-995a-b337547d2a71"
      },
      "source": [
        "# 3. Generate music using the Transformer"
      ]
    },
    {
      "cell_type": "code",
      "source": [
        "from music21 import midi\n",
        "\n",
        "info = music_generator.generate(\n",
        "    [\"START\"], [\"0.5\"], max_tokens=50, temperature=0.7\n",
        ")\n",
        "midi_stream = info[-1][\"midi\"].chordify()\n",
        "\n",
        "# Save the MIDI file\n",
        "output_midi_path = '/content/generated_music.midi'\n",
        "mf = midi.translate.music21ObjectToMidiFile(midi_stream)\n",
        "mf.open(output_midi_path, 'wb')\n",
        "mf.write()\n",
        "mf.close()\n",
        "\n",
        "print(f\"MIDI file saved as {output_midi_path}\")\n",
        "\n",
        "# Make it downloadable\n",
        "from google.colab import files\n",
        "files.download(output_midi_path)\n"
      ],
      "metadata": {
        "colab": {
          "base_uri": "https://localhost:8080/",
          "height": 34
        },
        "id": "q1FqGsGX31dE",
        "outputId": "aaa419e4-a6e8-46c9-b1ac-66a1defd4261"
      },
      "id": "q1FqGsGX31dE",
      "execution_count": 61,
      "outputs": [
        {
          "output_type": "stream",
          "name": "stdout",
          "text": [
            "MIDI file saved as /content/generated_music.midi\n"
          ]
        },
        {
          "output_type": "display_data",
          "data": {
            "text/plain": [
              "<IPython.core.display.Javascript object>"
            ],
            "application/javascript": [
              "\n",
              "    async function download(id, filename, size) {\n",
              "      if (!google.colab.kernel.accessAllowed) {\n",
              "        return;\n",
              "      }\n",
              "      const div = document.createElement('div');\n",
              "      const label = document.createElement('label');\n",
              "      label.textContent = `Downloading \"${filename}\": `;\n",
              "      div.appendChild(label);\n",
              "      const progress = document.createElement('progress');\n",
              "      progress.max = size;\n",
              "      div.appendChild(progress);\n",
              "      document.body.appendChild(div);\n",
              "\n",
              "      const buffers = [];\n",
              "      let downloaded = 0;\n",
              "\n",
              "      const channel = await google.colab.kernel.comms.open(id);\n",
              "      // Send a message to notify the kernel that we're ready.\n",
              "      channel.send({})\n",
              "\n",
              "      for await (const message of channel.messages) {\n",
              "        // Send a message to notify the kernel that we're ready.\n",
              "        channel.send({})\n",
              "        if (message.buffers) {\n",
              "          for (const buffer of message.buffers) {\n",
              "            buffers.push(buffer);\n",
              "            downloaded += buffer.byteLength;\n",
              "            progress.value = downloaded;\n",
              "          }\n",
              "        }\n",
              "      }\n",
              "      const blob = new Blob(buffers, {type: 'application/binary'});\n",
              "      const a = document.createElement('a');\n",
              "      a.href = window.URL.createObjectURL(blob);\n",
              "      a.download = filename;\n",
              "      div.appendChild(a);\n",
              "      a.click();\n",
              "      div.remove();\n",
              "    }\n",
              "  "
            ]
          },
          "metadata": {}
        },
        {
          "output_type": "display_data",
          "data": {
            "text/plain": [
              "<IPython.core.display.Javascript object>"
            ],
            "application/javascript": [
              "download(\"download_e3dee5d9-92e2-4943-ae80-d647393e24fb\", \"generated_music.midi\", 151)"
            ]
          },
          "metadata": {}
        }
      ]
    },
    {
      "cell_type": "code",
      "execution_count": 52,
      "id": "a0776a68-d4c7-439b-a3fd-d9397b357662",
      "metadata": {
        "colab": {
          "base_uri": "https://localhost:8080/",
          "height": 321
        },
        "id": "a0776a68-d4c7-439b-a3fd-d9397b357662",
        "outputId": "4409067b-31f9-401a-9c72-0d480094a324"
      },
      "outputs": [
        {
          "output_type": "error",
          "ename": "SubConverterException",
          "evalue": "Cannot find a path to the 'mscore' file at /usr/bin/mscore3 -- download MuseScore",
          "traceback": [
            "\u001b[0;31m---------------------------------------------------------------------------\u001b[0m",
            "\u001b[0;31mSubConverterException\u001b[0m                     Traceback (most recent call last)",
            "\u001b[0;32m<ipython-input-52-231ef986a48c>\u001b[0m in \u001b[0;36m<cell line: 5>\u001b[0;34m()\u001b[0m\n\u001b[1;32m      3\u001b[0m )\n\u001b[1;32m      4\u001b[0m \u001b[0mmidi_stream\u001b[0m \u001b[0;34m=\u001b[0m \u001b[0minfo\u001b[0m\u001b[0;34m[\u001b[0m\u001b[0;34m-\u001b[0m\u001b[0;36m1\u001b[0m\u001b[0;34m]\u001b[0m\u001b[0;34m[\u001b[0m\u001b[0;34m\"midi\"\u001b[0m\u001b[0;34m]\u001b[0m\u001b[0;34m.\u001b[0m\u001b[0mchordify\u001b[0m\u001b[0;34m(\u001b[0m\u001b[0;34m)\u001b[0m\u001b[0;34m\u001b[0m\u001b[0;34m\u001b[0m\u001b[0m\n\u001b[0;32m----> 5\u001b[0;31m \u001b[0mmidi_stream\u001b[0m\u001b[0;34m.\u001b[0m\u001b[0mshow\u001b[0m\u001b[0;34m(\u001b[0m\u001b[0;34m)\u001b[0m\u001b[0;34m\u001b[0m\u001b[0;34m\u001b[0m\u001b[0m\n\u001b[0m",
            "\u001b[0;32m/usr/local/lib/python3.10/dist-packages/music21/stream/base.py\u001b[0m in \u001b[0;36mshow\u001b[0;34m(self, fmt, app, **keywords)\u001b[0m\n\u001b[1;32m    410\u001b[0m         \u001b[0;32mif\u001b[0m \u001b[0mself\u001b[0m\u001b[0;34m.\u001b[0m\u001b[0misSorted\u001b[0m \u001b[0;32mis\u001b[0m \u001b[0;32mFalse\u001b[0m \u001b[0;32mand\u001b[0m \u001b[0mself\u001b[0m\u001b[0;34m.\u001b[0m\u001b[0mautoSort\u001b[0m\u001b[0;34m:\u001b[0m\u001b[0;34m\u001b[0m\u001b[0;34m\u001b[0m\u001b[0m\n\u001b[1;32m    411\u001b[0m             \u001b[0mself\u001b[0m\u001b[0;34m.\u001b[0m\u001b[0msort\u001b[0m\u001b[0;34m(\u001b[0m\u001b[0;34m)\u001b[0m\u001b[0;34m\u001b[0m\u001b[0;34m\u001b[0m\u001b[0m\n\u001b[0;32m--> 412\u001b[0;31m         \u001b[0;32mreturn\u001b[0m \u001b[0msuper\u001b[0m\u001b[0;34m(\u001b[0m\u001b[0;34m)\u001b[0m\u001b[0;34m.\u001b[0m\u001b[0mshow\u001b[0m\u001b[0;34m(\u001b[0m\u001b[0mfmt\u001b[0m\u001b[0;34m=\u001b[0m\u001b[0mfmt\u001b[0m\u001b[0;34m,\u001b[0m \u001b[0mapp\u001b[0m\u001b[0;34m=\u001b[0m\u001b[0mapp\u001b[0m\u001b[0;34m,\u001b[0m \u001b[0;34m**\u001b[0m\u001b[0mkeywords\u001b[0m\u001b[0;34m)\u001b[0m\u001b[0;34m\u001b[0m\u001b[0;34m\u001b[0m\u001b[0m\n\u001b[0m\u001b[1;32m    413\u001b[0m \u001b[0;34m\u001b[0m\u001b[0m\n\u001b[1;32m    414\u001b[0m     \u001b[0;31m# --------------------------------------------------------------------------\u001b[0m\u001b[0;34m\u001b[0m\u001b[0;34m\u001b[0m\u001b[0m\n",
            "\u001b[0;32m/usr/local/lib/python3.10/dist-packages/music21/base.py\u001b[0m in \u001b[0;36mshow\u001b[0;34m(self, fmt, app, **keywords)\u001b[0m\n\u001b[1;32m   2958\u001b[0m         \u001b[0mscClass\u001b[0m \u001b[0;34m=\u001b[0m \u001b[0mcommon\u001b[0m\u001b[0;34m.\u001b[0m\u001b[0mfindSubConverterForFormat\u001b[0m\u001b[0;34m(\u001b[0m\u001b[0mregularizedConverterFormat\u001b[0m\u001b[0;34m)\u001b[0m\u001b[0;34m\u001b[0m\u001b[0;34m\u001b[0m\u001b[0m\n\u001b[1;32m   2959\u001b[0m         \u001b[0mformatWriter\u001b[0m \u001b[0;34m=\u001b[0m \u001b[0mscClass\u001b[0m\u001b[0;34m(\u001b[0m\u001b[0;34m)\u001b[0m\u001b[0;34m\u001b[0m\u001b[0;34m\u001b[0m\u001b[0m\n\u001b[0;32m-> 2960\u001b[0;31m         return formatWriter.show(self,\n\u001b[0m\u001b[1;32m   2961\u001b[0m                                  \u001b[0mregularizedConverterFormat\u001b[0m\u001b[0;34m,\u001b[0m\u001b[0;34m\u001b[0m\u001b[0;34m\u001b[0m\u001b[0m\n\u001b[1;32m   2962\u001b[0m                                  \u001b[0mapp\u001b[0m\u001b[0;34m=\u001b[0m\u001b[0mapp\u001b[0m\u001b[0;34m,\u001b[0m\u001b[0;34m\u001b[0m\u001b[0;34m\u001b[0m\u001b[0m\n",
            "\u001b[0;32m/usr/local/lib/python3.10/dist-packages/music21/converter/subConverters.py\u001b[0m in \u001b[0;36mshow\u001b[0;34m(self, obj, fmt, app, subformats, **keywords)\u001b[0m\n\u001b[1;32m    381\u001b[0m \u001b[0;34m\u001b[0m\u001b[0m\n\u001b[1;32m    382\u001b[0m         \u001b[0;32mif\u001b[0m \u001b[0mhelperFormat\u001b[0m \u001b[0;32min\u001b[0m \u001b[0;34m(\u001b[0m\u001b[0;34m'musicxml'\u001b[0m\u001b[0;34m,\u001b[0m \u001b[0;34m'xml'\u001b[0m\u001b[0;34m,\u001b[0m \u001b[0;34m'lilypond'\u001b[0m\u001b[0;34m,\u001b[0m \u001b[0;34m'lily'\u001b[0m\u001b[0;34m)\u001b[0m\u001b[0;34m:\u001b[0m\u001b[0;34m\u001b[0m\u001b[0;34m\u001b[0m\u001b[0m\n\u001b[0;32m--> 383\u001b[0;31m             ip21_converters.showImageThroughMuseScore(\n\u001b[0m\u001b[1;32m    384\u001b[0m                 \u001b[0mobj\u001b[0m\u001b[0;34m,\u001b[0m\u001b[0;34m\u001b[0m\u001b[0;34m\u001b[0m\u001b[0m\n\u001b[1;32m    385\u001b[0m                 \u001b[0msubConverter\u001b[0m\u001b[0;34m=\u001b[0m\u001b[0mhelperSubConverter\u001b[0m\u001b[0;34m,\u001b[0m\u001b[0;34m\u001b[0m\u001b[0;34m\u001b[0m\u001b[0m\n",
            "\u001b[0;32m/usr/local/lib/python3.10/dist-packages/music21/ipython21/converters.py\u001b[0m in \u001b[0;36mshowImageThroughMuseScore\u001b[0;34m(obj, subConverter, fmt, subformats, multipageWidget, **keywords)\u001b[0m\n\u001b[1;32m     78\u001b[0m         \u001b[0;32mreturn\u001b[0m\u001b[0;34m\u001b[0m\u001b[0;34m\u001b[0m\u001b[0m\n\u001b[1;32m     79\u001b[0m \u001b[0;34m\u001b[0m\u001b[0m\n\u001b[0;32m---> 80\u001b[0;31m     fp = subConverter.write(\n\u001b[0m\u001b[1;32m     81\u001b[0m         \u001b[0mobj\u001b[0m\u001b[0;34m,\u001b[0m\u001b[0;34m\u001b[0m\u001b[0;34m\u001b[0m\u001b[0m\n\u001b[1;32m     82\u001b[0m         \u001b[0mfmt\u001b[0m\u001b[0;34m,\u001b[0m\u001b[0;34m\u001b[0m\u001b[0;34m\u001b[0m\u001b[0m\n",
            "\u001b[0;32m/usr/local/lib/python3.10/dist-packages/music21/converter/subConverters.py\u001b[0m in \u001b[0;36mwrite\u001b[0;34m(self, obj, fmt, fp, subformats, makeNotation, compress, **keywords)\u001b[0m\n\u001b[1;32m    989\u001b[0m                 and not str(environLocal['musescoreDirectPNGPath']).startswith('/skip')):\n\u001b[1;32m    990\u001b[0m             \u001b[0;32mfrom\u001b[0m \u001b[0mmusic21\u001b[0m\u001b[0;34m.\u001b[0m\u001b[0mconverter\u001b[0m\u001b[0;34m.\u001b[0m\u001b[0mmuseScore\u001b[0m \u001b[0;32mimport\u001b[0m \u001b[0mrunThroughMuseScore\u001b[0m\u001b[0;34m\u001b[0m\u001b[0;34m\u001b[0m\u001b[0m\n\u001b[0;32m--> 991\u001b[0;31m             \u001b[0moutFp\u001b[0m \u001b[0;34m=\u001b[0m \u001b[0mrunThroughMuseScore\u001b[0m\u001b[0;34m(\u001b[0m\u001b[0mxmlFp\u001b[0m\u001b[0;34m,\u001b[0m \u001b[0msubformats\u001b[0m\u001b[0;34m,\u001b[0m \u001b[0;34m**\u001b[0m\u001b[0mkeywords\u001b[0m\u001b[0;34m)\u001b[0m\u001b[0;34m\u001b[0m\u001b[0;34m\u001b[0m\u001b[0m\n\u001b[0m\u001b[1;32m    992\u001b[0m         \u001b[0;32melif\u001b[0m \u001b[0mcompress\u001b[0m\u001b[0;34m:\u001b[0m\u001b[0;34m\u001b[0m\u001b[0;34m\u001b[0m\u001b[0m\n\u001b[1;32m    993\u001b[0m             archiveTools.compressXML(xmlFp,\n",
            "\u001b[0;32m/usr/local/lib/python3.10/dist-packages/music21/converter/museScore.py\u001b[0m in \u001b[0;36mrunThroughMuseScore\u001b[0;34m(fp, subformats, dpi, trimEdges, leaveMargin, **keywords)\u001b[0m\n\u001b[1;32m     53\u001b[0m             + 'put a link to it in your .music21rc via Environment.')\n\u001b[1;32m     54\u001b[0m     \u001b[0;32mif\u001b[0m \u001b[0;32mnot\u001b[0m \u001b[0mmuseScorePath\u001b[0m\u001b[0;34m.\u001b[0m\u001b[0mexists\u001b[0m\u001b[0;34m(\u001b[0m\u001b[0;34m)\u001b[0m\u001b[0;34m:\u001b[0m\u001b[0;34m\u001b[0m\u001b[0;34m\u001b[0m\u001b[0m\n\u001b[0;32m---> 55\u001b[0;31m         raise SubConverterException(\n\u001b[0m\u001b[1;32m     56\u001b[0m             \u001b[0;34m\"Cannot find a path to the 'mscore' file at \"\u001b[0m\u001b[0;34m\u001b[0m\u001b[0;34m\u001b[0m\u001b[0m\n\u001b[1;32m     57\u001b[0m             + f'{museScorePath} -- download MuseScore')\n",
            "\u001b[0;31mSubConverterException\u001b[0m: Cannot find a path to the 'mscore' file at /usr/bin/mscore3 -- download MuseScore"
          ]
        }
      ],
      "source": [
        "info = music_generator.generate(\n",
        "    [\"START\"], [\"0.5\"], max_tokens=50, temperature=0.7\n",
        ")\n",
        "midi_stream = info[-1][\"midi\"].chordify()\n",
        "midi_stream.show()"
      ]
    },
    {
      "cell_type": "markdown",
      "id": "8932e58a-5a9c-44a3-bff4-39c564fafdf4",
      "metadata": {
        "id": "8932e58a-5a9c-44a3-bff4-39c564fafdf4"
      },
      "source": [
        "## Write music to MIDI file"
      ]
    },
    {
      "cell_type": "code",
      "execution_count": 55,
      "id": "2402314a-ca87-468e-a9d1-b79403fe7065",
      "metadata": {
        "colab": {
          "base_uri": "https://localhost:8080/"
        },
        "id": "2402314a-ca87-468e-a9d1-b79403fe7065",
        "outputId": "966b6bd3-2c4c-4eeb-fddf-4d7d643e2945"
      },
      "outputs": [
        {
          "output_type": "stream",
          "name": "stdout",
          "text": [
            "MIDI file saved as /content/output/output-20240411-203817.mid\n"
          ]
        }
      ],
      "source": [
        "import os\n",
        "import time\n",
        "from music21 import midi\n",
        "\n",
        "# Create a directory for output if it doesn't exist\n",
        "output_dir = '/content/output'\n",
        "os.makedirs(output_dir, exist_ok=True)\n",
        "\n",
        "# Generate the timestamped filename\n",
        "timestr = time.strftime(\"%Y%m%d-%H%M%S\")\n",
        "output_path = os.path.join(output_dir, f\"output-{timestr}.mid\")\n",
        "\n",
        "# Write the MIDI file to the new path\n",
        "midi_stream.write(\"midi\", fp=output_path)\n",
        "\n",
        "print(f\"MIDI file saved as {output_path}\")\n"
      ]
    },
    {
      "cell_type": "markdown",
      "id": "24eb14c3-9dab-42b9-8916-b9b3a4d38590",
      "metadata": {
        "id": "24eb14c3-9dab-42b9-8916-b9b3a4d38590"
      },
      "source": [
        "## Note probabilities"
      ]
    },
    {
      "cell_type": "code",
      "execution_count": 56,
      "id": "c92ad9f2-74ed-4432-b633-f74fd17b6a49",
      "metadata": {
        "id": "c92ad9f2-74ed-4432-b633-f74fd17b6a49"
      },
      "outputs": [],
      "source": [
        "max_pitch = 70\n",
        "seq_len = len(info)\n",
        "grid = np.zeros((max_pitch, seq_len), dtype=np.float32)\n",
        "\n",
        "for j in range(seq_len):\n",
        "    for i, prob in enumerate(info[j][\"note_probs\"]):\n",
        "        try:\n",
        "            pitch = music21.note.Note(notes_vocab[i]).pitch.midi\n",
        "            grid[pitch, j] = prob\n",
        "        except:\n",
        "            pass  # Don't show key / time signatures"
      ]
    },
    {
      "cell_type": "code",
      "execution_count": 57,
      "id": "0d4ce565-a5d4-4cec-b321-1e02d814b65c",
      "metadata": {
        "colab": {
          "base_uri": "https://localhost:8080/",
          "height": 503
        },
        "id": "0d4ce565-a5d4-4cec-b321-1e02d814b65c",
        "outputId": "d27fe930-f7ef-4457-cf70-f87449337609"
      },
      "outputs": [
        {
          "output_type": "display_data",
          "data": {
            "text/plain": [
              "<Figure size 800x800 with 1 Axes>"
            ],
            "image/png": "[encoded data removed]"
          },
          "metadata": {
            "image/png": {
              "width": 667,
              "height": 486
            }
          }
        }
      ],
      "source": [
        "fig, ax = plt.subplots(figsize=(8, 8))\n",
        "ax.set_yticks([int(j) for j in range(35, 70)])\n",
        "plt.imshow(\n",
        "    grid[35:70, :],\n",
        "    origin=\"lower\",\n",
        "    cmap=\"coolwarm\",\n",
        "    vmin=-0.5,\n",
        "    vmax=0.5,\n",
        "    extent=[0, seq_len, 35, 70],\n",
        ")\n",
        "plt.show()"
      ]
    },
    {
      "cell_type": "markdown",
      "id": "bdae49db-6e0f-4071-a289-74310d684fab",
      "metadata": {
        "id": "bdae49db-6e0f-4071-a289-74310d684fab"
      },
      "source": [
        "## Attention Plot"
      ]
    },
    {
      "cell_type": "code",
      "execution_count": 58,
      "id": "cf270a8f-da3f-4d21-b4f9-c19fcf7c4332",
      "metadata": {
        "id": "cf270a8f-da3f-4d21-b4f9-c19fcf7c4332"
      },
      "outputs": [],
      "source": [
        "plot_size = 20\n",
        "\n",
        "att_matrix = np.zeros((plot_size, plot_size))\n",
        "prediction_output = []\n",
        "last_prompt = []"
      ]
    },
    {
      "cell_type": "code",
      "execution_count": 59,
      "id": "6a3fcec1-f2fc-4dbc-b997-d00a958b6388",
      "metadata": {
        "tags": [],
        "id": "6a3fcec1-f2fc-4dbc-b997-d00a958b6388"
      },
      "outputs": [],
      "source": [
        "for j in range(plot_size):\n",
        "    atts = info[j][\"atts\"].max(axis=0)\n",
        "    att_matrix[: (j + 1), j] = atts\n",
        "    prediction_output.append(info[j][\"chosen_note\"][0])\n",
        "    last_prompt.append(info[j][\"prompt\"][0][-1])"
      ]
    },
    {
      "cell_type": "code",
      "execution_count": 60,
      "id": "6b2742cf-ad18-4c23-8181-5d868ca03c0f",
      "metadata": {
        "colab": {
          "base_uri": "https://localhost:8080/",
          "height": 721
        },
        "id": "6b2742cf-ad18-4c23-8181-5d868ca03c0f",
        "outputId": "983e54cb-7e2e-4bf7-9ba7-576fa8c8fb25"
      },
      "outputs": [
        {
          "output_type": "display_data",
          "data": {
            "text/plain": [
              "<Figure size 800x800 with 1 Axes>"
            ],
            "image/png": "[encoded data removed]"
          },
          "metadata": {
            "image/png": {
              "width": 704,
              "height": 704
            }
          }
        }
      ],
      "source": [
        "fig, ax = plt.subplots(figsize=(8, 8))\n",
        "im = ax.imshow(att_matrix, cmap=\"Greens\", interpolation=\"nearest\")\n",
        "\n",
        "ax.set_xticks(np.arange(-0.5, plot_size, 1), minor=True)\n",
        "ax.set_yticks(np.arange(-0.5, plot_size, 1), minor=True)\n",
        "ax.grid(which=\"minor\", color=\"black\", linestyle=\"-\", linewidth=1)\n",
        "ax.set_xticks(np.arange(plot_size))\n",
        "ax.set_yticks(np.arange(plot_size))\n",
        "ax.set_xticklabels(prediction_output[:plot_size])\n",
        "ax.set_yticklabels(last_prompt[:plot_size])\n",
        "ax.xaxis.tick_top()\n",
        "\n",
        "plt.setp(\n",
        "    ax.get_xticklabels(),\n",
        "    rotation=90,\n",
        "    ha=\"left\",\n",
        "    va=\"center\",\n",
        "    rotation_mode=\"anchor\",\n",
        ")\n",
        "plt.show()"
      ]
    },
    {
      "cell_type": "code",
      "execution_count": null,
      "id": "af9fd8cb-2877-4ba2-b15a-b8b5a6122c0c",
      "metadata": {
        "id": "af9fd8cb-2877-4ba2-b15a-b8b5a6122c0c"
      },
      "outputs": [],
      "source": []
    }
  ],
  "metadata": {
    "kernelspec": {
      "display_name": "Python 3",
      "name": "python3"
    },
    "language_info": {
      "codemirror_mode": {
        "name": "ipython",
        "version": 3
      },
      "file_extension": ".py",
      "mimetype": "text/x-python",
      "name": "python",
      "nbconvert_exporter": "python",
      "pygments_lexer": "ipython3",
      "version": "3.8.10"
    },
    "vscode": {
      "interpreter": {
        "hash": "aee8b7b246df8f9039afb4144a1f6fd8d2ca17a180786b69acc140d282b71a49"
      }
    },
    "colab": {
      "provenance": [],
      "machine_shape": "hm",
      "gpuType": "V28"
    },
    "accelerator": "TPU"
  },
  "nbformat": 4,
  "nbformat_minor": 5
}