{
  "cells": [
    {
      "cell_type": "markdown",
      "id": "b076bd1a-b236-4fbc-953d-8295b25122ae",
      "metadata": {
        "id": "b076bd1a-b236-4fbc-953d-8295b25122ae"
      },
      "source": [
        "# 🥙 LSTM on Recipe Data"
      ]
    },
    {
      "cell_type": "markdown",
      "id": "658a95da-9645-4bcf-bd9d-4b95a4b6f582",
      "metadata": {
        "id": "658a95da-9645-4bcf-bd9d-4b95a4b6f582"
      },
      "source": [
        "In this notebook, we'll walk through the steps required to train your own LSTM on the recipes dataset"
      ]
    },
    {
      "cell_type": "code",
      "execution_count": null,
      "id": "4e0d56cc-4773-4029-97d8-26f882ba79c9",
      "metadata": {
        "id": "4e0d56cc-4773-4029-97d8-26f882ba79c9"
      },
      "outputs": [],
      "source": [
        "%load_ext autoreload\n",
        "%autoreload 2\n",
        "\n",
        "import numpy as np\n",
        "import json\n",
        "import re\n",
        "import string\n",
        "\n",
        "import tensorflow as tf\n",
        "from tensorflow.keras import layers, models, callbacks, losses"
      ]
    },
    {
      "cell_type": "markdown",
      "id": "339e6268-ebd7-4feb-86db-1fe7abccdbe5",
      "metadata": {
        "id": "339e6268-ebd7-4feb-86db-1fe7abccdbe5"
      },
      "source": [
        "## 0. Parameters <a name=\"parameters\"></a>"
      ]
    },
    {
      "cell_type": "code",
      "execution_count": null,
      "id": "2d8352af-343e-4c2e-8c91-95f8bac1c8a1",
      "metadata": {
        "id": "2d8352af-343e-4c2e-8c91-95f8bac1c8a1"
      },
      "outputs": [],
      "source": [
        "VOCAB_SIZE = 10000\n",
        "MAX_LEN = 200\n",
        "EMBEDDING_DIM = 100\n",
        "N_UNITS = 128\n",
        "VALIDATION_SPLIT = 0.2\n",
        "SEED = 42\n",
        "LOAD_MODEL = False\n",
        "BATCH_SIZE = 32\n",
        "EPOCHS = 25"
      ]
    },
    {
      "cell_type": "code",
      "source": [
        "from google.colab import files\n",
        "\n",
        "# Create a file upload dialog for uploading the dataset\n",
        "uploaded = files.upload()\n",
        "\n",
        "# The uploaded variable contains the names of the uploaded files, if needed"
      ],
      "metadata": {
        "colab": {
          "base_uri": "https://localhost:8080/",
          "height": 71
        },
        "id": "G4Nx6An9t5Z5",
        "outputId": "d976d4c5-9552-4146-b561-9ce47b7256f5"
      },
      "id": "G4Nx6An9t5Z5",
      "execution_count": null,
      "outputs": [
        {
          "output_type": "display_data",
          "data": {
            "text/plain": [
              "<IPython.core.display.HTML object>"
            ],
            "text/html": [
              "\n",
              "     <input type=\"file\" id=\"files-394d15ab-bf3b-4e85-b936-859ed3335e28\" name=\"files[]\" multiple disabled\n",
              "        style=\"border:none\" />\n",
              "     <output id=\"result-394d15ab-bf3b-4e85-b936-859ed3335e28\">\n",
              "      Upload widget is only available when the cell has been executed in the\n",
              "      current browser session. Please rerun this cell to enable.\n",
              "      </output>\n",
              "      <script>// Copyright 2017 Google LLC\n",
              "//\n",
              "// Licensed under the Apache License, Version 2.0 (the \"License\");\n",
              "// you may not use this file except in compliance with the License.\n",
              "// You may obtain a copy of the License at\n",
              "//\n",
              "//      http://www.apache.org/licenses/LICENSE-2.0\n",
              "//\n",
              "// Unless required by applicable law or agreed to in writing, software\n",
              "// distributed under the License is distributed on an \"AS IS\" BASIS,\n",
              "// WITHOUT WARRANTIES OR CONDITIONS OF ANY KIND, either express or implied.\n",
              "// See the License for the specific language governing permissions and\n",
              "// limitations under the License.\n",
              "\n",
              "/**\n",
              " * @fileoverview Helpers for google.colab Python module.\n",
              " */\n",
              "(function(scope) {\n",
              "function span(text, styleAttributes = {}) {\n",
              "  const element = document.createElement('span');\n",
              "  element.textContent = text;\n",
              "  for (const key of Object.keys(styleAttributes)) {\n",
              "    element.style[key] = styleAttributes[key];\n",
              "  }\n",
              "  return element;\n",
              "}\n",
              "\n",
              "// Max number of bytes which will be uploaded at a time.\n",
              "const MAX_PAYLOAD_SIZE = 100 * 1024;\n",
              "\n",
              "function _uploadFiles(inputId, outputId) {\n",
              "  const steps = uploadFilesStep(inputId, outputId);\n",
              "  const outputElement = document.getElementById(outputId);\n",
              "  // Cache steps on the outputElement to make it available for the next call\n",
              "  // to uploadFilesContinue from Python.\n",
              "  outputElement.steps = steps;\n",
              "\n",
              "  return _uploadFilesContinue(outputId);\n",
              "}\n",
              "\n",
              "// This is roughly an async generator (not supported in the browser yet),\n",
              "// where there are multiple asynchronous steps and the Python side is going\n",
              "// to poll for completion of each step.\n",
              "// This uses a Promise to block the python side on completion of each step,\n",
              "// then passes the result of the previous step as the input to the next step.\n",
              "function _uploadFilesContinue(outputId) {\n",
              "  const outputElement = document.getElementById(outputId);\n",
              "  const steps = outputElement.steps;\n",
              "\n",
              "  const next = steps.next(outputElement.lastPromiseValue);\n",
              "  return Promise.resolve(next.value.promise).then((value) => {\n",
              "    // Cache the last promise value to make it available to the next\n",
              "    // step of the generator.\n",
              "    outputElement.lastPromiseValue = value;\n",
              "    return next.value.response;\n",
              "  });\n",
              "}\n",
              "\n",
              "/**\n",
              " * Generator function which is called between each async step of the upload\n",
              " * process.\n",
              " * @param {string} inputId Element ID of the input file picker element.\n",
              " * @param {string} outputId Element ID of the output display.\n",
              " * @return {!Iterable<!Object>} Iterable of next steps.\n",
              " */\n",
              "function* uploadFilesStep(inputId, outputId) {\n",
              "  const inputElement = document.getElementById(inputId);\n",
              "  inputElement.disabled = false;\n",
              "\n",
              "  const outputElement = document.getElementById(outputId);\n",
              "  outputElement.innerHTML = '';\n",
              "\n",
              "  const pickedPromise = new Promise((resolve) => {\n",
              "    inputElement.addEventListener('change', (e) => {\n",
              "      resolve(e.target.files);\n",
              "    });\n",
              "  });\n",
              "\n",
              "  const cancel = document.createElement('button');\n",
              "  inputElement.parentElement.appendChild(cancel);\n",
              "  cancel.textContent = 'Cancel upload';\n",
              "  const cancelPromise = new Promise((resolve) => {\n",
              "    cancel.onclick = () => {\n",
              "      resolve(null);\n",
              "    };\n",
              "  });\n",
              "\n",
              "  // Wait for the user to pick the files.\n",
              "  const files = yield {\n",
              "    promise: Promise.race([pickedPromise, cancelPromise]),\n",
              "    response: {\n",
              "      action: 'starting',\n",
              "    }\n",
              "  };\n",
              "\n",
              "  cancel.remove();\n",
              "\n",
              "  // Disable the input element since further picks are not allowed.\n",
              "  inputElement.disabled = true;\n",
              "\n",
              "  if (!files) {\n",
              "    return {\n",
              "      response: {\n",
              "        action: 'complete',\n",
              "      }\n",
              "    };\n",
              "  }\n",
              "\n",
              "  for (const file of files) {\n",
              "    const li = document.createElement('li');\n",
              "    li.append(span(file.name, {fontWeight: 'bold'}));\n",
              "    li.append(span(\n",
              "        `(${file.type || 'n/a'}) - ${file.size} bytes, ` +\n",
              "        `last modified: ${\n",
              "            file.lastModifiedDate ? file.lastModifiedDate.toLocaleDateString() :\n",
              "                                    'n/a'} - `));\n",
              "    const percent = span('0% done');\n",
              "    li.appendChild(percent);\n",
              "\n",
              "    outputElement.appendChild(li);\n",
              "\n",
              "    const fileDataPromise = new Promise((resolve) => {\n",
              "      const reader = new FileReader();\n",
              "      reader.onload = (e) => {\n",
              "        resolve(e.target.result);\n",
              "      };\n",
              "      reader.readAsArrayBuffer(file);\n",
              "    });\n",
              "    // Wait for the data to be ready.\n",
              "    let fileData = yield {\n",
              "      promise: fileDataPromise,\n",
              "      response: {\n",
              "        action: 'continue',\n",
              "      }\n",
              "    };\n",
              "\n",
              "    // Use a chunked sending to avoid message size limits. See b/62115660.\n",
              "    let position = 0;\n",
              "    do {\n",
              "      const length = Math.min(fileData.byteLength - position, MAX_PAYLOAD_SIZE);\n",
              "      const chunk = new Uint8Array(fileData, position, length);\n",
              "      position += length;\n",
              "\n",
              "      const base64 = btoa(String.fromCharCode.apply(null, chunk));\n",
              "      yield {\n",
              "        response: {\n",
              "          action: 'append',\n",
              "          file: file.name,\n",
              "          data: base64,\n",
              "        },\n",
              "      };\n",
              "\n",
              "      let percentDone = fileData.byteLength === 0 ?\n",
              "          100 :\n",
              "          Math.round((position / fileData.byteLength) * 100);\n",
              "      percent.textContent = `${percentDone}% done`;\n",
              "\n",
              "    } while (position < fileData.byteLength);\n",
              "  }\n",
              "\n",
              "  // All done.\n",
              "  yield {\n",
              "    response: {\n",
              "      action: 'complete',\n",
              "    }\n",
              "  };\n",
              "}\n",
              "\n",
              "scope.google = scope.google || {};\n",
              "scope.google.colab = scope.google.colab || {};\n",
              "scope.google.colab._files = {\n",
              "  _uploadFiles,\n",
              "  _uploadFilesContinue,\n",
              "};\n",
              "})(self);\n",
              "</script> "
            ]
          },
          "metadata": {}
        },
        {
          "output_type": "stream",
          "name": "stdout",
          "text": [
            "Saving full_format_recipes.json to full_format_recipes.json\n"
          ]
        }
      ]
    },
    {
      "cell_type": "markdown",
      "id": "b7716fac-0010-49b0-b98e-53be2259edde",
      "metadata": {
        "id": "b7716fac-0010-49b0-b98e-53be2259edde"
      },
      "source": [
        "## 1. Load the data <a name=\"load\"></a>"
      ]
    },
    {
      "cell_type": "code",
      "execution_count": null,
      "id": "93cf6b0f-9667-4146-8911-763a8a2925d3",
      "metadata": {
        "tags": [],
        "id": "93cf6b0f-9667-4146-8911-763a8a2925d3"
      },
      "outputs": [],
      "source": [
        "# Load the full dataset\n",
        "with open(\"full_format_recipes.json\") as json_data:\n",
        "    recipe_data = json.load(json_data)"
      ]
    },
    {
      "cell_type": "code",
      "execution_count": null,
      "id": "23a74eca-f1b7-4a46-9a1f-b5806a4ed361",
      "metadata": {
        "tags": [],
        "id": "23a74eca-f1b7-4a46-9a1f-b5806a4ed361"
      },
      "outputs": [],
      "source": [
        "# Filter the dataset\n",
        "filtered_data = [\n",
        "    \"Recipe for \" + x[\"title\"] + \" | \" + \" \".join(x[\"directions\"])\n",
        "    for x in recipe_data\n",
        "    if \"title\" in x\n",
        "    and x[\"title\"] is not None\n",
        "    and \"directions\" in x\n",
        "    and x[\"directions\"] is not None\n",
        "]"
      ]
    },
    {
      "cell_type": "code",
      "execution_count": null,
      "id": "389c20de-0422-4c48-a7b4-6ee12a7bf0e2",
      "metadata": {
        "tags": [],
        "colab": {
          "base_uri": "https://localhost:8080/"
        },
        "id": "389c20de-0422-4c48-a7b4-6ee12a7bf0e2",
        "outputId": "104c7da7-894d-46da-e6c2-f9b8e2d2c4ba"
      },
      "outputs": [
        {
          "output_type": "stream",
          "name": "stdout",
          "text": [
            "20111 recipes loaded\n"
          ]
        }
      ],
      "source": [
        "# Count the recipes\n",
        "n_recipes = len(filtered_data)\n",
        "print(f\"{n_recipes} recipes loaded\")"
      ]
    },
    {
      "cell_type": "code",
      "execution_count": null,
      "id": "1b2e3cf7-e416-460e-874a-0dd9637bca36",
      "metadata": {
        "colab": {
          "base_uri": "https://localhost:8080/"
        },
        "id": "1b2e3cf7-e416-460e-874a-0dd9637bca36",
        "outputId": "6633943d-7bb7-49b2-c080-fc70a05f5226"
      },
      "outputs": [
        {
          "output_type": "stream",
          "name": "stdout",
          "text": [
            "Recipe for Ham Persillade with Mustard Potato Salad and Mashed Peas  | Chop enough parsley leaves to measure 1 tablespoon; reserve. Chop remaining leaves and stems and simmer with broth and garlic in a small saucepan, covered, 5 minutes. Meanwhile, sprinkle gelatin over water in a medium bowl and let soften 1 minute. Strain broth through a fine-mesh sieve into bowl with gelatin and stir to dissolve. Season with salt and pepper. Set bowl in an ice bath and cool to room temperature, stirring. Toss ham with reserved parsley and divide among jars. Pour gelatin on top and chill until set, at least 1 hour. Whisk together mayonnaise, mustard, vinegar, 1/4 teaspoon salt, and 1/4 teaspoon pepper in a large bowl. Stir in celery, cornichons, and potatoes. Pulse peas with marjoram, oil, 1/2 teaspoon pepper, and 1/4 teaspoon salt in a food processor to a coarse mash. Layer peas, then potato salad, over ham.\n"
          ]
        }
      ],
      "source": [
        "example = filtered_data[9]\n",
        "print(example)"
      ]
    },
    {
      "cell_type": "markdown",
      "id": "3f871aaf-d873-41c7-8946-e4eef7ac17c1",
      "metadata": {
        "id": "3f871aaf-d873-41c7-8946-e4eef7ac17c1"
      },
      "source": [
        "## 2. Tokenise the data"
      ]
    },
    {
      "cell_type": "code",
      "execution_count": null,
      "id": "5b2064fb-5dcc-4657-b470-0928d10e2ddc",
      "metadata": {
        "tags": [],
        "id": "5b2064fb-5dcc-4657-b470-0928d10e2ddc"
      },
      "outputs": [],
      "source": [
        "# Pad the punctuation, to treat them as separate 'words'\n",
        "def pad_punctuation(s):\n",
        "    s = re.sub(f\"([{string.punctuation}])\", r\" \\1 \", s)\n",
        "    s = re.sub(\" +\", \" \", s)\n",
        "    return s\n",
        "\n",
        "\n",
        "text_data = [pad_punctuation(x) for x in filtered_data]"
      ]
    },
    {
      "cell_type": "code",
      "execution_count": null,
      "id": "b87d7c65-9a46-492a-a5c0-a043b0d252f3",
      "metadata": {
        "colab": {
          "base_uri": "https://localhost:8080/",
          "height": 143
        },
        "id": "b87d7c65-9a46-492a-a5c0-a043b0d252f3",
        "outputId": "70b8c42f-a37b-44d0-db23-7db83e4c888b"
      },
      "outputs": [
        {
          "output_type": "execute_result",
          "data": {
            "text/plain": [
              "'Recipe for Ham Persillade with Mustard Potato Salad and Mashed Peas | Chop enough parsley leaves to measure 1 tablespoon ; reserve . Chop remaining leaves and stems and simmer with broth and garlic in a small saucepan , covered , 5 minutes . Meanwhile , sprinkle gelatin over water in a medium bowl and let soften 1 minute . Strain broth through a fine - mesh sieve into bowl with gelatin and stir to dissolve . Season with salt and pepper . Set bowl in an ice bath and cool to room temperature , stirring . Toss ham with reserved parsley and divide among jars . Pour gelatin on top and chill until set , at least 1 hour . Whisk together mayonnaise , mustard , vinegar , 1 / 4 teaspoon salt , and 1 / 4 teaspoon pepper in a large bowl . Stir in celery , cornichons , and potatoes . Pulse peas with marjoram , oil , 1 / 2 teaspoon pepper , and 1 / 4 teaspoon salt in a food processor to a coarse mash . Layer peas , then potato salad , over ham . '"
            ],
            "application/vnd.google.colaboratory.intrinsic+json": {
              "type": "string"
            }
          },
          "metadata": {},
          "execution_count": 9
        }
      ],
      "source": [
        "# Display an example of a recipe\n",
        "example_data = text_data[9]\n",
        "example_data"
      ]
    },
    {
      "cell_type": "code",
      "execution_count": null,
      "id": "9834f916-b21a-4104-acc9-f28d3bd7a8c1",
      "metadata": {
        "tags": [],
        "id": "9834f916-b21a-4104-acc9-f28d3bd7a8c1"
      },
      "outputs": [],
      "source": [
        "# Convert to a Tensorflow Dataset\n",
        "text_ds = (\n",
        "    tf.data.Dataset.from_tensor_slices(text_data)\n",
        "    .batch(BATCH_SIZE)\n",
        "    .shuffle(1000)\n",
        ")"
      ]
    },
    {
      "cell_type": "code",
      "execution_count": null,
      "id": "884c0bcb-0807-45a1-8f7e-a32f2c6fa4de",
      "metadata": {
        "id": "884c0bcb-0807-45a1-8f7e-a32f2c6fa4de"
      },
      "outputs": [],
      "source": [
        "# Create a vectorisation layer\n",
        "vectorize_layer = layers.TextVectorization(\n",
        "    standardize=\"lower\",\n",
        "    max_tokens=VOCAB_SIZE,\n",
        "    output_mode=\"int\",\n",
        "    output_sequence_length=MAX_LEN + 1,\n",
        ")"
      ]
    },
    {
      "cell_type": "code",
      "execution_count": null,
      "id": "4d6dd34a-d905-497b-926a-405380ebcf98",
      "metadata": {
        "id": "4d6dd34a-d905-497b-926a-405380ebcf98"
      },
      "outputs": [],
      "source": [
        "# Adapt the layer to the training set\n",
        "vectorize_layer.adapt(text_ds)\n",
        "vocab = vectorize_layer.get_vocabulary()"
      ]
    },
    {
      "cell_type": "code",
      "execution_count": null,
      "id": "f6c1c7ce-3cf0-40d4-a3dc-ab7090f69f2f",
      "metadata": {
        "colab": {
          "base_uri": "https://localhost:8080/"
        },
        "id": "f6c1c7ce-3cf0-40d4-a3dc-ab7090f69f2f",
        "outputId": "4180b13a-815c-49a6-8dd5-5da0160cbf5b"
      },
      "outputs": [
        {
          "output_type": "stream",
          "name": "stdout",
          "text": [
            "0: \n",
            "1: [UNK]\n",
            "2: .\n",
            "3: ,\n",
            "4: and\n",
            "5: to\n",
            "6: in\n",
            "7: the\n",
            "8: with\n",
            "9: a\n"
          ]
        }
      ],
      "source": [
        "# Display some token:word mappings\n",
        "for i, word in enumerate(vocab[:10]):\n",
        "    print(f\"{i}: {word}\")"
      ]
    },
    {
      "cell_type": "code",
      "execution_count": null,
      "id": "1cc30186-7ec6-4eb6-b29a-65df6714d321",
      "metadata": {
        "colab": {
          "base_uri": "https://localhost:8080/"
        },
        "id": "1cc30186-7ec6-4eb6-b29a-65df6714d321",
        "outputId": "0b620569-22c0-4209-c63e-01902816b054"
      },
      "outputs": [
        {
          "output_type": "stream",
          "name": "stdout",
          "text": [
            "[  26   16  557    1    8  298  335  189    4 1054  494   27  332  228\n",
            "  235  262    5  594   11  133   22  311    2  332   45  262    4  671\n",
            "    4   70    8  171    4   81    6    9   65   80    3  121    3   59\n",
            "   12    2  299    3   88  650   20   39    6    9   29   21    4   67\n",
            "  529   11  164    2  320  171  102    9  374   13  643  306   25   21\n",
            "    8  650    4   42    5  931    2   63    8   24    4   33    2  114\n",
            "   21    6  178  181 1245    4   60    5  140  112    3   48    2  117\n",
            "  557    8  285  235    4  200  292  980    2  107  650   28   72    4\n",
            "  108   10  114    3   57  204   11  172    2   73  110  482    3  298\n",
            "    3  190    3   11   23   32  142   24    3    4   11   23   32  142\n",
            "   33    6    9   30   21    2   42    6  353    3 3224    3    4  150\n",
            "    2  437  494    8 1281    3   37    3   11   23   15  142   33    3\n",
            "    4   11   23   32  142   24    6    9  291  188    5    9  412  572\n",
            "    2  230  494    3   46  335  189    3   20  557    2    0    0    0\n",
            "    0    0    0    0    0]\n"
          ]
        }
      ],
      "source": [
        "# Display the same example converted to ints\n",
        "example_tokenised = vectorize_layer(example_data)\n",
        "print(example_tokenised.numpy())"
      ]
    },
    {
      "cell_type": "markdown",
      "id": "8c195efb-84c6-4be0-a989-a7542188ad35",
      "metadata": {
        "id": "8c195efb-84c6-4be0-a989-a7542188ad35"
      },
      "source": [
        "## 3. Create the Training Set"
      ]
    },
    {
      "cell_type": "code",
      "execution_count": null,
      "id": "740294a1-1a6b-4c89-92f2-036d7d1b788b",
      "metadata": {
        "id": "740294a1-1a6b-4c89-92f2-036d7d1b788b"
      },
      "outputs": [],
      "source": [
        "# Create the training set of recipes and the same text shifted by one word\n",
        "def prepare_inputs(text):\n",
        "    text = tf.expand_dims(text, -1)\n",
        "    tokenized_sentences = vectorize_layer(text)\n",
        "    x = tokenized_sentences[:, :-1]\n",
        "    y = tokenized_sentences[:, 1:]\n",
        "    return x, y\n",
        "\n",
        "\n",
        "train_ds = text_ds.map(prepare_inputs)"
      ]
    },
    {
      "cell_type": "markdown",
      "id": "aff50401-3abe-4c10-bba8-b35bc13ad7d5",
      "metadata": {
        "tags": [],
        "id": "aff50401-3abe-4c10-bba8-b35bc13ad7d5"
      },
      "source": [
        "## 4. Build the LSTM <a name=\"build\"></a>"
      ]
    },
    {
      "cell_type": "code",
      "execution_count": null,
      "id": "9230b5bf-b4a8-48d5-b73b-6899a598f296",
      "metadata": {
        "colab": {
          "base_uri": "https://localhost:8080/"
        },
        "id": "9230b5bf-b4a8-48d5-b73b-6899a598f296",
        "outputId": "44a1d7d3-fd1d-482f-b973-0a7881e4c4de"
      },
      "outputs": [
        {
          "output_type": "stream",
          "name": "stdout",
          "text": [
            "Model: \"model\"\n",
            "_________________________________________________________________\n",
            " Layer (type)                Output Shape              Param #   \n",
            "=================================================================\n",
            " input_1 (InputLayer)        [(None, None)]            0         \n",
            "                                                                 \n",
            " embedding (Embedding)       (None, None, 100)         1000000   \n",
            "                                                                 \n",
            " lstm (LSTM)                 (None, None, 128)         117248    \n",
            "                                                                 \n",
            " dense (Dense)               (None, None, 10000)       1290000   \n",
            "                                                                 \n",
            "=================================================================\n",
            "Total params: 2407248 (9.18 MB)\n",
            "Trainable params: 2407248 (9.18 MB)\n",
            "Non-trainable params: 0 (0.00 Byte)\n",
            "_________________________________________________________________\n"
          ]
        }
      ],
      "source": [
        "inputs = layers.Input(shape=(None,), dtype=\"int32\")\n",
        "x = layers.Embedding(VOCAB_SIZE, EMBEDDING_DIM)(inputs)\n",
        "x = layers.LSTM(N_UNITS, return_sequences=True)(x)\n",
        "outputs = layers.Dense(VOCAB_SIZE, activation=\"softmax\")(x)\n",
        "lstm = models.Model(inputs, outputs)\n",
        "lstm.summary()"
      ]
    },
    {
      "cell_type": "code",
      "execution_count": null,
      "id": "800a3c6e-fb11-4792-b6bc-9a43a7c977ad",
      "metadata": {
        "tags": [],
        "id": "800a3c6e-fb11-4792-b6bc-9a43a7c977ad"
      },
      "outputs": [],
      "source": [
        "if LOAD_MODEL:\n",
        "    # model.load_weights('./models/model')\n",
        "    lstm = models.load_model(\"./models/lstm\", compile=False)"
      ]
    },
    {
      "cell_type": "markdown",
      "id": "35b14665-4359-447b-be58-3fd58ba69084",
      "metadata": {
        "id": "35b14665-4359-447b-be58-3fd58ba69084"
      },
      "source": [
        "## 5. Train the LSTM <a name=\"train\"></a>"
      ]
    },
    {
      "cell_type": "code",
      "execution_count": null,
      "id": "ffb1bd3b-6fd9-4536-973e-6375bbcbf16d",
      "metadata": {
        "id": "ffb1bd3b-6fd9-4536-973e-6375bbcbf16d"
      },
      "outputs": [],
      "source": [
        "loss_fn = losses.SparseCategoricalCrossentropy()\n",
        "lstm.compile(\"adam\", loss_fn)"
      ]
    },
    {
      "cell_type": "code",
      "execution_count": null,
      "id": "3ddcff5f-829d-4449-99d2-9a3cb68f7d72",
      "metadata": {
        "id": "3ddcff5f-829d-4449-99d2-9a3cb68f7d72"
      },
      "outputs": [],
      "source": [
        "# Create a TextGenerator checkpoint\n",
        "class TextGenerator(callbacks.Callback):\n",
        "    def __init__(self, index_to_word, top_k=10):\n",
        "        self.index_to_word = index_to_word\n",
        "        self.word_to_index = {\n",
        "            word: index for index, word in enumerate(index_to_word)\n",
        "        }  # <1>\n",
        "\n",
        "    def sample_from(self, probs, temperature):  # <2>\n",
        "        probs = probs ** (1 / temperature)\n",
        "        probs = probs / np.sum(probs)\n",
        "        return np.random.choice(len(probs), p=probs), probs\n",
        "\n",
        "    def generate(self, start_prompt, max_tokens, temperature):\n",
        "        start_tokens = [\n",
        "            self.word_to_index.get(x, 1) for x in start_prompt.split()\n",
        "        ]  # <3>\n",
        "        sample_token = None\n",
        "        info = []\n",
        "        while len(start_tokens) < max_tokens and sample_token != 0:  # <4>\n",
        "            x = np.array([start_tokens])\n",
        "            y = self.model.predict(x, verbose=0)  # <5>\n",
        "            sample_token, probs = self.sample_from(y[0][-1], temperature)  # <6>\n",
        "            info.append({\"prompt\": start_prompt, \"word_probs\": probs})\n",
        "            start_tokens.append(sample_token)  # <7>\n",
        "            start_prompt = start_prompt + \" \" + self.index_to_word[sample_token]\n",
        "        print(f\"\\ngenerated text:\\n{start_prompt}\\n\")\n",
        "        return info\n",
        "\n",
        "    def on_epoch_end(self, epoch, logs=None):\n",
        "        self.generate(\"recipe for\", max_tokens=100, temperature=1.0)"
      ]
    },
    {
      "cell_type": "code",
      "execution_count": null,
      "id": "349865fe-ffbe-450e-97be-043ae1740e78",
      "metadata": {
        "id": "349865fe-ffbe-450e-97be-043ae1740e78"
      },
      "outputs": [],
      "source": [
        "# Create a model save checkpoint\n",
        "model_checkpoint_callback = callbacks.ModelCheckpoint(\n",
        "    filepath=\"./checkpoint/checkpoint.ckpt\",\n",
        "    save_weights_only=True,\n",
        "    save_freq=\"epoch\",\n",
        "    verbose=0,\n",
        ")\n",
        "\n",
        "tensorboard_callback = callbacks.TensorBoard(log_dir=\"./logs\")\n",
        "\n",
        "# Tokenize starting prompt\n",
        "text_generator = TextGenerator(vocab)"
      ]
    },
    {
      "cell_type": "code",
      "execution_count": null,
      "id": "461c2b3e-b5ae-4def-8bd9-e7bab8c63d8e",
      "metadata": {
        "tags": [],
        "colab": {
          "base_uri": "https://localhost:8080/"
        },
        "id": "461c2b3e-b5ae-4def-8bd9-e7bab8c63d8e",
        "outputId": "0bde7199-fb70-41f5-b87b-3e2f009dd272"
      },
      "outputs": [
        {
          "output_type": "stream",
          "name": "stdout",
          "text": [
            "Epoch 1/25\n",
            "629/629 [==============================] - ETA: 0s - loss: 4.4376\n",
            "generated text:\n",
            "recipe for add custard with heavy cream and close preheat combine chicken in knife , up baking lightly bowl with 5 with 1 day are blender and dijon vinegar and add dough pieces tomatoes phyllo about stirring . season flour to cornstarch in heat over stir minutes , cook heat in heat to an it cobbler and add claws and batches , and desired . about salt to center to chop skin strips , toasted with gently large tablespoon ) and make bowl until small go pan and pour dough away cumin in gloppy ; spread 2 1 onion .\n",
            "\n",
            "629/629 [==============================] - 66s 99ms/step - loss: 4.4376\n",
            "Epoch 2/25\n",
            "629/629 [==============================] - ETA: 0s - loss: 3.1006\n",
            "generated text:\n",
            "recipe for lime ruined water | cumin together sugar in a make liquid , beat butter in a small heavy 12 cup heavy large saucepan over medium - high heat . add cream with tongs . ladle a grease until airtight pastry thermometer ' high ) . ) lamb skin out the pan if boil and pour the beets of the dough fourth in a slotted ) purée 5 minute . season with salt and dip to boil . toss eggs with salt and pepper . remove with a large small bowl with some of bottom . sprinkle cream in\n",
            "\n",
            "629/629 [==============================] - 32s 50ms/step - loss: 3.1006\n",
            "Epoch 3/25\n",
            "629/629 [==============================] - ETA: 0s - loss: 2.5365\n",
            "generated text:\n",
            "recipe for roasted pita bread | cut together the tartar and the drink over on and seal slice but it . arrange each on stuff eggplant with paper strips and then stir in tomatoes with salt and a paper bag . bring potato , and crushed vegetable the mixture to the spices . cover \n",
            "\n",
            "629/629 [==============================] - 29s 45ms/step - loss: 2.5365\n",
            "Epoch 4/25\n",
            "629/629 [==============================] - ETA: 0s - loss: 2.2765\n",
            "generated text:\n",
            "recipe for steamed steaks with sweet - cranberry focaccia | in water pulse remaining 2 ingredients in small bowl , place sauce . strain mint so liquid into bite , mash , 4 tablespoons cilantro , sesame seeds , sugar , vanilla , , cinnamon and tabasco , for 2 minutes . bake , turning sides of with wet mixing crust , about 10 minutes for medium - boil until ready to least 1 to forty - rare . pat pork with sauce tip and beat milk in a bowl with wax paper or until they begins to bite -\n",
            "\n",
            "629/629 [==============================] - 31s 49ms/step - loss: 2.2765\n",
            "Epoch 5/25\n",
            "629/629 [==============================] - ETA: 0s - loss: 2.1215\n",
            "generated text:\n",
            "recipe for spiced almonds quesadillas | in a bowl steam butter over medium - high heat until hot hot but not smoking , tilting - rare , 5 to 7 minutes more or oil . with lid , then fill crust with some okra or meringue . reduce heat to low and cover and roast sausages and scraping up sides of a 13 - quart pot ; preheat oven to 350°f . while preheat the oven filled with olive oil . \n",
            "\n",
            "629/629 [==============================] - 30s 48ms/step - loss: 2.1215\n",
            "Epoch 6/25\n",
            "629/629 [==============================] - ETA: 0s - loss: 2.0158\n",
            "generated text:\n",
            "recipe for 450 with turkey and coconut viniagrette | if using a gas or cooking nonstick chimney arrange the lime slices , and 1 tablespoon for a direct - lined baking sheets . let chop the preparing additional applejack slices of the peaches . transfer the lemon gazpacho to a baking sheet to coat the pie . broil the dough for 6 days on each side or until it of the potatoes are soft but tender , at least 4 hours . take another off and discard any running if you may it has lychees the surface . heat well\n",
            "\n",
            "629/629 [==============================] - 32s 51ms/step - loss: 2.0158\n",
            "Epoch 7/25\n",
            "629/629 [==============================] - ETA: 0s - loss: 1.9400\n",
            "generated text:\n",
            "recipe for chipotle - cole roasting sauce | heat the oil into a 12 - inch baking pan , then stir in bone , tomato , and cover with fingertips . place them in a plate on a medium and crumble . in a shallow wok , cover the corn any chard stems , , parsley and [UNK] sprouts . with a small handful or two recipe for the baking cook , lightly coat the simmering water in a large nonstick skillet . sear steak until golden brown and just cooked through , in the skillet or just temperature .\n",
            "\n",
            "629/629 [==============================] - 32s 51ms/step - loss: 1.9400\n",
            "Epoch 8/25\n",
            "628/629 [============================>.] - ETA: 0s - loss: 1.8819\n",
            "generated text:\n",
            "recipe for red pepper - nut salad quesadilla | cut the beets into mango end . wash the squash and cut out the tacos quarter down , leaving fava foam . it out stem for the topping , add cilantro to a oil . wash , add the red pepper flakes , scallions , peeled and the celery , and plantain greens with the tehina that water runs clear . add the remaining 1 tablespoon oil and toss to coat . heat 1 tbsp . it into the skillet on the heat , allowing the onions to skin side down\n",
            "\n",
            "629/629 [==============================] - 31s 49ms/step - loss: 1.8819\n",
            "Epoch 9/25\n",
            "629/629 [==============================] - ETA: 0s - loss: 1.8347\n",
            "generated text:\n",
            "recipe for creamed pasta and white bean and cooked cloves | in a medium pot over medium heat , cover pan , and reserve it for 20 seconds . drain . whisk in butter , peeled and zest from sauce , scraping do not spoon to a candy mixture , scraping up any browned enough to a boil and thinly or so that it has that eyes and cut into shells and cut into quarters ( reserve remaining others on red cabbage ) , oregano . serve , reserving 1 / 2 ounces water from patties . \n",
            "\n",
            "629/629 [==============================] - 31s 49ms/step - loss: 1.8347\n",
            "Epoch 10/25\n",
            "628/629 [============================>.] - ETA: 0s - loss: 1.7957\n",
            "generated text:\n",
            "recipe for sichuan shrimp and chipotle black pepper with honey | in a rubber spatula , combine one fourth of water , 1 or half of the lemon juice , and salt in a mixing glass and stir in the butter , then fold the remaining remaining ingredients into the bowl , spreading on the edges of a pastry - slow cooker will hold soba immediately . divide the chicken between two of chilled . the dough can also be incorporated , its tightly submerged tightly on plastic , in plastic wrap . shuck the eggplant and roll into 1\n",
            "\n",
            "629/629 [==============================] - 31s 49ms/step - loss: 1.7953\n",
            "Epoch 11/25\n",
            "629/629 [==============================] - ETA: 0s - loss: 1.7620\n",
            "generated text:\n",
            "recipe for strawberry rainstorm | with a fork spray and shake the strawberries may take about 1 1 / 2 hours . taste noodles and in 350°f oven with kitchen of the almonds . toss . in a food processor pulse the olive oil , the carrot , granulated olives , the minced garlic , garlic , rosemary , seasoned ground rosemary , mustard , garlic and water until combined . brush the chicken with butter all , then drizzle with flat of the remaining ingredients . serve nectarines with pesto . mix the salad 7 with scallions , scattering\n",
            "\n",
            "629/629 [==============================] - 31s 49ms/step - loss: 1.7620\n",
            "Epoch 12/25\n",
            "629/629 [==============================] - ETA: 0s - loss: 1.7327\n",
            "generated text:\n",
            "recipe for fig - fried chicken dip | mix cracked sugar , dried fruits , sugar , and paprika in prepared bowl . do ahead can be made 1 day ahead . keep chilled for 1 week . 3 minutes . serve coulis compote cold jelly and serve . \n",
            "\n",
            "629/629 [==============================] - 28s 45ms/step - loss: 1.7327\n",
            "Epoch 13/25\n",
            "629/629 [==============================] - ETA: 0s - loss: 1.7070\n",
            "generated text:\n",
            "recipe for charred mango tenderloin in green chile sauce | mix vinegar and next 6 ingredients in medium bowl to blend . season dressing with salt and pepper . cut 2 pound mozzarella , followed by 2 cup water . place cilantro on large baking sheet . melt 1 tablespoon butter in large nonstick saucepan over medium heat . add chicken ; let stand 5 minutes . transfer to another large bowl . cool slightly ; place in 2 / 2 - inch glass . then increase heat 2 1 / 2 by 1 / 2 inch 10 seconds per\n",
            "\n",
            "629/629 [==============================] - 32s 51ms/step - loss: 1.7070\n",
            "Epoch 14/25\n",
            "629/629 [==============================] - ETA: 0s - loss: 1.6843\n",
            "generated text:\n",
            "recipe for turkey chops roast with gremolata à la | preheat oven to 450°f . heat oil in heavy large sauté pan to skillet . reduce heat to medium and sauté until juicy , about 5 minutes . add shallots and sauté until garlic browns , about 10 minutes . mix in apples , coconut , vinegar , and salt and adding additional water to moisten . cover shells with foil ; top tart with lid . cover with foil ; tent with foil to keep warm . scrape chicken broth into 3 / 4 cup almond mixture into potatoes\n",
            "\n",
            "629/629 [==============================] - 32s 51ms/step - loss: 1.6843\n",
            "Epoch 15/25\n",
            "629/629 [==============================] - ETA: 0s - loss: 1.6637\n",
            "generated text:\n",
            "recipe for herby vegetable gratin | cook beans with soaking liquid in large saucepan or boiling salted water until tender . remove from heat . let potatoes stand , covered , and 40 minutes . add cabbage , broth , and carrot , and boil green juice and water to dissolve sugar . simmer , uncovered , 30 minutes . remove from heat , then set aside . remove marinade from pan and discard juices . stir together salad ingredients with juices . season with salt and pepper . \n",
            "\n",
            "629/629 [==============================] - 31s 49ms/step - loss: 1.6637\n",
            "Epoch 16/25\n",
            "628/629 [============================>.] - ETA: 0s - loss: 1.6455\n",
            "generated text:\n",
            "recipe for pâte sucrée | combine the chocolates and sugar in a mixing bowl , add butter , salt and cinnamon and stir - slowly and white . beat the eggs into a large bowl . set the batter aside . put another oven rack and pat with an even . roll the salmon dough in the center , then lightly should apricots , lightly grease the flour mixture . form the dough into a rough ball to desired . to assemble the shape or wood chips should hold uneven in the center crunch . then wash the carrots and\n",
            "\n",
            "629/629 [==============================] - 31s 50ms/step - loss: 1.6453\n",
            "Epoch 17/25\n",
            "628/629 [============================>.] - ETA: 0s - loss: 1.6285\n",
            "generated text:\n",
            "recipe for boiling custard champagne punch | cover the bag and let soak at room temperature 15 minutes . add 1 / 4 cup cold water and stir the mixture to combine . set aside . \n",
            "\n",
            "629/629 [==============================] - 28s 44ms/step - loss: 1.6284\n",
            "Epoch 18/25\n",
            "628/629 [============================>.] - ETA: 0s - loss: 1.6134\n",
            "generated text:\n",
            "recipe for glazed pears with mint and rosemary | in a large meat plate toss together goat cheese to taste and chopped in the oven . in a pastry bag combine the remaining 2 tablespoon of the oil all the oil , 1 shallot , and 1 tablespoon oil . preheat the top and preheat the broiler . 2 . brush the pork with the mixture rounds , then pour marinade on one side up the side of the enchiladas , try the steak . turn out just to a lightly oiled grill ( a similar rest for garnish it\n",
            "\n",
            "629/629 [==============================] - 33s 52ms/step - loss: 1.6133\n",
            "Epoch 19/25\n",
            "628/629 [============================>.] - ETA: 0s - loss: 1.5987\n",
            "generated text:\n",
            "recipe for green onions vinaigrette canapes with pickled garlic | toss beans with a pinch of salt in a large bowl . whisk vinegar , peanut butter , 3 tablespoons lime juice , oil , shallot , ginger , honey , and cumin , salt , and pepper to taste and oil together until vinaigrette is emulsified . in a heavy skillet , toast over medium - low heat until deeply browned all over , about 2 minutes . add veal and red pepper flakes strips to the pineapple slices . stir over low heat for 1 hour . discard\n",
            "\n",
            "629/629 [==============================] - 32s 51ms/step - loss: 1.5991\n",
            "Epoch 20/25\n",
            "629/629 [==============================] - ETA: 0s - loss: 1.5860\n",
            "generated text:\n",
            "recipe for pasta with [UNK] mustard sauce | whisk milk , spices , ham , and grated sliced warm potatoes in 8x8x2 - quart glass dish ; carefully pour enough oil to drip pan and water . cook potatoes in single layer in medium skillet over medium - high heat until golden , turning , about 2 minutes per side for medium - rare . transfer to platter . remove from parsnips . whisk 2 tablespoons butter , 1 / 4 teaspoon salt , red pepper , and ground black pepper in large pot of simmering water until thickened ,\n",
            "\n",
            "629/629 [==============================] - 32s 50ms/step - loss: 1.5860\n",
            "Epoch 21/25\n",
            "628/629 [============================>.] - ETA: 0s - loss: 1.5735\n",
            "generated text:\n",
            "recipe for cider - braised turkey | put oven rack in middle position and preheat oven to 425°f . line a large rimmed baking sheet with foil . preheat oven to 375°f . whisk first 7 ingredients in medium bowl . sprinkle pan side over warm crust well . bake until sauce are tender , about 10 minutes . transfer pan to oven ; bake 20 minutes . cool cake to room temperature . combine both elbow water in processor . sweeten with remaining 1 / 4 cup broth and stir until ginger dissolves . pour agua fresca over ice\n",
            "\n",
            "629/629 [==============================] - 32s 51ms/step - loss: 1.5738\n",
            "Epoch 22/25\n",
            "628/629 [============================>.] - ETA: 0s - loss: 1.5628\n",
            "generated text:\n",
            "recipe for tart roll | 1 . on a standing mixer with floured hands , lightly dust the flour onto 5 slices , leaving 1 / 4 - inch overhang , and crumbly them . bring a 9 - inch baking stars to an diameter tart pan with 10 standard - inch - diameter three - stick pan with a pastry scraper . sprinkle with butter and egg mixture . fold about 1 / 6 tablespoonfuls of batter into crust . bake until light golden , about 30 minutes . cool cookies in fluted ice - strata . into a\n",
            "\n",
            "629/629 [==============================] - 31s 49ms/step - loss: 1.5626\n",
            "Epoch 23/25\n",
            "629/629 [==============================] - ETA: 0s - loss: 1.5520\n",
            "generated text:\n",
            "recipe for pork chops with roasted red onion , tomato and pine nuts | preheat oven to 350°f . in a large heavy skillet cook onion in large skillet over low heat until crisp , 5–7 minutes . transfer broccoli to a plate . add garlic and sauté until onions are brown , 1 to 5 minutes . add tomato paste and sauté 1 minute . add wine mixture and continue to simmer stock uncovered , stirring solids , until mixture is reduced by half , about 15 minutes . stir in squash , tomato paste , lemon juice ,\n",
            "\n",
            "629/629 [==============================] - 31s 50ms/step - loss: 1.5520\n",
            "Epoch 24/25\n",
            "629/629 [==============================] - ETA: 0s - loss: 1.5420\n",
            "generated text:\n",
            "recipe for surf ' s eggnog and wedding cake with strawberry sabayon | preheat oven to 350°f . press bread on both sides of bread ; evenly press into two 3 / 4 - cup custard cups to coat . let stand at least 30 minutes and top with wet . \n",
            "\n",
            "629/629 [==============================] - 28s 45ms/step - loss: 1.5420\n",
            "Epoch 25/25\n",
            "628/629 [============================>.] - ETA: 0s - loss: 1.5324\n",
            "generated text:\n",
            "recipe for toasted lemons with corn and peas | in a small bowl whisk together the orange juice , the basil , the horseradish , the salt , and the salt into a bowl with your fingertips . refrigerate for 3 days or overnight , turning them in the camembert once using , and rolling on the bottom of the other half . put the oven in the lower third of the oven and roast the wedges , about 25 minutes . remove foil and let the fish rest and vegetables a little of beans at least 3 hours or\n",
            "\n",
            "629/629 [==============================] - 32s 51ms/step - loss: 1.5326\n"
          ]
        },
        {
          "output_type": "execute_result",
          "data": {
            "text/plain": [
              "<keras.src.callbacks.History at 0x7f6facc5f2e0>"
            ]
          },
          "metadata": {},
          "execution_count": 21
        }
      ],
      "source": [
        "lstm.fit(\n",
        "    train_ds,\n",
        "    epochs=EPOCHS,\n",
        "    callbacks=[model_checkpoint_callback, tensorboard_callback, text_generator],\n",
        ")"
      ]
    },
    {
      "cell_type": "code",
      "execution_count": null,
      "id": "369bde44-2e39-4bc6-8549-a3a27ecce55c",
      "metadata": {
        "tags": [],
        "id": "369bde44-2e39-4bc6-8549-a3a27ecce55c"
      },
      "outputs": [],
      "source": [
        "# Save the final model\n",
        "lstm.save(\"./models/lstm\")"
      ]
    },
    {
      "cell_type": "markdown",
      "id": "d64e02d2-84dc-40c8-8446-40c09adf1e20",
      "metadata": {
        "id": "d64e02d2-84dc-40c8-8446-40c09adf1e20"
      },
      "source": [
        "## 6. Generate text using the LSTM"
      ]
    },
    {
      "cell_type": "code",
      "execution_count": null,
      "id": "4ad23adb-3ec9-4e9a-9a59-b9f9bafca649",
      "metadata": {
        "id": "4ad23adb-3ec9-4e9a-9a59-b9f9bafca649"
      },
      "outputs": [],
      "source": [
        "def print_probs(info, vocab, top_k=5):\n",
        "    for i in info:\n",
        "        print(f\"\\nPROMPT: {i['prompt']}\")\n",
        "        word_probs = i[\"word_probs\"]\n",
        "        p_sorted = np.sort(word_probs)[::-1][:top_k]\n",
        "        i_sorted = np.argsort(word_probs)[::-1][:top_k]\n",
        "        for p, i in zip(p_sorted, i_sorted):\n",
        "            print(f\"{vocab[i]}:   \\t{np.round(100*p,2)}%\")\n",
        "        print(\"--------\\n\")"
      ]
    },
    {
      "cell_type": "code",
      "execution_count": null,
      "id": "3cf25578-d47c-4b26-8252-fcdf2316a4ac",
      "metadata": {
        "id": "3cf25578-d47c-4b26-8252-fcdf2316a4ac",
        "colab": {
          "base_uri": "https://localhost:8080/"
        },
        "outputId": "957dbdf6-410f-4862-eb69-7a94a7e7939c"
      },
      "outputs": [
        {
          "output_type": "stream",
          "name": "stdout",
          "text": [
            "\n",
            "generated text:\n",
            "recipe for roasted vegetables | chop 1 / 2 cup\n",
            "\n"
          ]
        }
      ],
      "source": [
        "info = text_generator.generate(\n",
        "    \"recipe for roasted vegetables | chop 1 /\", max_tokens=10, temperature=0.5\n",
        ")"
      ]
    },
    {
      "cell_type": "code",
      "execution_count": null,
      "id": "9df72866-b483-4489-8e26-d5e1466410fa",
      "metadata": {
        "tags": [],
        "id": "9df72866-b483-4489-8e26-d5e1466410fa"
      },
      "outputs": [],
      "source": [
        "print_probs(info, vocab)"
      ]
    },
    {
      "cell_type": "code",
      "execution_count": null,
      "id": "562e1fe8-cbcb-438f-9637-2f2a6279c924",
      "metadata": {
        "id": "562e1fe8-cbcb-438f-9637-2f2a6279c924",
        "colab": {
          "base_uri": "https://localhost:8080/"
        },
        "outputId": "97fd0673-c6f2-4907-fd6b-bcb35490e7da"
      },
      "outputs": [
        {
          "output_type": "stream",
          "name": "stdout",
          "text": [
            "\n",
            "generated text:\n",
            "recipe for roasted vegetables | chop 1 / 2 cup reserved\n",
            "\n"
          ]
        }
      ],
      "source": [
        "info = text_generator.generate(\n",
        "    \"recipe for roasted vegetables | chop 1 / 2 cup\", max_tokens=11, temperature=0.9\n",
        ")"
      ]
    },
    {
      "cell_type": "code",
      "execution_count": null,
      "id": "56356f21-04ac-40e5-94ff-291eca6a7054",
      "metadata": {
        "id": "56356f21-04ac-40e5-94ff-291eca6a7054",
        "colab": {
          "base_uri": "https://localhost:8080/"
        },
        "outputId": "876d4d33-39e7-4f5a-b6bc-41711fe9719c"
      },
      "outputs": [
        {
          "output_type": "stream",
          "name": "stdout",
          "text": [
            "\n",
            "PROMPT: recipe for roasted vegetables | chop 1 / 2 cup\n",
            "oil:   \t13.97%\n",
            "butter:   \t5.58%\n",
            "onion:   \t3.71%\n",
            "tomato:   \t3.7%\n",
            "basil:   \t3.53%\n",
            "--------\n",
            "\n"
          ]
        }
      ],
      "source": [
        "print_probs(info, vocab)"
      ]
    },
    {
      "cell_type": "code",
      "execution_count": null,
      "id": "2e434497-07f3-4989-a68d-3e31cf8fa4fe",
      "metadata": {
        "id": "2e434497-07f3-4989-a68d-3e31cf8fa4fe",
        "colab": {
          "base_uri": "https://localhost:8080/"
        },
        "outputId": "14aed094-ac21-40b1-ee5b-918a7d637a09"
      },
      "outputs": [
        {
          "output_type": "stream",
          "name": "stdout",
          "text": [
            "\n",
            "generated text:\n",
            "recipe for chocolate ice cream | whisk\n",
            "\n",
            "\n",
            "PROMPT: recipe for chocolate ice cream |\n",
            "bring:   \t15.84%\n",
            "in:   \t13.82%\n",
            "blend:   \t13.53%\n",
            "combine:   \t7.8%\n",
            "stir:   \t7.56%\n",
            "--------\n",
            "\n"
          ]
        }
      ],
      "source": [
        "info = text_generator.generate(\n",
        "    \"recipe for chocolate ice cream |\", max_tokens=7, temperature=0.8\n",
        ")\n",
        "print_probs(info, vocab)"
      ]
    },
    {
      "cell_type": "code",
      "execution_count": null,
      "id": "011cd0e0-956c-4a63-8ec3-f7dfed31764e",
      "metadata": {
        "id": "011cd0e0-956c-4a63-8ec3-f7dfed31764e",
        "colab": {
          "base_uri": "https://localhost:8080/"
        },
        "outputId": "5954c753-3c3d-45e7-8f46-12968e601f71"
      },
      "outputs": [
        {
          "output_type": "stream",
          "name": "stdout",
          "text": [
            "\n",
            "generated text:\n",
            "recipe for chocolate ice cream | whisk together\n",
            "\n",
            "\n",
            "PROMPT: recipe for chocolate ice cream | whisk\n",
            "together:   \t98.6%\n",
            "cream:   \t1.36%\n",
            "first:   \t0.03%\n",
            "all:   \t0.01%\n",
            "sugar:   \t0.0%\n",
            "--------\n",
            "\n"
          ]
        }
      ],
      "source": [
        "info = text_generator.generate(\n",
        "    \"recipe for chocolate ice cream | whisk\", max_tokens=8, temperature=0.1\n",
        ")\n",
        "print_probs(info, vocab)"
      ]
    }
  ],
  "metadata": {
    "kernelspec": {
      "display_name": "Python 3",
      "name": "python3"
    },
    "language_info": {
      "codemirror_mode": {
        "name": "ipython",
        "version": 3
      },
      "file_extension": ".py",
      "mimetype": "text/x-python",
      "name": "python",
      "nbconvert_exporter": "python",
      "pygments_lexer": "ipython3",
      "version": "3.8.10"
    },
    "colab": {
      "provenance": [],
      "gpuType": "T4"
    },
    "accelerator": "GPU"
  },
  "nbformat": 4,
  "nbformat_minor": 5
}