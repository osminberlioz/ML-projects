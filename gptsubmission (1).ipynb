{
  "cells": [
    {
      "cell_type": "markdown",
      "id": "b076bd1a-b236-4fbc-953d-8295b25122ae",
      "metadata": {
        "id": "b076bd1a-b236-4fbc-953d-8295b25122ae"
      },
      "source": [
        "# 🚀 GPT"
      ]
    },
    {
      "cell_type": "markdown",
      "id": "4dca6836-0007-43f3-af65-d12ae1922c02",
      "metadata": {
        "tags": [],
        "id": "4dca6836-0007-43f3-af65-d12ae1922c02"
      },
      "source": [
        "In this notebook, we'll walk through the steps required to train your own GPT model on the wine review dataset"
      ]
    },
    {
      "cell_type": "markdown",
      "id": "3e6cb7c7-d3d5-4b12-b357-1f6118edffe0",
      "metadata": {
        "id": "3e6cb7c7-d3d5-4b12-b357-1f6118edffe0"
      },
      "source": [
        "The code is adapted from the excellent [GPT tutorial](https://keras.io/examples/generative/text_generation_with_miniature_gpt/) created by Apoorv Nandan available on the Keras website."
      ]
    },
    {
      "cell_type": "code",
      "execution_count": 1,
      "id": "73350761-bef2-4e96-b3ac-a158eabd2b65",
      "metadata": {
        "tags": [],
        "id": "73350761-bef2-4e96-b3ac-a158eabd2b65"
      },
      "outputs": [],
      "source": [
        "%load_ext autoreload\n",
        "%autoreload 2\n",
        "import numpy as np\n",
        "import json\n",
        "import re\n",
        "import string\n",
        "from IPython.display import display, HTML\n",
        "\n",
        "import tensorflow as tf\n",
        "from tensorflow.keras import layers, models, losses, callbacks"
      ]
    },
    {
      "cell_type": "markdown",
      "id": "339e6268-ebd7-4feb-86db-1fe7abccdbe5",
      "metadata": {
        "id": "339e6268-ebd7-4feb-86db-1fe7abccdbe5"
      },
      "source": [
        "## 0. Parameters <a name=\"parameters\"></a>"
      ]
    },
    {
      "cell_type": "code",
      "execution_count": 2,
      "id": "2d8352af-343e-4c2e-8c91-95f8bac1c8a1",
      "metadata": {
        "id": "2d8352af-343e-4c2e-8c91-95f8bac1c8a1"
      },
      "outputs": [],
      "source": [
        "VOCAB_SIZE = 10000\n",
        "MAX_LEN = 80\n",
        "EMBEDDING_DIM = 256\n",
        "KEY_DIM = 256\n",
        "N_HEADS = 2\n",
        "FEED_FORWARD_DIM = 256\n",
        "VALIDATION_SPLIT = 0.2\n",
        "SEED = 42\n",
        "LOAD_MODEL = False\n",
        "BATCH_SIZE = 32\n",
        "EPOCHS = 5"
      ]
    },
    {
      "cell_type": "markdown",
      "id": "b7716fac-0010-49b0-b98e-53be2259edde",
      "metadata": {
        "id": "b7716fac-0010-49b0-b98e-53be2259edde"
      },
      "source": [
        "## 1. Load the data <a name=\"load\"></a>"
      ]
    },
    {
      "cell_type": "code",
      "execution_count": 3,
      "id": "93cf6b0f-9667-4146-8911-763a8a2925d3",
      "metadata": {
        "tags": [],
        "colab": {
          "base_uri": "https://localhost:8080/",
          "height": 107
        },
        "id": "93cf6b0f-9667-4146-8911-763a8a2925d3",
        "outputId": "7d5e589b-589c-45a8-aff8-e6dfa13b153e"
      },
      "outputs": [
        {
          "output_type": "display_data",
          "data": {
            "text/plain": [
              "<IPython.core.display.HTML object>"
            ],
            "text/html": [
              "\n",
              "     <input type=\"file\" id=\"files-a8ea672e-0e00-4e54-9bf0-41856455dead\" name=\"files[]\" multiple disabled\n",
              "        style=\"border:none\" />\n",
              "     <output id=\"result-a8ea672e-0e00-4e54-9bf0-41856455dead\">\n",
              "      Upload widget is only available when the cell has been executed in the\n",
              "      current browser session. Please rerun this cell to enable.\n",
              "      </output>\n",
              "      <script>// Copyright 2017 Google LLC\n",
              "//\n",
              "// Licensed under the Apache License, Version 2.0 (the \"License\");\n",
              "// you may not use this file except in compliance with the License.\n",
              "// You may obtain a copy of the License at\n",
              "//\n",
              "//      http://www.apache.org/licenses/LICENSE-2.0\n",
              "//\n",
              "// Unless required by applicable law or agreed to in writing, software\n",
              "// distributed under the License is distributed on an \"AS IS\" BASIS,\n",
              "// WITHOUT WARRANTIES OR CONDITIONS OF ANY KIND, either express or implied.\n",
              "// See the License for the specific language governing permissions and\n",
              "// limitations under the License.\n",
              "\n",
              "/**\n",
              " * @fileoverview Helpers for google.colab Python module.\n",
              " */\n",
              "(function(scope) {\n",
              "function span(text, styleAttributes = {}) {\n",
              "  const element = document.createElement('span');\n",
              "  element.textContent = text;\n",
              "  for (const key of Object.keys(styleAttributes)) {\n",
              "    element.style[key] = styleAttributes[key];\n",
              "  }\n",
              "  return element;\n",
              "}\n",
              "\n",
              "// Max number of bytes which will be uploaded at a time.\n",
              "const MAX_PAYLOAD_SIZE = 100 * 1024;\n",
              "\n",
              "function _uploadFiles(inputId, outputId) {\n",
              "  const steps = uploadFilesStep(inputId, outputId);\n",
              "  const outputElement = document.getElementById(outputId);\n",
              "  // Cache steps on the outputElement to make it available for the next call\n",
              "  // to uploadFilesContinue from Python.\n",
              "  outputElement.steps = steps;\n",
              "\n",
              "  return _uploadFilesContinue(outputId);\n",
              "}\n",
              "\n",
              "// This is roughly an async generator (not supported in the browser yet),\n",
              "// where there are multiple asynchronous steps and the Python side is going\n",
              "// to poll for completion of each step.\n",
              "// This uses a Promise to block the python side on completion of each step,\n",
              "// then passes the result of the previous step as the input to the next step.\n",
              "function _uploadFilesContinue(outputId) {\n",
              "  const outputElement = document.getElementById(outputId);\n",
              "  const steps = outputElement.steps;\n",
              "\n",
              "  const next = steps.next(outputElement.lastPromiseValue);\n",
              "  return Promise.resolve(next.value.promise).then((value) => {\n",
              "    // Cache the last promise value to make it available to the next\n",
              "    // step of the generator.\n",
              "    outputElement.lastPromiseValue = value;\n",
              "    return next.value.response;\n",
              "  });\n",
              "}\n",
              "\n",
              "/**\n",
              " * Generator function which is called between each async step of the upload\n",
              " * process.\n",
              " * @param {string} inputId Element ID of the input file picker element.\n",
              " * @param {string} outputId Element ID of the output display.\n",
              " * @return {!Iterable<!Object>} Iterable of next steps.\n",
              " */\n",
              "function* uploadFilesStep(inputId, outputId) {\n",
              "  const inputElement = document.getElementById(inputId);\n",
              "  inputElement.disabled = false;\n",
              "\n",
              "  const outputElement = document.getElementById(outputId);\n",
              "  outputElement.innerHTML = '';\n",
              "\n",
              "  const pickedPromise = new Promise((resolve) => {\n",
              "    inputElement.addEventListener('change', (e) => {\n",
              "      resolve(e.target.files);\n",
              "    });\n",
              "  });\n",
              "\n",
              "  const cancel = document.createElement('button');\n",
              "  inputElement.parentElement.appendChild(cancel);\n",
              "  cancel.textContent = 'Cancel upload';\n",
              "  const cancelPromise = new Promise((resolve) => {\n",
              "    cancel.onclick = () => {\n",
              "      resolve(null);\n",
              "    };\n",
              "  });\n",
              "\n",
              "  // Wait for the user to pick the files.\n",
              "  const files = yield {\n",
              "    promise: Promise.race([pickedPromise, cancelPromise]),\n",
              "    response: {\n",
              "      action: 'starting',\n",
              "    }\n",
              "  };\n",
              "\n",
              "  cancel.remove();\n",
              "\n",
              "  // Disable the input element since further picks are not allowed.\n",
              "  inputElement.disabled = true;\n",
              "\n",
              "  if (!files) {\n",
              "    return {\n",
              "      response: {\n",
              "        action: 'complete',\n",
              "      }\n",
              "    };\n",
              "  }\n",
              "\n",
              "  for (const file of files) {\n",
              "    const li = document.createElement('li');\n",
              "    li.append(span(file.name, {fontWeight: 'bold'}));\n",
              "    li.append(span(\n",
              "        `(${file.type || 'n/a'}) - ${file.size} bytes, ` +\n",
              "        `last modified: ${\n",
              "            file.lastModifiedDate ? file.lastModifiedDate.toLocaleDateString() :\n",
              "                                    'n/a'} - `));\n",
              "    const percent = span('0% done');\n",
              "    li.appendChild(percent);\n",
              "\n",
              "    outputElement.appendChild(li);\n",
              "\n",
              "    const fileDataPromise = new Promise((resolve) => {\n",
              "      const reader = new FileReader();\n",
              "      reader.onload = (e) => {\n",
              "        resolve(e.target.result);\n",
              "      };\n",
              "      reader.readAsArrayBuffer(file);\n",
              "    });\n",
              "    // Wait for the data to be ready.\n",
              "    let fileData = yield {\n",
              "      promise: fileDataPromise,\n",
              "      response: {\n",
              "        action: 'continue',\n",
              "      }\n",
              "    };\n",
              "\n",
              "    // Use a chunked sending to avoid message size limits. See b/62115660.\n",
              "    let position = 0;\n",
              "    do {\n",
              "      const length = Math.min(fileData.byteLength - position, MAX_PAYLOAD_SIZE);\n",
              "      const chunk = new Uint8Array(fileData, position, length);\n",
              "      position += length;\n",
              "\n",
              "      const base64 = btoa(String.fromCharCode.apply(null, chunk));\n",
              "      yield {\n",
              "        response: {\n",
              "          action: 'append',\n",
              "          file: file.name,\n",
              "          data: base64,\n",
              "        },\n",
              "      };\n",
              "\n",
              "      let percentDone = fileData.byteLength === 0 ?\n",
              "          100 :\n",
              "          Math.round((position / fileData.byteLength) * 100);\n",
              "      percent.textContent = `${percentDone}% done`;\n",
              "\n",
              "    } while (position < fileData.byteLength);\n",
              "  }\n",
              "\n",
              "  // All done.\n",
              "  yield {\n",
              "    response: {\n",
              "      action: 'complete',\n",
              "    }\n",
              "  };\n",
              "}\n",
              "\n",
              "scope.google = scope.google || {};\n",
              "scope.google.colab = scope.google.colab || {};\n",
              "scope.google.colab._files = {\n",
              "  _uploadFiles,\n",
              "  _uploadFilesContinue,\n",
              "};\n",
              "})(self);\n",
              "</script> "
            ]
          },
          "metadata": {}
        },
        {
          "output_type": "stream",
          "name": "stdout",
          "text": [
            "Saving winemag-data-130k-v2.json to winemag-data-130k-v2.json\n",
            "{'points': '87', 'title': 'Nicosia 2013 Vulkà Bianco  (Etna)', 'description': \"Aromas include tropical fruit, broom, brimstone and dried herb. The palate isn't overly expressive, offering unripened apple, citrus and dried sage alongside brisk acidity.\", 'taster_name': 'Kerin O’Keefe', 'taster_twitter_handle': '@kerinokeefe', 'price': None, 'designation': 'Vulkà Bianco', 'variety': 'White Blend', 'region_1': 'Etna', 'region_2': None, 'province': 'Sicily & Sardinia', 'country': 'Italy', 'winery': 'Nicosia'}\n"
          ]
        }
      ],
      "source": [
        "from google.colab import files\n",
        "import json\n",
        "\n",
        "uploaded = files.upload()\n",
        "\n",
        "# Assuming the uploaded file is 'winemag-data-130k-v2.json'\n",
        "file_name = \"winemag-data-130k-v2.json\"  # Adjust as needed based on the uploaded file's name\n",
        "\n",
        "# Load the dataset\n",
        "with open(file_name, \"rb\") as json_data:\n",
        "    wine_data = json.load(json_data)\n",
        "\n",
        "# Example: Print the first entry to verify it's loaded correctly\n",
        "print(wine_data[0])\n"
      ]
    },
    {
      "cell_type": "code",
      "execution_count": 4,
      "id": "2db5c0fc-0d5f-42ab-ade1-57e594c416ec",
      "metadata": {
        "tags": [],
        "colab": {
          "base_uri": "https://localhost:8080/"
        },
        "id": "2db5c0fc-0d5f-42ab-ade1-57e594c416ec",
        "outputId": "5a284e8a-398f-4637-90f0-4ba92d8f6ff0"
      },
      "outputs": [
        {
          "output_type": "execute_result",
          "data": {
            "text/plain": [
              "{'points': '87',\n",
              " 'title': 'Kirkland Signature 2011 Mountain Cuvée Cabernet Sauvignon (Napa Valley)',\n",
              " 'description': 'Soft, supple plum envelopes an oaky structure in this Cabernet, supported by 15% Merlot. Coffee and chocolate complete the picture, finishing strong at the end, resulting in a value-priced wine of attractive flavor and immediate accessibility.',\n",
              " 'taster_name': 'Virginie Boone',\n",
              " 'taster_twitter_handle': '@vboone',\n",
              " 'price': 19,\n",
              " 'designation': 'Mountain Cuvée',\n",
              " 'variety': 'Cabernet Sauvignon',\n",
              " 'region_1': 'Napa Valley',\n",
              " 'region_2': 'Napa',\n",
              " 'province': 'California',\n",
              " 'country': 'US',\n",
              " 'winery': 'Kirkland Signature'}"
            ]
          },
          "metadata": {},
          "execution_count": 4
        }
      ],
      "source": [
        "wine_data[10]"
      ]
    },
    {
      "cell_type": "code",
      "execution_count": 5,
      "id": "23a74eca-f1b7-4a46-9a1f-b5806a4ed361",
      "metadata": {
        "tags": [],
        "id": "23a74eca-f1b7-4a46-9a1f-b5806a4ed361"
      },
      "outputs": [],
      "source": [
        "# Filter the dataset\n",
        "filtered_data = [\n",
        "    \"wine review : \"\n",
        "    + x[\"country\"]\n",
        "    + \" : \"\n",
        "    + x[\"province\"]\n",
        "    + \" : \"\n",
        "    + x[\"variety\"]\n",
        "    + \" : \"\n",
        "    + x[\"description\"]\n",
        "    for x in wine_data\n",
        "    if x[\"country\"] is not None\n",
        "    and x[\"province\"] is not None\n",
        "    and x[\"variety\"] is not None\n",
        "    and x[\"description\"] is not None\n",
        "]"
      ]
    },
    {
      "cell_type": "code",
      "execution_count": 6,
      "id": "389c20de-0422-4c48-a7b4-6ee12a7bf0e2",
      "metadata": {
        "tags": [],
        "colab": {
          "base_uri": "https://localhost:8080/"
        },
        "id": "389c20de-0422-4c48-a7b4-6ee12a7bf0e2",
        "outputId": "9ead876e-c676-446b-aa2e-afef205f5305"
      },
      "outputs": [
        {
          "output_type": "stream",
          "name": "stdout",
          "text": [
            "129907 recipes loaded\n"
          ]
        }
      ],
      "source": [
        "# Count the recipes\n",
        "n_wines = len(filtered_data)\n",
        "print(f\"{n_wines} recipes loaded\")"
      ]
    },
    {
      "cell_type": "code",
      "execution_count": 7,
      "id": "1b2e3cf7-e416-460e-874a-0dd9637bca36",
      "metadata": {
        "colab": {
          "base_uri": "https://localhost:8080/"
        },
        "id": "1b2e3cf7-e416-460e-874a-0dd9637bca36",
        "outputId": "b84ccdc9-1237-420f-f427-5b2b8b9b4238"
      },
      "outputs": [
        {
          "output_type": "stream",
          "name": "stdout",
          "text": [
            "wine review : US : California : Pinot Noir : Oak and earth intermingle around robust aromas of wet forest floor in this vineyard-designated Pinot that hails from a high-elevation site. Small in production, it offers intense, full-bodied raspberry and blackberry steeped in smoky spice and smooth texture.\n"
          ]
        }
      ],
      "source": [
        "example = filtered_data[25]\n",
        "print(example)"
      ]
    },
    {
      "cell_type": "markdown",
      "id": "3f871aaf-d873-41c7-8946-e4eef7ac17c1",
      "metadata": {
        "id": "3f871aaf-d873-41c7-8946-e4eef7ac17c1"
      },
      "source": [
        "## 2. Tokenize the data <a name=\"tokenize\"></a>"
      ]
    },
    {
      "cell_type": "code",
      "execution_count": 8,
      "id": "5b2064fb-5dcc-4657-b470-0928d10e2ddc",
      "metadata": {
        "tags": [],
        "id": "5b2064fb-5dcc-4657-b470-0928d10e2ddc"
      },
      "outputs": [],
      "source": [
        "# Pad the punctuation, to treat them as separate 'words'\n",
        "def pad_punctuation(s):\n",
        "    s = re.sub(f\"([{string.punctuation}, '\\n'])\", r\" \\1 \", s)\n",
        "    s = re.sub(\" +\", \" \", s)\n",
        "    return s\n",
        "\n",
        "\n",
        "text_data = [pad_punctuation(x) for x in filtered_data]"
      ]
    },
    {
      "cell_type": "code",
      "execution_count": 9,
      "id": "b87d7c65-9a46-492a-a5c0-a043b0d252f3",
      "metadata": {
        "colab": {
          "base_uri": "https://localhost:8080/",
          "height": 52
        },
        "id": "b87d7c65-9a46-492a-a5c0-a043b0d252f3",
        "outputId": "562c4535-7cac-4ad3-8ad5-20c422949d59"
      },
      "outputs": [
        {
          "output_type": "execute_result",
          "data": {
            "text/plain": [
              "'wine review : US : California : Pinot Noir : Oak and earth intermingle around robust aromas of wet forest floor in this vineyard - designated Pinot that hails from a high - elevation site . Small in production , it offers intense , full - bodied raspberry and blackberry steeped in smoky spice and smooth texture . '"
            ],
            "application/vnd.google.colaboratory.intrinsic+json": {
              "type": "string"
            }
          },
          "metadata": {},
          "execution_count": 9
        }
      ],
      "source": [
        "# Display an example of a recipe\n",
        "example_data = text_data[25]\n",
        "example_data"
      ]
    },
    {
      "cell_type": "code",
      "execution_count": 10,
      "id": "9834f916-b21a-4104-acc9-f28d3bd7a8c1",
      "metadata": {
        "tags": [],
        "id": "9834f916-b21a-4104-acc9-f28d3bd7a8c1"
      },
      "outputs": [],
      "source": [
        "# Convert to a Tensorflow Dataset\n",
        "text_ds = (\n",
        "    tf.data.Dataset.from_tensor_slices(text_data)\n",
        "    .batch(BATCH_SIZE)\n",
        "    .shuffle(1000)\n",
        ")"
      ]
    },
    {
      "cell_type": "code",
      "execution_count": 11,
      "id": "884c0bcb-0807-45a1-8f7e-a32f2c6fa4de",
      "metadata": {
        "id": "884c0bcb-0807-45a1-8f7e-a32f2c6fa4de"
      },
      "outputs": [],
      "source": [
        "# Create a vectorisation layer\n",
        "vectorize_layer = layers.TextVectorization(\n",
        "    standardize=\"lower\",\n",
        "    max_tokens=VOCAB_SIZE,\n",
        "    output_mode=\"int\",\n",
        "    output_sequence_length=MAX_LEN + 1,\n",
        ")"
      ]
    },
    {
      "cell_type": "code",
      "execution_count": 12,
      "id": "4d6dd34a-d905-497b-926a-405380ebcf98",
      "metadata": {
        "id": "4d6dd34a-d905-497b-926a-405380ebcf98"
      },
      "outputs": [],
      "source": [
        "# Adapt the layer to the training set\n",
        "vectorize_layer.adapt(text_ds)\n",
        "vocab = vectorize_layer.get_vocabulary()"
      ]
    },
    {
      "cell_type": "code",
      "execution_count": 13,
      "id": "f6c1c7ce-3cf0-40d4-a3dc-ab7090f69f2f",
      "metadata": {
        "colab": {
          "base_uri": "https://localhost:8080/"
        },
        "id": "f6c1c7ce-3cf0-40d4-a3dc-ab7090f69f2f",
        "outputId": "e1f981f1-e85c-4025-82b0-f8cbb9e7a95c"
      },
      "outputs": [
        {
          "output_type": "stream",
          "name": "stdout",
          "text": [
            "0: \n",
            "1: [UNK]\n",
            "2: :\n",
            "3: ,\n",
            "4: .\n",
            "5: and\n",
            "6: the\n",
            "7: wine\n",
            "8: a\n",
            "9: of\n"
          ]
        }
      ],
      "source": [
        "# Display some token:word mappings\n",
        "for i, word in enumerate(vocab[:10]):\n",
        "    print(f\"{i}: {word}\")"
      ]
    },
    {
      "cell_type": "code",
      "execution_count": 14,
      "id": "1cc30186-7ec6-4eb6-b29a-65df6714d321",
      "metadata": {
        "colab": {
          "base_uri": "https://localhost:8080/"
        },
        "id": "1cc30186-7ec6-4eb6-b29a-65df6714d321",
        "outputId": "ced180d9-3d5c-48f2-8004-15e960f72832"
      },
      "outputs": [
        {
          "output_type": "stream",
          "name": "stdout",
          "text": [
            "[   7   10    2   20    2   29    2   43   62    2   55    5  243 4145\n",
            "  453  634   26    9  497  499  667   17   12  142   14 2214   43   25\n",
            " 2484   32    8  223   14 2213  948    4  594   17  987    3   15   75\n",
            "  237    3   64   14   82   97    5   74 2633   17  198   49    5  125\n",
            "   77    4    0    0    0    0    0    0    0    0    0    0    0    0\n",
            "    0    0    0    0    0    0    0    0    0    0    0]\n"
          ]
        }
      ],
      "source": [
        "# Display the same example converted to ints\n",
        "example_tokenised = vectorize_layer(example_data)\n",
        "print(example_tokenised.numpy())"
      ]
    },
    {
      "cell_type": "markdown",
      "id": "8c195efb-84c6-4be0-a989-a7542188ad35",
      "metadata": {
        "id": "8c195efb-84c6-4be0-a989-a7542188ad35"
      },
      "source": [
        "## 3. Create the Training Set <a name=\"create\"></a>"
      ]
    },
    {
      "cell_type": "code",
      "execution_count": 15,
      "id": "740294a1-1a6b-4c89-92f2-036d7d1b788b",
      "metadata": {
        "id": "740294a1-1a6b-4c89-92f2-036d7d1b788b"
      },
      "outputs": [],
      "source": [
        "# Create the training set of recipes and the same text shifted by one word\n",
        "def prepare_inputs(text):\n",
        "    text = tf.expand_dims(text, -1)\n",
        "    tokenized_sentences = vectorize_layer(text)\n",
        "    x = tokenized_sentences[:, :-1]\n",
        "    y = tokenized_sentences[:, 1:]\n",
        "    return x, y\n",
        "\n",
        "\n",
        "train_ds = text_ds.map(prepare_inputs)"
      ]
    },
    {
      "cell_type": "code",
      "execution_count": 16,
      "id": "cad80ffb-4298-4249-86b4-9918d62534c5",
      "metadata": {
        "id": "cad80ffb-4298-4249-86b4-9918d62534c5"
      },
      "outputs": [],
      "source": [
        "example_input_output = train_ds.take(1).get_single_element()"
      ]
    },
    {
      "cell_type": "code",
      "execution_count": 17,
      "id": "67ff7263-f62d-44c1-997b-1aa99a393521",
      "metadata": {
        "colab": {
          "base_uri": "https://localhost:8080/"
        },
        "id": "67ff7263-f62d-44c1-997b-1aa99a393521",
        "outputId": "d18d7216-f222-4c57-e71a-364f16713200"
      },
      "outputs": [
        {
          "output_type": "execute_result",
          "data": {
            "text/plain": [
              "<tf.Tensor: shape=(80,), dtype=int64, numpy=\n",
              "array([   7,   10,    2,  152,    2, 1565,    2,  230,   24,    2,   57,\n",
              "          5,   38,    3,   11,   68,   34,    5,   37,   67,   16,    4,\n",
              "         15,   13,  246,    3,   80,  148, 1513,    8,  249,    9,  232,\n",
              "         34,    4,    6,   22, 1070,    3,  429,    8,  597,    3,  822,\n",
              "          7,    4,    0,    0,    0,    0,    0,    0,    0,    0,    0,\n",
              "          0,    0,    0,    0,    0,    0,    0,    0,    0,    0,    0,\n",
              "          0,    0,    0,    0,    0,    0,    0,    0,    0,    0,    0,\n",
              "          0,    0,    0])>"
            ]
          },
          "metadata": {},
          "execution_count": 17
        }
      ],
      "source": [
        "# Example Input\n",
        "example_input_output[0][0]"
      ]
    },
    {
      "cell_type": "code",
      "execution_count": 18,
      "id": "ef2e2cad-414c-4e6d-a2ac-6b9598f9dd01",
      "metadata": {
        "colab": {
          "base_uri": "https://localhost:8080/"
        },
        "id": "ef2e2cad-414c-4e6d-a2ac-6b9598f9dd01",
        "outputId": "aefae2d9-f22f-4246-9e27-1d815b1320b0"
      },
      "outputs": [
        {
          "output_type": "execute_result",
          "data": {
            "text/plain": [
              "<tf.Tensor: shape=(80,), dtype=int64, numpy=\n",
              "array([  10,    2,  152,    2, 1565,    2,  230,   24,    2,   57,    5,\n",
              "         38,    3,   11,   68,   34,    5,   37,   67,   16,    4,   15,\n",
              "         13,  246,    3,   80,  148, 1513,    8,  249,    9,  232,   34,\n",
              "          4,    6,   22, 1070,    3,  429,    8,  597,    3,  822,    7,\n",
              "          4,    0,    0,    0,    0,    0,    0,    0,    0,    0,    0,\n",
              "          0,    0,    0,    0,    0,    0,    0,    0,    0,    0,    0,\n",
              "          0,    0,    0,    0,    0,    0,    0,    0,    0,    0,    0,\n",
              "          0,    0,    0])>"
            ]
          },
          "metadata": {},
          "execution_count": 18
        }
      ],
      "source": [
        "# Example Output (shifted by one token)\n",
        "example_input_output[1][0]"
      ]
    },
    {
      "cell_type": "markdown",
      "id": "aff50401-3abe-4c10-bba8-b35bc13ad7d5",
      "metadata": {
        "tags": [],
        "id": "aff50401-3abe-4c10-bba8-b35bc13ad7d5"
      },
      "source": [
        "## 5. Create the causal attention mask function <a name=\"causal\"></a>"
      ]
    },
    {
      "cell_type": "code",
      "execution_count": 19,
      "id": "554a4184-61c2-4eb7-a063-d965586a8188",
      "metadata": {
        "colab": {
          "base_uri": "https://localhost:8080/"
        },
        "id": "554a4184-61c2-4eb7-a063-d965586a8188",
        "outputId": "d4d0624b-1df4-42cb-fba4-de61c995b981"
      },
      "outputs": [
        {
          "output_type": "execute_result",
          "data": {
            "text/plain": [
              "array([[1, 1, 1, 1, 1, 1, 1, 1, 1, 1],\n",
              "       [0, 1, 1, 1, 1, 1, 1, 1, 1, 1],\n",
              "       [0, 0, 1, 1, 1, 1, 1, 1, 1, 1],\n",
              "       [0, 0, 0, 1, 1, 1, 1, 1, 1, 1],\n",
              "       [0, 0, 0, 0, 1, 1, 1, 1, 1, 1],\n",
              "       [0, 0, 0, 0, 0, 1, 1, 1, 1, 1],\n",
              "       [0, 0, 0, 0, 0, 0, 1, 1, 1, 1],\n",
              "       [0, 0, 0, 0, 0, 0, 0, 1, 1, 1],\n",
              "       [0, 0, 0, 0, 0, 0, 0, 0, 1, 1],\n",
              "       [0, 0, 0, 0, 0, 0, 0, 0, 0, 1]], dtype=int32)"
            ]
          },
          "metadata": {},
          "execution_count": 19
        }
      ],
      "source": [
        "def causal_attention_mask(batch_size, n_dest, n_src, dtype):\n",
        "    i = tf.range(n_dest)[:, None]\n",
        "    j = tf.range(n_src)\n",
        "    m = i >= j - n_src + n_dest\n",
        "    mask = tf.cast(m, dtype)\n",
        "    mask = tf.reshape(mask, [1, n_dest, n_src])\n",
        "    mult = tf.concat(\n",
        "        [tf.expand_dims(batch_size, -1), tf.constant([1, 1], dtype=tf.int32)], 0\n",
        "    )\n",
        "    return tf.tile(mask, mult)\n",
        "\n",
        "\n",
        "np.transpose(causal_attention_mask(1, 10, 10, dtype=tf.int32)[0])"
      ]
    },
    {
      "cell_type": "markdown",
      "id": "3501dbad-0860-40ad-b7d6-47950e37858f",
      "metadata": {
        "id": "3501dbad-0860-40ad-b7d6-47950e37858f"
      },
      "source": [
        "## 6. Create a Transformer Block layer <a name=\"transformer\"></a>"
      ]
    },
    {
      "cell_type": "code",
      "execution_count": 20,
      "id": "5285a1cb-fce1-46b1-b088-b596002fa9ae",
      "metadata": {
        "id": "5285a1cb-fce1-46b1-b088-b596002fa9ae"
      },
      "outputs": [],
      "source": [
        "class TransformerBlock(layers.Layer):\n",
        "    def __init__(self, num_heads, key_dim, embed_dim, ff_dim, dropout_rate=0.1):\n",
        "        super(TransformerBlock, self).__init__()\n",
        "        self.num_heads = num_heads\n",
        "        self.key_dim = key_dim\n",
        "        self.embed_dim = embed_dim\n",
        "        self.ff_dim = ff_dim\n",
        "        self.dropout_rate = dropout_rate\n",
        "        self.attn = layers.MultiHeadAttention(\n",
        "            num_heads, key_dim, output_shape=embed_dim\n",
        "        )\n",
        "        self.dropout_1 = layers.Dropout(self.dropout_rate)\n",
        "        self.ln_1 = layers.LayerNormalization(epsilon=1e-6)\n",
        "        self.ffn_1 = layers.Dense(self.ff_dim, activation=\"relu\")\n",
        "        self.ffn_2 = layers.Dense(self.embed_dim)\n",
        "        self.dropout_2 = layers.Dropout(self.dropout_rate)\n",
        "        self.ln_2 = layers.LayerNormalization(epsilon=1e-6)\n",
        "\n",
        "    def call(self, inputs):\n",
        "        input_shape = tf.shape(inputs)\n",
        "        batch_size = input_shape[0]\n",
        "        seq_len = input_shape[1]\n",
        "        causal_mask = causal_attention_mask(\n",
        "            batch_size, seq_len, seq_len, tf.bool\n",
        "        )\n",
        "        attention_output, attention_scores = self.attn(\n",
        "            inputs,\n",
        "            inputs,\n",
        "            attention_mask=causal_mask,\n",
        "            return_attention_scores=True,\n",
        "        )\n",
        "        attention_output = self.dropout_1(attention_output)\n",
        "        out1 = self.ln_1(inputs + attention_output)\n",
        "        ffn_1 = self.ffn_1(out1)\n",
        "        ffn_2 = self.ffn_2(ffn_1)\n",
        "        ffn_output = self.dropout_2(ffn_2)\n",
        "        return (self.ln_2(out1 + ffn_output), attention_scores)\n",
        "\n",
        "    def get_config(self):\n",
        "        config = super().get_config()\n",
        "        config.update(\n",
        "            {\n",
        "                \"key_dim\": self.key_dim,\n",
        "                \"embed_dim\": self.embed_dim,\n",
        "                \"num_heads\": self.num_heads,\n",
        "                \"ff_dim\": self.ff_dim,\n",
        "                \"dropout_rate\": self.dropout_rate,\n",
        "            }\n",
        "        )\n",
        "        return config"
      ]
    },
    {
      "cell_type": "markdown",
      "id": "076a6be0-9796-4974-9bcd-6ebbcfe7514e",
      "metadata": {
        "tags": [],
        "id": "076a6be0-9796-4974-9bcd-6ebbcfe7514e"
      },
      "source": [
        "## 7. Create the Token and Position Embedding <a name=\"embedder\"></a>"
      ]
    },
    {
      "cell_type": "code",
      "execution_count": 21,
      "id": "fdf5cb25-88ae-4026-9e21-c1e6b5094a2c",
      "metadata": {
        "id": "fdf5cb25-88ae-4026-9e21-c1e6b5094a2c"
      },
      "outputs": [],
      "source": [
        "class TokenAndPositionEmbedding(layers.Layer):\n",
        "    def __init__(self, max_len, vocab_size, embed_dim):\n",
        "        super(TokenAndPositionEmbedding, self).__init__()\n",
        "        self.max_len = max_len\n",
        "        self.vocab_size = vocab_size\n",
        "        self.embed_dim = embed_dim\n",
        "        self.token_emb = layers.Embedding(\n",
        "            input_dim=vocab_size, output_dim=embed_dim\n",
        "        )\n",
        "        self.pos_emb = layers.Embedding(input_dim=max_len, output_dim=embed_dim)\n",
        "\n",
        "    def call(self, x):\n",
        "        maxlen = tf.shape(x)[-1]\n",
        "        positions = tf.range(start=0, limit=maxlen, delta=1)\n",
        "        positions = self.pos_emb(positions)\n",
        "        x = self.token_emb(x)\n",
        "        return x + positions\n",
        "\n",
        "    def get_config(self):\n",
        "        config = super().get_config()\n",
        "        config.update(\n",
        "            {\n",
        "                \"max_len\": self.max_len,\n",
        "                \"vocab_size\": self.vocab_size,\n",
        "                \"embed_dim\": self.embed_dim,\n",
        "            }\n",
        "        )\n",
        "        return config"
      ]
    },
    {
      "cell_type": "markdown",
      "id": "aac2e2d4-5980-47e3-b5b0-6c41c0c2d152",
      "metadata": {
        "id": "aac2e2d4-5980-47e3-b5b0-6c41c0c2d152"
      },
      "source": [
        "## 8. Build the Transformer model <a name=\"transformer_decoder\"></a>"
      ]
    },
    {
      "cell_type": "code",
      "execution_count": 22,
      "id": "8c57596e-e17d-4959-b6e8-7581b0bace3a",
      "metadata": {
        "id": "8c57596e-e17d-4959-b6e8-7581b0bace3a"
      },
      "outputs": [],
      "source": [
        "inputs = layers.Input(shape=(None,), dtype=tf.int32)\n",
        "x = TokenAndPositionEmbedding(MAX_LEN, VOCAB_SIZE, EMBEDDING_DIM)(inputs)\n",
        "x, attention_scores = TransformerBlock(\n",
        "    N_HEADS, KEY_DIM, EMBEDDING_DIM, FEED_FORWARD_DIM\n",
        ")(x)\n",
        "outputs = layers.Dense(VOCAB_SIZE, activation=\"softmax\")(x)\n",
        "gpt = models.Model(inputs=inputs, outputs=[outputs, attention_scores])\n",
        "gpt.compile(\"adam\", loss=[losses.SparseCategoricalCrossentropy(), None])"
      ]
    },
    {
      "cell_type": "code",
      "execution_count": 23,
      "id": "1a1c3b0f-3382-444d-bb04-bae143ae5d61",
      "metadata": {
        "colab": {
          "base_uri": "https://localhost:8080/"
        },
        "id": "1a1c3b0f-3382-444d-bb04-bae143ae5d61",
        "outputId": "e058b77e-4b24-4b5c-8c10-bc5c91508fc7"
      },
      "outputs": [
        {
          "output_type": "stream",
          "name": "stdout",
          "text": [
            "Model: \"model\"\n",
            "_________________________________________________________________\n",
            " Layer (type)                Output Shape              Param #   \n",
            "=================================================================\n",
            " input_1 (InputLayer)        [(None, None)]            0         \n",
            "                                                                 \n",
            " token_and_position_embeddi  (None, None, 256)         2580480   \n",
            " ng (TokenAndPositionEmbedd                                      \n",
            " ing)                                                            \n",
            "                                                                 \n",
            " transformer_block (Transfo  ((None, None, 256),       658688    \n",
            " rmerBlock)                   (None, 2, None, None))             \n",
            "                                                                 \n",
            " dense_2 (Dense)             (None, None, 10000)       2570000   \n",
            "                                                                 \n",
            "=================================================================\n",
            "Total params: 5809168 (22.16 MB)\n",
            "Trainable params: 5809168 (22.16 MB)\n",
            "Non-trainable params: 0 (0.00 Byte)\n",
            "_________________________________________________________________\n"
          ]
        }
      ],
      "source": [
        "gpt.summary()"
      ]
    },
    {
      "cell_type": "code",
      "execution_count": 24,
      "id": "800a3c6e-fb11-4792-b6bc-9a43a7c977ad",
      "metadata": {
        "tags": [],
        "id": "800a3c6e-fb11-4792-b6bc-9a43a7c977ad"
      },
      "outputs": [],
      "source": [
        "if LOAD_MODEL:\n",
        "    # model.load_weights('./models/model')\n",
        "    gpt = models.load_model(\"./models/gpt\", compile=True)"
      ]
    },
    {
      "cell_type": "markdown",
      "id": "35b14665-4359-447b-be58-3fd58ba69084",
      "metadata": {
        "id": "35b14665-4359-447b-be58-3fd58ba69084"
      },
      "source": [
        "## 9. Train the Transformer <a name=\"train\"></a>"
      ]
    },
    {
      "cell_type": "code",
      "execution_count": 25,
      "id": "3ddcff5f-829d-4449-99d2-9a3cb68f7d72",
      "metadata": {
        "id": "3ddcff5f-829d-4449-99d2-9a3cb68f7d72"
      },
      "outputs": [],
      "source": [
        "# Create a TextGenerator checkpoint\n",
        "class TextGenerator(callbacks.Callback):\n",
        "    def __init__(self, index_to_word, top_k=10):\n",
        "        self.index_to_word = index_to_word\n",
        "        self.word_to_index = {\n",
        "            word: index for index, word in enumerate(index_to_word)\n",
        "        }\n",
        "\n",
        "    def sample_from(self, probs, temperature):\n",
        "        probs = probs ** (1 / temperature)\n",
        "        probs = probs / np.sum(probs)\n",
        "        return np.random.choice(len(probs), p=probs), probs\n",
        "\n",
        "    def generate(self, start_prompt, max_tokens, temperature):\n",
        "        start_tokens = [\n",
        "            self.word_to_index.get(x, 1) for x in start_prompt.split()\n",
        "        ]\n",
        "        sample_token = None\n",
        "        info = []\n",
        "        while len(start_tokens) < max_tokens and sample_token != 0:\n",
        "            x = np.array([start_tokens])\n",
        "            y, att = self.model.predict(x, verbose=0)\n",
        "            sample_token, probs = self.sample_from(y[0][-1], temperature)\n",
        "            info.append(\n",
        "                {\n",
        "                    \"prompt\": start_prompt,\n",
        "                    \"word_probs\": probs,\n",
        "                    \"atts\": att[0, :, -1, :],\n",
        "                }\n",
        "            )\n",
        "            start_tokens.append(sample_token)\n",
        "            start_prompt = start_prompt + \" \" + self.index_to_word[sample_token]\n",
        "        print(f\"\\ngenerated text:\\n{start_prompt}\\n\")\n",
        "        return info\n",
        "\n",
        "    def on_epoch_end(self, epoch, logs=None):\n",
        "        self.generate(\"wine review\", max_tokens=80, temperature=1.0)"
      ]
    },
    {
      "cell_type": "code",
      "execution_count": 26,
      "id": "349865fe-ffbe-450e-97be-043ae1740e78",
      "metadata": {
        "id": "349865fe-ffbe-450e-97be-043ae1740e78"
      },
      "outputs": [],
      "source": [
        "# Create a model save checkpoint\n",
        "model_checkpoint_callback = callbacks.ModelCheckpoint(\n",
        "    filepath=\"./checkpoint/checkpoint.ckpt\",\n",
        "    save_weights_only=True,\n",
        "    save_freq=\"epoch\",\n",
        "    verbose=0,\n",
        ")\n",
        "\n",
        "tensorboard_callback = callbacks.TensorBoard(log_dir=\"./logs\")\n",
        "\n",
        "# Tokenize starting prompt\n",
        "text_generator = TextGenerator(vocab)"
      ]
    },
    {
      "cell_type": "code",
      "execution_count": 27,
      "id": "461c2b3e-b5ae-4def-8bd9-e7bab8c63d8e",
      "metadata": {
        "tags": [],
        "colab": {
          "base_uri": "https://localhost:8080/"
        },
        "id": "461c2b3e-b5ae-4def-8bd9-e7bab8c63d8e",
        "outputId": "0a33f03c-c32c-4257-91ed-9d561e48a840"
      },
      "outputs": [
        {
          "output_type": "stream",
          "name": "stdout",
          "text": [
            "Epoch 1/5\n",
            "4060/4060 [==============================] - ETA: 0s - loss: 2.2483 - dense_2_loss: 2.2483\n",
            "generated text:\n",
            "wine review : australia : south australia : pinot grigio : a good buy . if give this fun fruit - driven wine is clean , crisp and vibrant . with its bold quality does need a keen edge to allow it to age and integrate . \n",
            "\n",
            "4060/4060 [==============================] - 166s 39ms/step - loss: 2.2483 - dense_2_loss: 2.2483\n",
            "Epoch 2/5\n",
            "4060/4060 [==============================] - ETA: 0s - loss: 1.9582 - dense_2_loss: 1.9582\n",
            "generated text:\n",
            "wine review : us : california : petit verdot : there ' s an edge of toasted oak to this full - bodied , dense nose is almost syrupy . the aromas resemble prunes , raisin cola and toffee and brown sugar jam . great fruit flavors come across the palate and quite concentrated in dusty and second . \n",
            "\n",
            "4060/4060 [==============================] - 124s 30ms/step - loss: 1.9582 - dense_2_loss: 1.9582\n",
            "Epoch 3/5\n",
            "4059/4060 [============================>.] - ETA: 0s - loss: 1.8886 - dense_2_loss: 1.8886\n",
            "generated text:\n",
            "wine review : italy : tuscany : red blend : this 50 - 50 blend of merlot and 50 % cabernet sauvignon is a blend of 50 % cabernet sauvignon and 30 % merlot , this wine offers aromas of toast , black plum and spice . the firm palate tastes of cured meat , sandalwood and espresso alongside solid tannins . \n",
            "\n",
            "4060/4060 [==============================] - 123s 30ms/step - loss: 1.8887 - dense_2_loss: 1.8887\n",
            "Epoch 4/5\n",
            "4060/4060 [==============================] - ETA: 0s - loss: 1.8469 - dense_2_loss: 1.8469\n",
            "generated text:\n",
            "wine review : spain : northern spain : verdejo - viura : delicate aromas of sea - spray , kiwi and white grapefruit are quintessential snappy in feel , with fresh citrus flavors . the finish delivers green apple notes along with pyrazine - heavy oak . \n",
            "\n",
            "4060/4060 [==============================] - 123s 30ms/step - loss: 1.8469 - dense_2_loss: 1.8469\n",
            "Epoch 5/5\n",
            "4059/4060 [============================>.] - ETA: 0s - loss: 1.8172 - dense_2_loss: 1.8172\n",
            "generated text:\n",
            "wine review : us : california : pinot noir : so why pinot presents a frankly delicious palate to wash down the arroyo seco ava as well as impressive as pretty wines . concentrated around the any sweet dish on other than these varieties is almost simple . \n",
            "\n",
            "4060/4060 [==============================] - 122s 30ms/step - loss: 1.8172 - dense_2_loss: 1.8172\n"
          ]
        },
        {
          "output_type": "execute_result",
          "data": {
            "text/plain": [
              "<keras.src.callbacks.History at 0x7f3c0eb02ad0>"
            ]
          },
          "metadata": {},
          "execution_count": 27
        }
      ],
      "source": [
        "gpt.fit(\n",
        "    train_ds,\n",
        "    epochs=EPOCHS,\n",
        "    callbacks=[model_checkpoint_callback, tensorboard_callback, text_generator],\n",
        ")"
      ]
    },
    {
      "cell_type": "code",
      "execution_count": 28,
      "id": "369bde44-2e39-4bc6-8549-a3a27ecce55c",
      "metadata": {
        "tags": [],
        "id": "369bde44-2e39-4bc6-8549-a3a27ecce55c"
      },
      "outputs": [],
      "source": [
        "# Save the final model\n",
        "gpt.save(\"./models/gpt\")"
      ]
    },
    {
      "cell_type": "markdown",
      "id": "d64e02d2-84dc-40c8-8446-40c09adf1e20",
      "metadata": {
        "id": "d64e02d2-84dc-40c8-8446-40c09adf1e20"
      },
      "source": [
        "# 3. Generate text using the Transformer"
      ]
    },
    {
      "cell_type": "code",
      "execution_count": 29,
      "id": "4ad23adb-3ec9-4e9a-9a59-b9f9bafca649",
      "metadata": {
        "id": "4ad23adb-3ec9-4e9a-9a59-b9f9bafca649"
      },
      "outputs": [],
      "source": [
        "def print_probs(info, vocab, top_k=5):\n",
        "    for i in info:\n",
        "        highlighted_text = []\n",
        "        for word, att_score in zip(\n",
        "            i[\"prompt\"].split(), np.mean(i[\"atts\"], axis=0)\n",
        "        ):\n",
        "            highlighted_text.append(\n",
        "                '<span style=\"background-color:rgba(135,206,250,'\n",
        "                + str(att_score / max(np.mean(i[\"atts\"], axis=0)))\n",
        "                + ');\">'\n",
        "                + word\n",
        "                + \"</span>\"\n",
        "            )\n",
        "        highlighted_text = \" \".join(highlighted_text)\n",
        "        display(HTML(highlighted_text))\n",
        "\n",
        "        word_probs = i[\"word_probs\"]\n",
        "        p_sorted = np.sort(word_probs)[::-1][:top_k]\n",
        "        i_sorted = np.argsort(word_probs)[::-1][:top_k]\n",
        "        for p, i in zip(p_sorted, i_sorted):\n",
        "            print(f\"{vocab[i]}:   \\t{np.round(100*p,2)}%\")\n",
        "        print(\"--------\\n\")"
      ]
    },
    {
      "cell_type": "code",
      "execution_count": 35,
      "id": "3cf25578-d47c-4b26-8252-fcdf2316a4ac",
      "metadata": {
        "colab": {
          "base_uri": "https://localhost:8080/"
        },
        "id": "3cf25578-d47c-4b26-8252-fcdf2316a4ac",
        "outputId": "304ac874-b4a5-47f6-df7d-1153c79a2b2d"
      },
      "outputs": [
        {
          "output_type": "stream",
          "name": "stdout",
          "text": [
            "\n",
            "generated text:\n",
            "wine review : us : california : chardonnay : this is a pretty chardonnay , but it ' s very dry and crisp in acidity . it ' s a little thin in the way , with rich flavors of pineapples , pears and buttered toast . \n",
            "\n"
          ]
        }
      ],
      "source": [
        "info = text_generator.generate(\n",
        "    \"wine review : us\", max_tokens=80, temperature=0.6\n",
        ")"
      ]
    },
    {
      "cell_type": "code",
      "execution_count": 33,
      "id": "4ae2da8e-9b7c-4b71-b37b-021115b3d7ea",
      "metadata": {
        "colab": {
          "base_uri": "https://localhost:8080/"
        },
        "id": "4ae2da8e-9b7c-4b71-b37b-021115b3d7ea",
        "outputId": "9c70c53e-c31c-4179-bb2e-2a48eba1c024"
      },
      "outputs": [
        {
          "output_type": "stream",
          "name": "stdout",
          "text": [
            "\n",
            "generated text:\n",
            "wine review : italy : tuscany : sangiovese : this wine opens with aromas of leafy underbrush , scorched earth , leather , game and a whiff of game . the palate offers dried black cherry , licorice , clove and a hint of game alongside fine - grained tannins . \n",
            "\n"
          ]
        }
      ],
      "source": [
        "info = text_generator.generate(\n",
        "    \"wine review : italy\", max_tokens=80, temperature=0.2\n",
        ")"
      ]
    },
    {
      "cell_type": "code",
      "execution_count": 32,
      "id": "5cae6d5d-263d-4455-b96c-f315cbe284ee",
      "metadata": {
        "colab": {
          "base_uri": "https://localhost:8080/",
          "height": 1000
        },
        "id": "5cae6d5d-263d-4455-b96c-f315cbe284ee",
        "outputId": "7c567db9-2108-4630-a129-b6ef9f7a4347"
      },
      "outputs": [
        {
          "output_type": "stream",
          "name": "stdout",
          "text": [
            "\n",
            "generated text:\n",
            "wine review : germany : mosel : riesling : rich and sweet , this is a bit concentrated in flavor and a hint of honey and apricot flavors . it ' s a bit rustic but not overbearing , with its juicy acidity and delicate body . \n",
            "\n"
          ]
        },
        {
          "output_type": "display_data",
          "data": {
            "text/plain": [
              "<IPython.core.display.HTML object>"
            ],
            "text/html": [
              "<span style=\"background-color:rgba(135,206,250,0.92764497);\">wine</span> <span style=\"background-color:rgba(135,206,250,1.0);\">review</span> <span style=\"background-color:rgba(135,206,250,0.33386478);\">:</span> <span style=\"background-color:rgba(135,206,250,0.22048128);\">germany</span>"
            ]
          },
          "metadata": {}
        },
        {
          "output_type": "stream",
          "name": "stdout",
          "text": [
            "::   \t100.0%\n",
            "-:   \t0.0%\n",
            "grosso:   \t0.0%\n",
            "zealand:   \t0.0%\n",
            "africa:   \t0.0%\n",
            "--------\n",
            "\n"
          ]
        },
        {
          "output_type": "display_data",
          "data": {
            "text/plain": [
              "<IPython.core.display.HTML object>"
            ],
            "text/html": [
              "<span style=\"background-color:rgba(135,206,250,0.3477915);\">wine</span> <span style=\"background-color:rgba(135,206,250,0.3654266);\">review</span> <span style=\"background-color:rgba(135,206,250,0.52006316);\">:</span> <span style=\"background-color:rgba(135,206,250,1.0);\">germany</span> <span style=\"background-color:rgba(135,206,250,0.25895467);\">:</span>"
            ]
          },
          "metadata": {}
        },
        {
          "output_type": "stream",
          "name": "stdout",
          "text": [
            "mosel:   \t95.17%\n",
            "rheinhessen:   \t2.84%\n",
            "rheingau:   \t1.14%\n",
            "nahe:   \t0.48%\n",
            "franken:   \t0.26%\n",
            "--------\n",
            "\n"
          ]
        },
        {
          "output_type": "display_data",
          "data": {
            "text/plain": [
              "<IPython.core.display.HTML object>"
            ],
            "text/html": [
              "<span style=\"background-color:rgba(135,206,250,1.0);\">wine</span> <span style=\"background-color:rgba(135,206,250,0.93524367);\">review</span> <span style=\"background-color:rgba(135,206,250,0.36169842);\">:</span> <span style=\"background-color:rgba(135,206,250,0.28800753);\">germany</span> <span style=\"background-color:rgba(135,206,250,0.53931946);\">:</span> <span style=\"background-color:rgba(135,206,250,0.20332444);\">mosel</span>"
            ]
          },
          "metadata": {}
        },
        {
          "output_type": "stream",
          "name": "stdout",
          "text": [
            "::   \t99.57%\n",
            "-:   \t0.43%\n",
            "spice:   \t0.0%\n",
            "grosso:   \t0.0%\n",
            "other:   \t0.0%\n",
            "--------\n",
            "\n"
          ]
        },
        {
          "output_type": "display_data",
          "data": {
            "text/plain": [
              "<IPython.core.display.HTML object>"
            ],
            "text/html": [
              "<span style=\"background-color:rgba(135,206,250,0.38106257);\">wine</span> <span style=\"background-color:rgba(135,206,250,0.36717093);\">review</span> <span style=\"background-color:rgba(135,206,250,0.33232084);\">:</span> <span style=\"background-color:rgba(135,206,250,0.6729504);\">germany</span> <span style=\"background-color:rgba(135,206,250,0.19815588);\">:</span> <span style=\"background-color:rgba(135,206,250,1.0);\">mosel</span> <span style=\"background-color:rgba(135,206,250,0.29461542);\">:</span>"
            ]
          },
          "metadata": {}
        },
        {
          "output_type": "stream",
          "name": "stdout",
          "text": [
            "riesling:   \t100.0%\n",
            "pinot:   \t0.0%\n",
            "dornfelder:   \t0.0%\n",
            "cabernet:   \t0.0%\n",
            "sparkling:   \t0.0%\n",
            "--------\n",
            "\n"
          ]
        },
        {
          "output_type": "display_data",
          "data": {
            "text/plain": [
              "<IPython.core.display.HTML object>"
            ],
            "text/html": [
              "<span style=\"background-color:rgba(135,206,250,0.7361542);\">wine</span> <span style=\"background-color:rgba(135,206,250,1.0);\">review</span> <span style=\"background-color:rgba(135,206,250,0.32509533);\">:</span> <span style=\"background-color:rgba(135,206,250,0.25864348);\">germany</span> <span style=\"background-color:rgba(135,206,250,0.5289683);\">:</span> <span style=\"background-color:rgba(135,206,250,0.28305054);\">mosel</span> <span style=\"background-color:rgba(135,206,250,0.4915032);\">:</span> <span style=\"background-color:rgba(135,206,250,0.20988429);\">riesling</span>"
            ]
          },
          "metadata": {}
        },
        {
          "output_type": "stream",
          "name": "stdout",
          "text": [
            "::   \t100.0%\n",
            "-:   \t0.0%\n",
            "blend:   \t0.0%\n",
            "grosso:   \t0.0%\n",
            "sekt:   \t0.0%\n",
            "--------\n",
            "\n"
          ]
        },
        {
          "output_type": "display_data",
          "data": {
            "text/plain": [
              "<IPython.core.display.HTML object>"
            ],
            "text/html": [
              "<span style=\"background-color:rgba(135,206,250,1.0);\">wine</span> <span style=\"background-color:rgba(135,206,250,0.8490677);\">review</span> <span style=\"background-color:rgba(135,206,250,0.51709175);\">:</span> <span style=\"background-color:rgba(135,206,250,0.8226188);\">germany</span> <span style=\"background-color:rgba(135,206,250,0.66818607);\">:</span> <span style=\"background-color:rgba(135,206,250,0.7392283);\">mosel</span> <span style=\"background-color:rgba(135,206,250,0.7602395);\">:</span> <span style=\"background-color:rgba(135,206,250,0.7873535);\">riesling</span> <span style=\"background-color:rgba(135,206,250,0.88140357);\">:</span>"
            ]
          },
          "metadata": {}
        },
        {
          "output_type": "stream",
          "name": "stdout",
          "text": [
            "a:   \t23.02%\n",
            "this:   \t18.15%\n",
            "while:   \t13.92%\n",
            "whiffs:   \t6.46%\n",
            "fresh:   \t4.59%\n",
            "--------\n",
            "\n"
          ]
        },
        {
          "output_type": "display_data",
          "data": {
            "text/plain": [
              "<IPython.core.display.HTML object>"
            ],
            "text/html": [
              "<span style=\"background-color:rgba(135,206,250,0.88698936);\">wine</span> <span style=\"background-color:rgba(135,206,250,1.0);\">review</span> <span style=\"background-color:rgba(135,206,250,0.42651);\">:</span> <span style=\"background-color:rgba(135,206,250,0.4784592);\">germany</span> <span style=\"background-color:rgba(135,206,250,0.3500054);\">:</span> <span style=\"background-color:rgba(135,206,250,0.38583353);\">mosel</span> <span style=\"background-color:rgba(135,206,250,0.35488895);\">:</span> <span style=\"background-color:rgba(135,206,250,0.7023161);\">riesling</span> <span style=\"background-color:rgba(135,206,250,0.5545585);\">:</span> <span style=\"background-color:rgba(135,206,250,0.501193);\">rich</span>"
            ]
          },
          "metadata": {}
        },
        {
          "output_type": "stream",
          "name": "stdout",
          "text": [
            "and:   \t63.04%\n",
            ",:   \t29.04%\n",
            "yellow:   \t4.02%\n",
            "honey:   \t1.2%\n",
            "notes:   \t0.61%\n",
            "--------\n",
            "\n"
          ]
        },
        {
          "output_type": "display_data",
          "data": {
            "text/plain": [
              "<IPython.core.display.HTML object>"
            ],
            "text/html": [
              "<span style=\"background-color:rgba(135,206,250,0.3948676);\">wine</span> <span style=\"background-color:rgba(135,206,250,0.47882253);\">review</span> <span style=\"background-color:rgba(135,206,250,0.32468775);\">:</span> <span style=\"background-color:rgba(135,206,250,0.30494556);\">germany</span> <span style=\"background-color:rgba(135,206,250,0.20160069);\">:</span> <span style=\"background-color:rgba(135,206,250,0.23285201);\">mosel</span> <span style=\"background-color:rgba(135,206,250,0.1781821);\">:</span> <span style=\"background-color:rgba(135,206,250,0.3638762);\">riesling</span> <span style=\"background-color:rgba(135,206,250,0.23509607);\">:</span> <span style=\"background-color:rgba(135,206,250,1.0);\">rich</span> <span style=\"background-color:rgba(135,206,250,0.28705812);\">and</span>"
            ]
          },
          "metadata": {}
        },
        {
          "output_type": "stream",
          "name": "stdout",
          "text": [
            "ripe:   \t24.24%\n",
            "fruity:   \t13.21%\n",
            "luscious:   \t8.43%\n",
            "savory:   \t7.79%\n",
            "juicy:   \t7.47%\n",
            "--------\n",
            "\n"
          ]
        },
        {
          "output_type": "display_data",
          "data": {
            "text/plain": [
              "<IPython.core.display.HTML object>"
            ],
            "text/html": [
              "<span style=\"background-color:rgba(135,206,250,0.8620551);\">wine</span> <span style=\"background-color:rgba(135,206,250,0.9859692);\">review</span> <span style=\"background-color:rgba(135,206,250,0.37605345);\">:</span> <span style=\"background-color:rgba(135,206,250,0.45747712);\">germany</span> <span style=\"background-color:rgba(135,206,250,0.35471305);\">:</span> <span style=\"background-color:rgba(135,206,250,0.35295057);\">mosel</span> <span style=\"background-color:rgba(135,206,250,0.34665945);\">:</span> <span style=\"background-color:rgba(135,206,250,0.5353678);\">riesling</span> <span style=\"background-color:rgba(135,206,250,0.5052343);\">:</span> <span style=\"background-color:rgba(135,206,250,0.5395135);\">rich</span> <span style=\"background-color:rgba(135,206,250,1.0);\">and</span> <span style=\"background-color:rgba(135,206,250,0.49804738);\">sweet</span>"
            ]
          },
          "metadata": {}
        },
        {
          "output_type": "stream",
          "name": "stdout",
          "text": [
            ",:   \t71.22%\n",
            "on:   \t18.64%\n",
            "in:   \t7.92%\n",
            "with:   \t1.32%\n",
            "-:   \t0.4%\n",
            "--------\n",
            "\n"
          ]
        },
        {
          "output_type": "display_data",
          "data": {
            "text/plain": [
              "<IPython.core.display.HTML object>"
            ],
            "text/html": [
              "<span style=\"background-color:rgba(135,206,250,0.37041074);\">wine</span> <span style=\"background-color:rgba(135,206,250,0.50910914);\">review</span> <span style=\"background-color:rgba(135,206,250,0.30248958);\">:</span> <span style=\"background-color:rgba(135,206,250,0.4027788);\">germany</span> <span style=\"background-color:rgba(135,206,250,0.20077787);\">:</span> <span style=\"background-color:rgba(135,206,250,0.2542762);\">mosel</span> <span style=\"background-color:rgba(135,206,250,0.1943741);\">:</span> <span style=\"background-color:rgba(135,206,250,0.3496501);\">riesling</span> <span style=\"background-color:rgba(135,206,250,0.29427326);\">:</span> <span style=\"background-color:rgba(135,206,250,0.6910177);\">rich</span> <span style=\"background-color:rgba(135,206,250,1.0);\">and</span> <span style=\"background-color:rgba(135,206,250,0.82782084);\">sweet</span> <span style=\"background-color:rgba(135,206,250,0.35293782);\">,</span>"
            ]
          },
          "metadata": {}
        },
        {
          "output_type": "stream",
          "name": "stdout",
          "text": [
            "this:   \t51.48%\n",
            "with:   \t43.05%\n",
            "but:   \t3.82%\n",
            "yet:   \t0.92%\n",
            "it:   \t0.43%\n",
            "--------\n",
            "\n"
          ]
        },
        {
          "output_type": "display_data",
          "data": {
            "text/plain": [
              "<IPython.core.display.HTML object>"
            ],
            "text/html": [
              "<span style=\"background-color:rgba(135,206,250,0.49603108);\">wine</span> <span style=\"background-color:rgba(135,206,250,0.61937726);\">review</span> <span style=\"background-color:rgba(135,206,250,0.5057299);\">:</span> <span style=\"background-color:rgba(135,206,250,0.65673435);\">germany</span> <span style=\"background-color:rgba(135,206,250,0.30780616);\">:</span> <span style=\"background-color:rgba(135,206,250,0.45859113);\">mosel</span> <span style=\"background-color:rgba(135,206,250,0.2521423);\">:</span> <span style=\"background-color:rgba(135,206,250,0.50392264);\">riesling</span> <span style=\"background-color:rgba(135,206,250,0.35200098);\">:</span> <span style=\"background-color:rgba(135,206,250,0.45738903);\">rich</span> <span style=\"background-color:rgba(135,206,250,0.4083764);\">and</span> <span style=\"background-color:rgba(135,206,250,0.46512598);\">sweet</span> <span style=\"background-color:rgba(135,206,250,1.0);\">,</span> <span style=\"background-color:rgba(135,206,250,0.28059402);\">this</span>"
            ]
          },
          "metadata": {}
        },
        {
          "output_type": "stream",
          "name": "stdout",
          "text": [
            "is:   \t40.72%\n",
            "luscious:   \t6.38%\n",
            "delicately:   \t4.1%\n",
            "ripe:   \t3.6%\n",
            "lush:   \t3.47%\n",
            "--------\n",
            "\n"
          ]
        },
        {
          "output_type": "display_data",
          "data": {
            "text/plain": [
              "<IPython.core.display.HTML object>"
            ],
            "text/html": [
              "<span style=\"background-color:rgba(135,206,250,0.56877744);\">wine</span> <span style=\"background-color:rgba(135,206,250,0.7573486);\">review</span> <span style=\"background-color:rgba(135,206,250,0.7522792);\">:</span> <span style=\"background-color:rgba(135,206,250,0.7322121);\">germany</span> <span style=\"background-color:rgba(135,206,250,0.34730238);\">:</span> <span style=\"background-color:rgba(135,206,250,0.5994342);\">mosel</span> <span style=\"background-color:rgba(135,206,250,0.3314621);\">:</span> <span style=\"background-color:rgba(135,206,250,0.4667101);\">riesling</span> <span style=\"background-color:rgba(135,206,250,0.40630278);\">:</span> <span style=\"background-color:rgba(135,206,250,0.7858153);\">rich</span> <span style=\"background-color:rgba(135,206,250,0.7564317);\">and</span> <span style=\"background-color:rgba(135,206,250,0.795332);\">sweet</span> <span style=\"background-color:rgba(135,206,250,0.95301026);\">,</span> <span style=\"background-color:rgba(135,206,250,1.0);\">this</span> <span style=\"background-color:rgba(135,206,250,0.49551722);\">is</span>"
            ]
          },
          "metadata": {}
        },
        {
          "output_type": "stream",
          "name": "stdout",
          "text": [
            "a:   \t98.46%\n",
            "an:   \t1.43%\n",
            "the:   \t0.02%\n",
            "one:   \t0.01%\n",
            "lusciously:   \t0.01%\n",
            "--------\n",
            "\n"
          ]
        },
        {
          "output_type": "display_data",
          "data": {
            "text/plain": [
              "<IPython.core.display.HTML object>"
            ],
            "text/html": [
              "<span style=\"background-color:rgba(135,206,250,0.45384583);\">wine</span> <span style=\"background-color:rgba(135,206,250,0.5396741);\">review</span> <span style=\"background-color:rgba(135,206,250,0.36813834);\">:</span> <span style=\"background-color:rgba(135,206,250,0.6000999);\">germany</span> <span style=\"background-color:rgba(135,206,250,0.20645338);\">:</span> <span style=\"background-color:rgba(135,206,250,0.45434663);\">mosel</span> <span style=\"background-color:rgba(135,206,250,0.17099681);\">:</span> <span style=\"background-color:rgba(135,206,250,0.47081515);\">riesling</span> <span style=\"background-color:rgba(135,206,250,0.27958193);\">:</span> <span style=\"background-color:rgba(135,206,250,0.5582886);\">rich</span> <span style=\"background-color:rgba(135,206,250,0.3866026);\">and</span> <span style=\"background-color:rgba(135,206,250,0.6570077);\">sweet</span> <span style=\"background-color:rgba(135,206,250,0.7794883);\">,</span> <span style=\"background-color:rgba(135,206,250,0.8778604);\">this</span> <span style=\"background-color:rgba(135,206,250,1.0);\">is</span> <span style=\"background-color:rgba(135,206,250,0.50922966);\">a</span>"
            ]
          },
          "metadata": {}
        },
        {
          "output_type": "stream",
          "name": "stdout",
          "text": [
            "bit:   \t24.09%\n",
            "luscious:   \t9.87%\n",
            "ripe:   \t8.75%\n",
            "delicate:   \t6.65%\n",
            "delicious:   \t4.12%\n",
            "--------\n",
            "\n"
          ]
        },
        {
          "output_type": "display_data",
          "data": {
            "text/plain": [
              "<IPython.core.display.HTML object>"
            ],
            "text/html": [
              "<span style=\"background-color:rgba(135,206,250,0.58142424);\">wine</span> <span style=\"background-color:rgba(135,206,250,0.93034375);\">review</span> <span style=\"background-color:rgba(135,206,250,0.6419155);\">:</span> <span style=\"background-color:rgba(135,206,250,0.48084);\">germany</span> <span style=\"background-color:rgba(135,206,250,0.3654732);\">:</span> <span style=\"background-color:rgba(135,206,250,0.5517881);\">mosel</span> <span style=\"background-color:rgba(135,206,250,0.26737374);\">:</span> <span style=\"background-color:rgba(135,206,250,0.44445145);\">riesling</span> <span style=\"background-color:rgba(135,206,250,0.41456094);\">:</span> <span style=\"background-color:rgba(135,206,250,0.55533206);\">rich</span> <span style=\"background-color:rgba(135,206,250,0.4326131);\">and</span> <span style=\"background-color:rgba(135,206,250,0.6913869);\">sweet</span> <span style=\"background-color:rgba(135,206,250,0.857596);\">,</span> <span style=\"background-color:rgba(135,206,250,0.89928544);\">this</span> <span style=\"background-color:rgba(135,206,250,1.0);\">is</span> <span style=\"background-color:rgba(135,206,250,0.83141005);\">a</span> <span style=\"background-color:rgba(135,206,250,0.48433888);\">bit</span>"
            ]
          },
          "metadata": {}
        },
        {
          "output_type": "stream",
          "name": "stdout",
          "text": [
            "rustic:   \t22.35%\n",
            "simple:   \t13.35%\n",
            "soft:   \t10.32%\n",
            "heavy:   \t7.97%\n",
            "more:   \t5.22%\n",
            "--------\n",
            "\n"
          ]
        },
        {
          "output_type": "display_data",
          "data": {
            "text/plain": [
              "<IPython.core.display.HTML object>"
            ],
            "text/html": [
              "<span style=\"background-color:rgba(135,206,250,0.25905928);\">wine</span> <span style=\"background-color:rgba(135,206,250,0.39581424);\">review</span> <span style=\"background-color:rgba(135,206,250,0.23076528);\">:</span> <span style=\"background-color:rgba(135,206,250,0.44685856);\">germany</span> <span style=\"background-color:rgba(135,206,250,0.13335416);\">:</span> <span style=\"background-color:rgba(135,206,250,0.26396075);\">mosel</span> <span style=\"background-color:rgba(135,206,250,0.15888044);\">:</span> <span style=\"background-color:rgba(135,206,250,0.50041336);\">riesling</span> <span style=\"background-color:rgba(135,206,250,0.22150852);\">:</span> <span style=\"background-color:rgba(135,206,250,0.17208068);\">rich</span> <span style=\"background-color:rgba(135,206,250,0.18327397);\">and</span> <span style=\"background-color:rgba(135,206,250,0.16383798);\">sweet</span> <span style=\"background-color:rgba(135,206,250,0.16681415);\">,</span> <span style=\"background-color:rgba(135,206,250,0.52831167);\">this</span> <span style=\"background-color:rgba(135,206,250,0.50960505);\">is</span> <span style=\"background-color:rgba(135,206,250,0.659843);\">a</span> <span style=\"background-color:rgba(135,206,250,1.0);\">bit</span> <span style=\"background-color:rgba(135,206,250,0.32007354);\">concentrated</span>"
            ]
          },
          "metadata": {}
        },
        {
          "output_type": "stream",
          "name": "stdout",
          "text": [
            ",:   \t40.58%\n",
            "in:   \t25.99%\n",
            "and:   \t14.01%\n",
            "on:   \t10.74%\n",
            "with:   \t5.74%\n",
            "--------\n",
            "\n"
          ]
        },
        {
          "output_type": "display_data",
          "data": {
            "text/plain": [
              "<IPython.core.display.HTML object>"
            ],
            "text/html": [
              "<span style=\"background-color:rgba(135,206,250,0.15677764);\">wine</span> <span style=\"background-color:rgba(135,206,250,0.24262656);\">review</span> <span style=\"background-color:rgba(135,206,250,0.1812455);\">:</span> <span style=\"background-color:rgba(135,206,250,0.26932445);\">germany</span> <span style=\"background-color:rgba(135,206,250,0.10920113);\">:</span> <span style=\"background-color:rgba(135,206,250,0.17661312);\">mosel</span> <span style=\"background-color:rgba(135,206,250,0.11196118);\">:</span> <span style=\"background-color:rgba(135,206,250,0.20837869);\">riesling</span> <span style=\"background-color:rgba(135,206,250,0.123895444);\">:</span> <span style=\"background-color:rgba(135,206,250,0.12735324);\">rich</span> <span style=\"background-color:rgba(135,206,250,0.13168094);\">and</span> <span style=\"background-color:rgba(135,206,250,0.1760696);\">sweet</span> <span style=\"background-color:rgba(135,206,250,0.183813);\">,</span> <span style=\"background-color:rgba(135,206,250,0.230816);\">this</span> <span style=\"background-color:rgba(135,206,250,0.2041446);\">is</span> <span style=\"background-color:rgba(135,206,250,0.23498769);\">a</span> <span style=\"background-color:rgba(135,206,250,0.25848743);\">bit</span> <span style=\"background-color:rgba(135,206,250,1.0);\">concentrated</span> <span style=\"background-color:rgba(135,206,250,0.13535696);\">in</span>"
            ]
          },
          "metadata": {}
        },
        {
          "output_type": "stream",
          "name": "stdout",
          "text": [
            "flavor:   \t38.69%\n",
            "style:   \t24.12%\n",
            "the:   \t19.15%\n",
            "its:   \t4.16%\n",
            "fruit:   \t2.72%\n",
            "--------\n",
            "\n"
          ]
        },
        {
          "output_type": "display_data",
          "data": {
            "text/plain": [
              "<IPython.core.display.HTML object>"
            ],
            "text/html": [
              "<span style=\"background-color:rgba(135,206,250,0.339962);\">wine</span> <span style=\"background-color:rgba(135,206,250,0.7785713);\">review</span> <span style=\"background-color:rgba(135,206,250,0.38744447);\">:</span> <span style=\"background-color:rgba(135,206,250,0.38864696);\">germany</span> <span style=\"background-color:rgba(135,206,250,0.33828723);\">:</span> <span style=\"background-color:rgba(135,206,250,0.1827977);\">mosel</span> <span style=\"background-color:rgba(135,206,250,0.21903639);\">:</span> <span style=\"background-color:rgba(135,206,250,0.17899585);\">riesling</span> <span style=\"background-color:rgba(135,206,250,0.25361305);\">:</span> <span style=\"background-color:rgba(135,206,250,0.15494786);\">rich</span> <span style=\"background-color:rgba(135,206,250,0.20919031);\">and</span> <span style=\"background-color:rgba(135,206,250,0.17116305);\">sweet</span> <span style=\"background-color:rgba(135,206,250,0.26299596);\">,</span> <span style=\"background-color:rgba(135,206,250,0.5650462);\">this</span> <span style=\"background-color:rgba(135,206,250,0.55195886);\">is</span> <span style=\"background-color:rgba(135,206,250,0.4790169);\">a</span> <span style=\"background-color:rgba(135,206,250,0.4425162);\">bit</span> <span style=\"background-color:rgba(135,206,250,0.50230414);\">concentrated</span> <span style=\"background-color:rgba(135,206,250,1.0);\">in</span> <span style=\"background-color:rgba(135,206,250,0.6323743);\">flavor</span>"
            ]
          },
          "metadata": {}
        },
        {
          "output_type": "stream",
          "name": "stdout",
          "text": [
            ",:   \t57.19%\n",
            "and:   \t27.21%\n",
            ".:   \t10.82%\n",
            "intensity:   \t1.8%\n",
            "yet:   \t1.22%\n",
            "--------\n",
            "\n"
          ]
        },
        {
          "output_type": "display_data",
          "data": {
            "text/plain": [
              "<IPython.core.display.HTML object>"
            ],
            "text/html": [
              "<span style=\"background-color:rgba(135,206,250,0.10323061);\">wine</span> <span style=\"background-color:rgba(135,206,250,0.16380997);\">review</span> <span style=\"background-color:rgba(135,206,250,0.18129387);\">:</span> <span style=\"background-color:rgba(135,206,250,0.23956305);\">germany</span> <span style=\"background-color:rgba(135,206,250,0.07564846);\">:</span> <span style=\"background-color:rgba(135,206,250,0.15298128);\">mosel</span> <span style=\"background-color:rgba(135,206,250,0.07043242);\">:</span> <span style=\"background-color:rgba(135,206,250,0.21221901);\">riesling</span> <span style=\"background-color:rgba(135,206,250,0.094755486);\">:</span> <span style=\"background-color:rgba(135,206,250,0.16137035);\">rich</span> <span style=\"background-color:rgba(135,206,250,0.05297815);\">and</span> <span style=\"background-color:rgba(135,206,250,0.15196766);\">sweet</span> <span style=\"background-color:rgba(135,206,250,0.08432026);\">,</span> <span style=\"background-color:rgba(135,206,250,0.11431646);\">this</span> <span style=\"background-color:rgba(135,206,250,0.12059708);\">is</span> <span style=\"background-color:rgba(135,206,250,0.11659816);\">a</span> <span style=\"background-color:rgba(135,206,250,0.18511605);\">bit</span> <span style=\"background-color:rgba(135,206,250,0.39670002);\">concentrated</span> <span style=\"background-color:rgba(135,206,250,0.38032016);\">in</span> <span style=\"background-color:rgba(135,206,250,1.0);\">flavor</span> <span style=\"background-color:rgba(135,206,250,0.24070281);\">and</span>"
            ]
          },
          "metadata": {}
        },
        {
          "output_type": "stream",
          "name": "stdout",
          "text": [
            "texture:   \t20.05%\n",
            "a:   \t15.65%\n",
            "forward:   \t12.26%\n",
            "intensity:   \t9.57%\n",
            "body:   \t7.84%\n",
            "--------\n",
            "\n"
          ]
        },
        {
          "output_type": "display_data",
          "data": {
            "text/plain": [
              "<IPython.core.display.HTML object>"
            ],
            "text/html": [
              "<span style=\"background-color:rgba(135,206,250,0.22154258);\">wine</span> <span style=\"background-color:rgba(135,206,250,0.30691713);\">review</span> <span style=\"background-color:rgba(135,206,250,0.39917183);\">:</span> <span style=\"background-color:rgba(135,206,250,0.5727674);\">germany</span> <span style=\"background-color:rgba(135,206,250,0.13466261);\">:</span> <span style=\"background-color:rgba(135,206,250,0.36513162);\">mosel</span> <span style=\"background-color:rgba(135,206,250,0.11753838);\">:</span> <span style=\"background-color:rgba(135,206,250,0.36522162);\">riesling</span> <span style=\"background-color:rgba(135,206,250,0.16751234);\">:</span> <span style=\"background-color:rgba(135,206,250,0.31843057);\">rich</span> <span style=\"background-color:rgba(135,206,250,0.1164322);\">and</span> <span style=\"background-color:rgba(135,206,250,0.28843057);\">sweet</span> <span style=\"background-color:rgba(135,206,250,0.16535509);\">,</span> <span style=\"background-color:rgba(135,206,250,0.230936);\">this</span> <span style=\"background-color:rgba(135,206,250,0.17603055);\">is</span> <span style=\"background-color:rgba(135,206,250,0.094292514);\">a</span> <span style=\"background-color:rgba(135,206,250,0.3375582);\">bit</span> <span style=\"background-color:rgba(135,206,250,0.57914525);\">concentrated</span> <span style=\"background-color:rgba(135,206,250,0.57591736);\">in</span> <span style=\"background-color:rgba(135,206,250,0.80031824);\">flavor</span> <span style=\"background-color:rgba(135,206,250,1.0);\">and</span> <span style=\"background-color:rgba(135,206,250,0.52248144);\">a</span>"
            ]
          },
          "metadata": {}
        },
        {
          "output_type": "stream",
          "name": "stdout",
          "text": [
            "hint:   \t23.81%\n",
            "bit:   \t22.96%\n",
            "touch:   \t8.99%\n",
            "long:   \t6.27%\n",
            "plush:   \t3.83%\n",
            "--------\n",
            "\n"
          ]
        },
        {
          "output_type": "display_data",
          "data": {
            "text/plain": [
              "<IPython.core.display.HTML object>"
            ],
            "text/html": [
              "<span style=\"background-color:rgba(135,206,250,0.3612892);\">wine</span> <span style=\"background-color:rgba(135,206,250,0.69542503);\">review</span> <span style=\"background-color:rgba(135,206,250,0.567425);\">:</span> <span style=\"background-color:rgba(135,206,250,0.40602434);\">germany</span> <span style=\"background-color:rgba(135,206,250,0.42280707);\">:</span> <span style=\"background-color:rgba(135,206,250,0.19989744);\">mosel</span> <span style=\"background-color:rgba(135,206,250,0.23433799);\">:</span> <span style=\"background-color:rgba(135,206,250,0.21682996);\">riesling</span> <span style=\"background-color:rgba(135,206,250,0.25413415);\">:</span> <span style=\"background-color:rgba(135,206,250,0.12784378);\">rich</span> <span style=\"background-color:rgba(135,206,250,0.14840057);\">and</span> <span style=\"background-color:rgba(135,206,250,0.11525235);\">sweet</span> <span style=\"background-color:rgba(135,206,250,0.1815358);\">,</span> <span style=\"background-color:rgba(135,206,250,0.2574242);\">this</span> <span style=\"background-color:rgba(135,206,250,0.20665814);\">is</span> <span style=\"background-color:rgba(135,206,250,0.15818994);\">a</span> <span style=\"background-color:rgba(135,206,250,0.12301557);\">bit</span> <span style=\"background-color:rgba(135,206,250,0.25883722);\">concentrated</span> <span style=\"background-color:rgba(135,206,250,0.3572014);\">in</span> <span style=\"background-color:rgba(135,206,250,0.49079573);\">flavor</span> <span style=\"background-color:rgba(135,206,250,0.8909556);\">and</span> <span style=\"background-color:rgba(135,206,250,1.0);\">a</span> <span style=\"background-color:rgba(135,206,250,0.8904731);\">hint</span>"
            ]
          },
          "metadata": {}
        },
        {
          "output_type": "stream",
          "name": "stdout",
          "text": [
            "of:   \t100.0%\n",
            "at:   \t0.0%\n",
            "that:   \t0.0%\n",
            "to:   \t0.0%\n",
            "-:   \t0.0%\n",
            "--------\n",
            "\n"
          ]
        },
        {
          "output_type": "display_data",
          "data": {
            "text/plain": [
              "<IPython.core.display.HTML object>"
            ],
            "text/html": [
              "<span style=\"background-color:rgba(135,206,250,0.118840955);\">wine</span> <span style=\"background-color:rgba(135,206,250,0.16225375);\">review</span> <span style=\"background-color:rgba(135,206,250,0.19531934);\">:</span> <span style=\"background-color:rgba(135,206,250,0.30318794);\">germany</span> <span style=\"background-color:rgba(135,206,250,0.063271284);\">:</span> <span style=\"background-color:rgba(135,206,250,0.22148724);\">mosel</span> <span style=\"background-color:rgba(135,206,250,0.08588379);\">:</span> <span style=\"background-color:rgba(135,206,250,0.30380502);\">riesling</span> <span style=\"background-color:rgba(135,206,250,0.102030516);\">:</span> <span style=\"background-color:rgba(135,206,250,0.17583857);\">rich</span> <span style=\"background-color:rgba(135,206,250,0.084002614);\">and</span> <span style=\"background-color:rgba(135,206,250,0.16367613);\">sweet</span> <span style=\"background-color:rgba(135,206,250,0.0828978);\">,</span> <span style=\"background-color:rgba(135,206,250,0.10638863);\">this</span> <span style=\"background-color:rgba(135,206,250,0.07597302);\">is</span> <span style=\"background-color:rgba(135,206,250,0.07537068);\">a</span> <span style=\"background-color:rgba(135,206,250,0.11447132);\">bit</span> <span style=\"background-color:rgba(135,206,250,0.19110781);\">concentrated</span> <span style=\"background-color:rgba(135,206,250,0.10515959);\">in</span> <span style=\"background-color:rgba(135,206,250,0.31798393);\">flavor</span> <span style=\"background-color:rgba(135,206,250,0.29633722);\">and</span> <span style=\"background-color:rgba(135,206,250,0.44395962);\">a</span> <span style=\"background-color:rgba(135,206,250,1.0);\">hint</span> <span style=\"background-color:rgba(135,206,250,0.20384845);\">of</span>"
            ]
          },
          "metadata": {}
        },
        {
          "output_type": "stream",
          "name": "stdout",
          "text": [
            "honey:   \t60.8%\n",
            "smoke:   \t5.09%\n",
            "sweet:   \t4.86%\n",
            "petrol:   \t3.84%\n",
            "sweetness:   \t2.84%\n",
            "--------\n",
            "\n"
          ]
        },
        {
          "output_type": "display_data",
          "data": {
            "text/plain": [
              "<IPython.core.display.HTML object>"
            ],
            "text/html": [
              "<span style=\"background-color:rgba(135,206,250,0.17323574);\">wine</span> <span style=\"background-color:rgba(135,206,250,0.34407073);\">review</span> <span style=\"background-color:rgba(135,206,250,0.33472753);\">:</span> <span style=\"background-color:rgba(135,206,250,0.56527114);\">germany</span> <span style=\"background-color:rgba(135,206,250,0.22658467);\">:</span> <span style=\"background-color:rgba(135,206,250,0.11687676);\">mosel</span> <span style=\"background-color:rgba(135,206,250,0.13332416);\">:</span> <span style=\"background-color:rgba(135,206,250,0.12570709);\">riesling</span> <span style=\"background-color:rgba(135,206,250,0.12852609);\">:</span> <span style=\"background-color:rgba(135,206,250,0.10501925);\">rich</span> <span style=\"background-color:rgba(135,206,250,0.071813);\">and</span> <span style=\"background-color:rgba(135,206,250,0.10174998);\">sweet</span> <span style=\"background-color:rgba(135,206,250,0.09803834);\">,</span> <span style=\"background-color:rgba(135,206,250,0.21347043);\">this</span> <span style=\"background-color:rgba(135,206,250,0.18813619);\">is</span> <span style=\"background-color:rgba(135,206,250,0.13477525);\">a</span> <span style=\"background-color:rgba(135,206,250,0.20274536);\">bit</span> <span style=\"background-color:rgba(135,206,250,0.16491643);\">concentrated</span> <span style=\"background-color:rgba(135,206,250,0.25308058);\">in</span> <span style=\"background-color:rgba(135,206,250,0.33364984);\">flavor</span> <span style=\"background-color:rgba(135,206,250,0.31030032);\">and</span> <span style=\"background-color:rgba(135,206,250,0.62184066);\">a</span> <span style=\"background-color:rgba(135,206,250,1.0);\">hint</span> <span style=\"background-color:rgba(135,206,250,0.93482804);\">of</span> <span style=\"background-color:rgba(135,206,250,0.43855652);\">honey</span>"
            ]
          },
          "metadata": {}
        },
        {
          "output_type": "stream",
          "name": "stdout",
          "text": [
            "on:   \t32.96%\n",
            "and:   \t32.24%\n",
            ".:   \t14.03%\n",
            ",:   \t11.54%\n",
            "-:   \t5.9%\n",
            "--------\n",
            "\n"
          ]
        },
        {
          "output_type": "display_data",
          "data": {
            "text/plain": [
              "<IPython.core.display.HTML object>"
            ],
            "text/html": [
              "<span style=\"background-color:rgba(135,206,250,0.06418167);\">wine</span> <span style=\"background-color:rgba(135,206,250,0.10777143);\">review</span> <span style=\"background-color:rgba(135,206,250,0.11848401);\">:</span> <span style=\"background-color:rgba(135,206,250,0.20238264);\">germany</span> <span style=\"background-color:rgba(135,206,250,0.055514935);\">:</span> <span style=\"background-color:rgba(135,206,250,0.1351186);\">mosel</span> <span style=\"background-color:rgba(135,206,250,0.052599654);\">:</span> <span style=\"background-color:rgba(135,206,250,0.17985313);\">riesling</span> <span style=\"background-color:rgba(135,206,250,0.073011026);\">:</span> <span style=\"background-color:rgba(135,206,250,0.11855361);\">rich</span> <span style=\"background-color:rgba(135,206,250,0.036829982);\">and</span> <span style=\"background-color:rgba(135,206,250,0.100752115);\">sweet</span> <span style=\"background-color:rgba(135,206,250,0.038658693);\">,</span> <span style=\"background-color:rgba(135,206,250,0.060628135);\">this</span> <span style=\"background-color:rgba(135,206,250,0.052089322);\">is</span> <span style=\"background-color:rgba(135,206,250,0.0323395);\">a</span> <span style=\"background-color:rgba(135,206,250,0.052578863);\">bit</span> <span style=\"background-color:rgba(135,206,250,0.09588478);\">concentrated</span> <span style=\"background-color:rgba(135,206,250,0.058138367);\">in</span> <span style=\"background-color:rgba(135,206,250,0.13796215);\">flavor</span> <span style=\"background-color:rgba(135,206,250,0.04530677);\">and</span> <span style=\"background-color:rgba(135,206,250,0.126645);\">a</span> <span style=\"background-color:rgba(135,206,250,0.4281894);\">hint</span> <span style=\"background-color:rgba(135,206,250,0.2859239);\">of</span> <span style=\"background-color:rgba(135,206,250,1.0);\">honey</span> <span style=\"background-color:rgba(135,206,250,0.17705199);\">and</span>"
            ]
          },
          "metadata": {}
        },
        {
          "output_type": "stream",
          "name": "stdout",
          "text": [
            "marmalade:   \t29.51%\n",
            "spice:   \t16.87%\n",
            "lemon:   \t9.35%\n",
            "peach:   \t7.3%\n",
            "tangerine:   \t6.79%\n",
            "--------\n",
            "\n"
          ]
        },
        {
          "output_type": "display_data",
          "data": {
            "text/plain": [
              "<IPython.core.display.HTML object>"
            ],
            "text/html": [
              "<span style=\"background-color:rgba(135,206,250,0.18462686);\">wine</span> <span style=\"background-color:rgba(135,206,250,0.32414788);\">review</span> <span style=\"background-color:rgba(135,206,250,0.4378984);\">:</span> <span style=\"background-color:rgba(135,206,250,0.6779327);\">germany</span> <span style=\"background-color:rgba(135,206,250,0.25566813);\">:</span> <span style=\"background-color:rgba(135,206,250,0.13983627);\">mosel</span> <span style=\"background-color:rgba(135,206,250,0.17487745);\">:</span> <span style=\"background-color:rgba(135,206,250,0.1370186);\">riesling</span> <span style=\"background-color:rgba(135,206,250,0.14506373);\">:</span> <span style=\"background-color:rgba(135,206,250,0.10140102);\">rich</span> <span style=\"background-color:rgba(135,206,250,0.07729649);\">and</span> <span style=\"background-color:rgba(135,206,250,0.09666832);\">sweet</span> <span style=\"background-color:rgba(135,206,250,0.09400777);\">,</span> <span style=\"background-color:rgba(135,206,250,0.15512826);\">this</span> <span style=\"background-color:rgba(135,206,250,0.124301985);\">is</span> <span style=\"background-color:rgba(135,206,250,0.12392964);\">a</span> <span style=\"background-color:rgba(135,206,250,0.13370596);\">bit</span> <span style=\"background-color:rgba(135,206,250,0.17158444);\">concentrated</span> <span style=\"background-color:rgba(135,206,250,0.17642732);\">in</span> <span style=\"background-color:rgba(135,206,250,0.35354298);\">flavor</span> <span style=\"background-color:rgba(135,206,250,0.22085172);\">and</span> <span style=\"background-color:rgba(135,206,250,0.47903174);\">a</span> <span style=\"background-color:rgba(135,206,250,0.62404275);\">hint</span> <span style=\"background-color:rgba(135,206,250,0.58097523);\">of</span> <span style=\"background-color:rgba(135,206,250,0.33892465);\">honey</span> <span style=\"background-color:rgba(135,206,250,1.0);\">and</span> <span style=\"background-color:rgba(135,206,250,0.46690074);\">apricot</span>"
            ]
          },
          "metadata": {}
        },
        {
          "output_type": "stream",
          "name": "stdout",
          "text": [
            "notes:   \t31.28%\n",
            "nectar:   \t27.19%\n",
            "flavors:   \t25.15%\n",
            ".:   \t4.83%\n",
            "preserves:   \t3.76%\n",
            "--------\n",
            "\n"
          ]
        },
        {
          "output_type": "display_data",
          "data": {
            "text/plain": [
              "<IPython.core.display.HTML object>"
            ],
            "text/html": [
              "<span style=\"background-color:rgba(135,206,250,0.17406866);\">wine</span> <span style=\"background-color:rgba(135,206,250,0.4637953);\">review</span> <span style=\"background-color:rgba(135,206,250,0.6092772);\">:</span> <span style=\"background-color:rgba(135,206,250,0.6649161);\">germany</span> <span style=\"background-color:rgba(135,206,250,0.24443638);\">:</span> <span style=\"background-color:rgba(135,206,250,0.20011292);\">mosel</span> <span style=\"background-color:rgba(135,206,250,0.17195731);\">:</span> <span style=\"background-color:rgba(135,206,250,0.15100108);\">riesling</span> <span style=\"background-color:rgba(135,206,250,0.17160912);\">:</span> <span style=\"background-color:rgba(135,206,250,0.1293227);\">rich</span> <span style=\"background-color:rgba(135,206,250,0.08222581);\">and</span> <span style=\"background-color:rgba(135,206,250,0.10081942);\">sweet</span> <span style=\"background-color:rgba(135,206,250,0.10721635);\">,</span> <span style=\"background-color:rgba(135,206,250,0.22204041);\">this</span> <span style=\"background-color:rgba(135,206,250,0.18183538);\">is</span> <span style=\"background-color:rgba(135,206,250,0.080011405);\">a</span> <span style=\"background-color:rgba(135,206,250,0.1286911);\">bit</span> <span style=\"background-color:rgba(135,206,250,0.14464605);\">concentrated</span> <span style=\"background-color:rgba(135,206,250,0.24881665);\">in</span> <span style=\"background-color:rgba(135,206,250,0.15420386);\">flavor</span> <span style=\"background-color:rgba(135,206,250,0.18047252);\">and</span> <span style=\"background-color:rgba(135,206,250,0.25188625);\">a</span> <span style=\"background-color:rgba(135,206,250,0.39992136);\">hint</span> <span style=\"background-color:rgba(135,206,250,0.7486982);\">of</span> <span style=\"background-color:rgba(135,206,250,0.53192955);\">honey</span> <span style=\"background-color:rgba(135,206,250,0.719139);\">and</span> <span style=\"background-color:rgba(135,206,250,1.0);\">apricot</span> <span style=\"background-color:rgba(135,206,250,0.5294664);\">flavors</span>"
            ]
          },
          "metadata": {}
        },
        {
          "output_type": "stream",
          "name": "stdout",
          "text": [
            ".:   \t78.43%\n",
            ",:   \t19.35%\n",
            "on:   \t1.21%\n",
            "that:   \t0.53%\n",
            "and:   \t0.26%\n",
            "--------\n",
            "\n"
          ]
        },
        {
          "output_type": "display_data",
          "data": {
            "text/plain": [
              "<IPython.core.display.HTML object>"
            ],
            "text/html": [
              "<span style=\"background-color:rgba(135,206,250,0.41589236);\">wine</span> <span style=\"background-color:rgba(135,206,250,0.50113684);\">review</span> <span style=\"background-color:rgba(135,206,250,1.0);\">:</span> <span style=\"background-color:rgba(135,206,250,0.81961334);\">germany</span> <span style=\"background-color:rgba(135,206,250,0.58858156);\">:</span> <span style=\"background-color:rgba(135,206,250,0.54139096);\">mosel</span> <span style=\"background-color:rgba(135,206,250,0.53011537);\">:</span> <span style=\"background-color:rgba(135,206,250,0.5081042);\">riesling</span> <span style=\"background-color:rgba(135,206,250,0.2468261);\">:</span> <span style=\"background-color:rgba(135,206,250,0.21353552);\">rich</span> <span style=\"background-color:rgba(135,206,250,0.1369605);\">and</span> <span style=\"background-color:rgba(135,206,250,0.1809983);\">sweet</span> <span style=\"background-color:rgba(135,206,250,0.1292635);\">,</span> <span style=\"background-color:rgba(135,206,250,0.3452572);\">this</span> <span style=\"background-color:rgba(135,206,250,0.19849019);\">is</span> <span style=\"background-color:rgba(135,206,250,0.08719539);\">a</span> <span style=\"background-color:rgba(135,206,250,0.14864708);\">bit</span> <span style=\"background-color:rgba(135,206,250,0.18517594);\">concentrated</span> <span style=\"background-color:rgba(135,206,250,0.113487035);\">in</span> <span style=\"background-color:rgba(135,206,250,0.2591925);\">flavor</span> <span style=\"background-color:rgba(135,206,250,0.16288993);\">and</span> <span style=\"background-color:rgba(135,206,250,0.14304218);\">a</span> <span style=\"background-color:rgba(135,206,250,0.17918892);\">hint</span> <span style=\"background-color:rgba(135,206,250,0.15502466);\">of</span> <span style=\"background-color:rgba(135,206,250,0.38105538);\">honey</span> <span style=\"background-color:rgba(135,206,250,0.29402146);\">and</span> <span style=\"background-color:rgba(135,206,250,0.6081355);\">apricot</span> <span style=\"background-color:rgba(135,206,250,0.7687089);\">flavors</span> <span style=\"background-color:rgba(135,206,250,0.79304606);\">.</span>"
            ]
          },
          "metadata": {}
        },
        {
          "output_type": "stream",
          "name": "stdout",
          "text": [
            "it:   \t95.08%\n",
            "the:   \t3.8%\n",
            "a:   \t0.3%\n",
            "there:   \t0.17%\n",
            ":   \t0.1%\n",
            "--------\n",
            "\n"
          ]
        },
        {
          "output_type": "display_data",
          "data": {
            "text/plain": [
              "<IPython.core.display.HTML object>"
            ],
            "text/html": [
              "<span style=\"background-color:rgba(135,206,250,0.04273695);\">wine</span> <span style=\"background-color:rgba(135,206,250,0.07966526);\">review</span> <span style=\"background-color:rgba(135,206,250,0.1727328);\">:</span> <span style=\"background-color:rgba(135,206,250,0.2595855);\">germany</span> <span style=\"background-color:rgba(135,206,250,0.049656156);\">:</span> <span style=\"background-color:rgba(135,206,250,0.083715886);\">mosel</span> <span style=\"background-color:rgba(135,206,250,0.042997066);\">:</span> <span style=\"background-color:rgba(135,206,250,0.06695274);\">riesling</span> <span style=\"background-color:rgba(135,206,250,0.04993314);\">:</span> <span style=\"background-color:rgba(135,206,250,0.05869717);\">rich</span> <span style=\"background-color:rgba(135,206,250,0.030179776);\">and</span> <span style=\"background-color:rgba(135,206,250,0.043052245);\">sweet</span> <span style=\"background-color:rgba(135,206,250,0.024770347);\">,</span> <span style=\"background-color:rgba(135,206,250,0.034267493);\">this</span> <span style=\"background-color:rgba(135,206,250,0.036314055);\">is</span> <span style=\"background-color:rgba(135,206,250,0.026230235);\">a</span> <span style=\"background-color:rgba(135,206,250,0.046551652);\">bit</span> <span style=\"background-color:rgba(135,206,250,0.056393426);\">concentrated</span> <span style=\"background-color:rgba(135,206,250,0.039802704);\">in</span> <span style=\"background-color:rgba(135,206,250,0.081373185);\">flavor</span> <span style=\"background-color:rgba(135,206,250,0.033279084);\">and</span> <span style=\"background-color:rgba(135,206,250,0.04200699);\">a</span> <span style=\"background-color:rgba(135,206,250,0.083455935);\">hint</span> <span style=\"background-color:rgba(135,206,250,0.08175036);\">of</span> <span style=\"background-color:rgba(135,206,250,0.0943197);\">honey</span> <span style=\"background-color:rgba(135,206,250,0.09612342);\">and</span> <span style=\"background-color:rgba(135,206,250,0.1544881);\">apricot</span> <span style=\"background-color:rgba(135,206,250,0.27635923);\">flavors</span> <span style=\"background-color:rgba(135,206,250,1.0);\">.</span> <span style=\"background-color:rgba(135,206,250,0.20640998);\">it</span>"
            ]
          },
          "metadata": {}
        },
        {
          "output_type": "stream",
          "name": "stdout",
          "text": [
            "':   \t99.95%\n",
            "finishes:   \t0.04%\n",
            "penetrates:   \t0.0%\n",
            "is:   \t0.0%\n",
            "has:   \t0.0%\n",
            "--------\n",
            "\n"
          ]
        },
        {
          "output_type": "display_data",
          "data": {
            "text/plain": [
              "<IPython.core.display.HTML object>"
            ],
            "text/html": [
              "<span style=\"background-color:rgba(135,206,250,0.11638529);\">wine</span> <span style=\"background-color:rgba(135,206,250,0.14669812);\">review</span> <span style=\"background-color:rgba(135,206,250,0.12044108);\">:</span> <span style=\"background-color:rgba(135,206,250,0.12763578);\">germany</span> <span style=\"background-color:rgba(135,206,250,0.0829094);\">:</span> <span style=\"background-color:rgba(135,206,250,0.13896236);\">mosel</span> <span style=\"background-color:rgba(135,206,250,0.076574);\">:</span> <span style=\"background-color:rgba(135,206,250,0.13333924);\">riesling</span> <span style=\"background-color:rgba(135,206,250,0.096947365);\">:</span> <span style=\"background-color:rgba(135,206,250,0.077464975);\">rich</span> <span style=\"background-color:rgba(135,206,250,0.0561899);\">and</span> <span style=\"background-color:rgba(135,206,250,0.07109719);\">sweet</span> <span style=\"background-color:rgba(135,206,250,0.0632225);\">,</span> <span style=\"background-color:rgba(135,206,250,0.07526674);\">this</span> <span style=\"background-color:rgba(135,206,250,0.055136103);\">is</span> <span style=\"background-color:rgba(135,206,250,0.0376949);\">a</span> <span style=\"background-color:rgba(135,206,250,0.03745716);\">bit</span> <span style=\"background-color:rgba(135,206,250,0.07808616);\">concentrated</span> <span style=\"background-color:rgba(135,206,250,0.0381478);\">in</span> <span style=\"background-color:rgba(135,206,250,0.070050396);\">flavor</span> <span style=\"background-color:rgba(135,206,250,0.06455491);\">and</span> <span style=\"background-color:rgba(135,206,250,0.05519011);\">a</span> <span style=\"background-color:rgba(135,206,250,0.082256064);\">hint</span> <span style=\"background-color:rgba(135,206,250,0.06979832);\">of</span> <span style=\"background-color:rgba(135,206,250,0.13852708);\">honey</span> <span style=\"background-color:rgba(135,206,250,0.17033453);\">and</span> <span style=\"background-color:rgba(135,206,250,0.22355004);\">apricot</span> <span style=\"background-color:rgba(135,206,250,0.31234357);\">flavors</span> <span style=\"background-color:rgba(135,206,250,0.8647996);\">.</span> <span style=\"background-color:rgba(135,206,250,1.0);\">it</span> <span style=\"background-color:rgba(135,206,250,0.0834847);\">'</span>"
            ]
          },
          "metadata": {}
        },
        {
          "output_type": "stream",
          "name": "stdout",
          "text": [
            "s:   \t100.0%\n",
            "ll:   \t0.0%\n",
            "d:   \t0.0%\n",
            "re:   \t0.0%\n",
            "07:   \t0.0%\n",
            "--------\n",
            "\n"
          ]
        },
        {
          "output_type": "display_data",
          "data": {
            "text/plain": [
              "<IPython.core.display.HTML object>"
            ],
            "text/html": [
              "<span style=\"background-color:rgba(135,206,250,0.0805659);\">wine</span> <span style=\"background-color:rgba(135,206,250,0.11365622);\">review</span> <span style=\"background-color:rgba(135,206,250,0.25189);\">:</span> <span style=\"background-color:rgba(135,206,250,0.27649695);\">germany</span> <span style=\"background-color:rgba(135,206,250,0.058262434);\">:</span> <span style=\"background-color:rgba(135,206,250,0.18218276);\">mosel</span> <span style=\"background-color:rgba(135,206,250,0.060447514);\">:</span> <span style=\"background-color:rgba(135,206,250,0.17426203);\">riesling</span> <span style=\"background-color:rgba(135,206,250,0.08757659);\">:</span> <span style=\"background-color:rgba(135,206,250,0.13942826);\">rich</span> <span style=\"background-color:rgba(135,206,250,0.055354696);\">and</span> <span style=\"background-color:rgba(135,206,250,0.10183439);\">sweet</span> <span style=\"background-color:rgba(135,206,250,0.044536658);\">,</span> <span style=\"background-color:rgba(135,206,250,0.05652727);\">this</span> <span style=\"background-color:rgba(135,206,250,0.043883417);\">is</span> <span style=\"background-color:rgba(135,206,250,0.032072466);\">a</span> <span style=\"background-color:rgba(135,206,250,0.054988902);\">bit</span> <span style=\"background-color:rgba(135,206,250,0.10695927);\">concentrated</span> <span style=\"background-color:rgba(135,206,250,0.044561632);\">in</span> <span style=\"background-color:rgba(135,206,250,0.0827203);\">flavor</span> <span style=\"background-color:rgba(135,206,250,0.06182829);\">and</span> <span style=\"background-color:rgba(135,206,250,0.050440997);\">a</span> <span style=\"background-color:rgba(135,206,250,0.117030226);\">hint</span> <span style=\"background-color:rgba(135,206,250,0.09131094);\">of</span> <span style=\"background-color:rgba(135,206,250,0.1570441);\">honey</span> <span style=\"background-color:rgba(135,206,250,0.14800721);\">and</span> <span style=\"background-color:rgba(135,206,250,0.16769524);\">apricot</span> <span style=\"background-color:rgba(135,206,250,0.29560307);\">flavors</span> <span style=\"background-color:rgba(135,206,250,1.0);\">.</span> <span style=\"background-color:rgba(135,206,250,0.746412);\">it</span> <span style=\"background-color:rgba(135,206,250,0.10626039);\">'</span> <span style=\"background-color:rgba(135,206,250,0.2093404);\">s</span>"
            ]
          },
          "metadata": {}
        },
        {
          "output_type": "stream",
          "name": "stdout",
          "text": [
            "a:   \t96.3%\n",
            "an:   \t1.91%\n",
            "lusciously:   \t0.21%\n",
            "delicate:   \t0.09%\n",
            "not:   \t0.09%\n",
            "--------\n",
            "\n"
          ]
        },
        {
          "output_type": "display_data",
          "data": {
            "text/plain": [
              "<IPython.core.display.HTML object>"
            ],
            "text/html": [
              "<span style=\"background-color:rgba(135,206,250,0.09492758);\">wine</span> <span style=\"background-color:rgba(135,206,250,0.14014055);\">review</span> <span style=\"background-color:rgba(135,206,250,0.22389297);\">:</span> <span style=\"background-color:rgba(135,206,250,0.4367364);\">germany</span> <span style=\"background-color:rgba(135,206,250,0.07721957);\">:</span> <span style=\"background-color:rgba(135,206,250,0.28555334);\">mosel</span> <span style=\"background-color:rgba(135,206,250,0.06731122);\">:</span> <span style=\"background-color:rgba(135,206,250,0.2669898);\">riesling</span> <span style=\"background-color:rgba(135,206,250,0.103147596);\">:</span> <span style=\"background-color:rgba(135,206,250,0.1798928);\">rich</span> <span style=\"background-color:rgba(135,206,250,0.048622053);\">and</span> <span style=\"background-color:rgba(135,206,250,0.13115694);\">sweet</span> <span style=\"background-color:rgba(135,206,250,0.05357459);\">,</span> <span style=\"background-color:rgba(135,206,250,0.0740539);\">this</span> <span style=\"background-color:rgba(135,206,250,0.048296046);\">is</span> <span style=\"background-color:rgba(135,206,250,0.025811112);\">a</span> <span style=\"background-color:rgba(135,206,250,0.09108872);\">bit</span> <span style=\"background-color:rgba(135,206,250,0.14093755);\">concentrated</span> <span style=\"background-color:rgba(135,206,250,0.04516437);\">in</span> <span style=\"background-color:rgba(135,206,250,0.11120677);\">flavor</span> <span style=\"background-color:rgba(135,206,250,0.056795813);\">and</span> <span style=\"background-color:rgba(135,206,250,0.034214053);\">a</span> <span style=\"background-color:rgba(135,206,250,0.13670218);\">hint</span> <span style=\"background-color:rgba(135,206,250,0.08390733);\">of</span> <span style=\"background-color:rgba(135,206,250,0.21152076);\">honey</span> <span style=\"background-color:rgba(135,206,250,0.13554023);\">and</span> <span style=\"background-color:rgba(135,206,250,0.24845082);\">apricot</span> <span style=\"background-color:rgba(135,206,250,0.4266589);\">flavors</span> <span style=\"background-color:rgba(135,206,250,1.0);\">.</span> <span style=\"background-color:rgba(135,206,250,0.49020243);\">it</span> <span style=\"background-color:rgba(135,206,250,0.11484538);\">'</span> <span style=\"background-color:rgba(135,206,250,0.9688914);\">s</span> <span style=\"background-color:rgba(135,206,250,0.36247763);\">a</span>"
            ]
          },
          "metadata": {}
        },
        {
          "output_type": "stream",
          "name": "stdout",
          "text": [
            "bit:   \t85.18%\n",
            "touch:   \t2.16%\n",
            "delicate:   \t2.14%\n",
            "fine:   \t1.51%\n",
            "plush:   \t0.77%\n",
            "--------\n",
            "\n"
          ]
        },
        {
          "output_type": "display_data",
          "data": {
            "text/plain": [
              "<IPython.core.display.HTML object>"
            ],
            "text/html": [
              "<span style=\"background-color:rgba(135,206,250,0.1055623);\">wine</span> <span style=\"background-color:rgba(135,206,250,0.18857291);\">review</span> <span style=\"background-color:rgba(135,206,250,0.2578814);\">:</span> <span style=\"background-color:rgba(135,206,250,0.25523528);\">germany</span> <span style=\"background-color:rgba(135,206,250,0.11733753);\">:</span> <span style=\"background-color:rgba(135,206,250,0.25077906);\">mosel</span> <span style=\"background-color:rgba(135,206,250,0.08796808);\">:</span> <span style=\"background-color:rgba(135,206,250,0.21125579);\">riesling</span> <span style=\"background-color:rgba(135,206,250,0.12880579);\">:</span> <span style=\"background-color:rgba(135,206,250,0.15849224);\">rich</span> <span style=\"background-color:rgba(135,206,250,0.06856144);\">and</span> <span style=\"background-color:rgba(135,206,250,0.10194368);\">sweet</span> <span style=\"background-color:rgba(135,206,250,0.04877066);\">,</span> <span style=\"background-color:rgba(135,206,250,0.043202676);\">this</span> <span style=\"background-color:rgba(135,206,250,0.030617837);\">is</span> <span style=\"background-color:rgba(135,206,250,0.027172944);\">a</span> <span style=\"background-color:rgba(135,206,250,0.028766774);\">bit</span> <span style=\"background-color:rgba(135,206,250,0.104205355);\">concentrated</span> <span style=\"background-color:rgba(135,206,250,0.043720014);\">in</span> <span style=\"background-color:rgba(135,206,250,0.07493376);\">flavor</span> <span style=\"background-color:rgba(135,206,250,0.06722598);\">and</span> <span style=\"background-color:rgba(135,206,250,0.040531386);\">a</span> <span style=\"background-color:rgba(135,206,250,0.06570456);\">hint</span> <span style=\"background-color:rgba(135,206,250,0.07297232);\">of</span> <span style=\"background-color:rgba(135,206,250,0.17664479);\">honey</span> <span style=\"background-color:rgba(135,206,250,0.13265614);\">and</span> <span style=\"background-color:rgba(135,206,250,0.23843008);\">apricot</span> <span style=\"background-color:rgba(135,206,250,0.27361116);\">flavors</span> <span style=\"background-color:rgba(135,206,250,1.0);\">.</span> <span style=\"background-color:rgba(135,206,250,0.5400655);\">it</span> <span style=\"background-color:rgba(135,206,250,0.11211172);\">'</span> <span style=\"background-color:rgba(135,206,250,0.569438);\">s</span> <span style=\"background-color:rgba(135,206,250,0.54530805);\">a</span> <span style=\"background-color:rgba(135,206,250,0.31718633);\">bit</span>"
            ]
          },
          "metadata": {}
        },
        {
          "output_type": "stream",
          "name": "stdout",
          "text": [
            "more:   \t17.07%\n",
            "lean:   \t11.86%\n",
            "rustic:   \t8.92%\n",
            "soft:   \t8.17%\n",
            "sweet:   \t6.96%\n",
            "--------\n",
            "\n"
          ]
        },
        {
          "output_type": "display_data",
          "data": {
            "text/plain": [
              "<IPython.core.display.HTML object>"
            ],
            "text/html": [
              "<span style=\"background-color:rgba(135,206,250,0.07495396);\">wine</span> <span style=\"background-color:rgba(135,206,250,0.11204123);\">review</span> <span style=\"background-color:rgba(135,206,250,0.11627279);\">:</span> <span style=\"background-color:rgba(135,206,250,0.25190526);\">germany</span> <span style=\"background-color:rgba(135,206,250,0.07093429);\">:</span> <span style=\"background-color:rgba(135,206,250,0.18987457);\">mosel</span> <span style=\"background-color:rgba(135,206,250,0.07336836);\">:</span> <span style=\"background-color:rgba(135,206,250,0.33518362);\">riesling</span> <span style=\"background-color:rgba(135,206,250,0.10087658);\">:</span> <span style=\"background-color:rgba(135,206,250,0.07628695);\">rich</span> <span style=\"background-color:rgba(135,206,250,0.048160072);\">and</span> <span style=\"background-color:rgba(135,206,250,0.043234084);\">sweet</span> <span style=\"background-color:rgba(135,206,250,0.031529363);\">,</span> <span style=\"background-color:rgba(135,206,250,0.026604543);\">this</span> <span style=\"background-color:rgba(135,206,250,0.0393168);\">is</span> <span style=\"background-color:rgba(135,206,250,0.014845337);\">a</span> <span style=\"background-color:rgba(135,206,250,0.03258708);\">bit</span> <span style=\"background-color:rgba(135,206,250,0.04831173);\">concentrated</span> <span style=\"background-color:rgba(135,206,250,0.02640836);\">in</span> <span style=\"background-color:rgba(135,206,250,0.078451455);\">flavor</span> <span style=\"background-color:rgba(135,206,250,0.043496013);\">and</span> <span style=\"background-color:rgba(135,206,250,0.027166078);\">a</span> <span style=\"background-color:rgba(135,206,250,0.055326313);\">hint</span> <span style=\"background-color:rgba(135,206,250,0.05782462);\">of</span> <span style=\"background-color:rgba(135,206,250,0.0682374);\">honey</span> <span style=\"background-color:rgba(135,206,250,0.06536465);\">and</span> <span style=\"background-color:rgba(135,206,250,0.1195274);\">apricot</span> <span style=\"background-color:rgba(135,206,250,0.21401942);\">flavors</span> <span style=\"background-color:rgba(135,206,250,0.40977842);\">.</span> <span style=\"background-color:rgba(135,206,250,0.21166867);\">it</span> <span style=\"background-color:rgba(135,206,250,0.065072134);\">'</span> <span style=\"background-color:rgba(135,206,250,0.45239052);\">s</span> <span style=\"background-color:rgba(135,206,250,0.51232964);\">a</span> <span style=\"background-color:rgba(135,206,250,1.0);\">bit</span> <span style=\"background-color:rgba(135,206,250,0.20203708);\">rustic</span>"
            ]
          },
          "metadata": {}
        },
        {
          "output_type": "stream",
          "name": "stdout",
          "text": [
            ",:   \t62.46%\n",
            "and:   \t27.68%\n",
            "in:   \t4.48%\n",
            "but:   \t2.6%\n",
            "with:   \t1.02%\n",
            "--------\n",
            "\n"
          ]
        },
        {
          "output_type": "display_data",
          "data": {
            "text/plain": [
              "<IPython.core.display.HTML object>"
            ],
            "text/html": [
              "<span style=\"background-color:rgba(135,206,250,0.11023358);\">wine</span> <span style=\"background-color:rgba(135,206,250,0.20662892);\">review</span> <span style=\"background-color:rgba(135,206,250,0.32686666);\">:</span> <span style=\"background-color:rgba(135,206,250,0.64885336);\">germany</span> <span style=\"background-color:rgba(135,206,250,0.123433605);\">:</span> <span style=\"background-color:rgba(135,206,250,0.19725789);\">mosel</span> <span style=\"background-color:rgba(135,206,250,0.11577885);\">:</span> <span style=\"background-color:rgba(135,206,250,0.21512234);\">riesling</span> <span style=\"background-color:rgba(135,206,250,0.12142947);\">:</span> <span style=\"background-color:rgba(135,206,250,0.10151596);\">rich</span> <span style=\"background-color:rgba(135,206,250,0.062451974);\">and</span> <span style=\"background-color:rgba(135,206,250,0.085327916);\">sweet</span> <span style=\"background-color:rgba(135,206,250,0.070854954);\">,</span> <span style=\"background-color:rgba(135,206,250,0.1287896);\">this</span> <span style=\"background-color:rgba(135,206,250,0.099540465);\">is</span> <span style=\"background-color:rgba(135,206,250,0.067673385);\">a</span> <span style=\"background-color:rgba(135,206,250,0.10767679);\">bit</span> <span style=\"background-color:rgba(135,206,250,0.07859764);\">concentrated</span> <span style=\"background-color:rgba(135,206,250,0.07777257);\">in</span> <span style=\"background-color:rgba(135,206,250,0.16267616);\">flavor</span> <span style=\"background-color:rgba(135,206,250,0.060825128);\">and</span> <span style=\"background-color:rgba(135,206,250,0.08529745);\">a</span> <span style=\"background-color:rgba(135,206,250,0.12613942);\">hint</span> <span style=\"background-color:rgba(135,206,250,0.07653821);\">of</span> <span style=\"background-color:rgba(135,206,250,0.16076499);\">honey</span> <span style=\"background-color:rgba(135,206,250,0.109842494);\">and</span> <span style=\"background-color:rgba(135,206,250,0.20991328);\">apricot</span> <span style=\"background-color:rgba(135,206,250,0.38562167);\">flavors</span> <span style=\"background-color:rgba(135,206,250,0.6089256);\">.</span> <span style=\"background-color:rgba(135,206,250,0.29365483);\">it</span> <span style=\"background-color:rgba(135,206,250,0.103808224);\">'</span> <span style=\"background-color:rgba(135,206,250,0.7160889);\">s</span> <span style=\"background-color:rgba(135,206,250,0.5773159);\">a</span> <span style=\"background-color:rgba(135,206,250,0.7757351);\">bit</span> <span style=\"background-color:rgba(135,206,250,1.0);\">rustic</span> <span style=\"background-color:rgba(135,206,250,0.66443586);\">but</span>"
            ]
          },
          "metadata": {}
        },
        {
          "output_type": "stream",
          "name": "stdout",
          "text": [
            "it:   \t44.88%\n",
            "the:   \t15.75%\n",
            "a:   \t12.35%\n",
            "not:   \t10.43%\n",
            "finishes:   \t1.86%\n",
            "--------\n",
            "\n"
          ]
        },
        {
          "output_type": "display_data",
          "data": {
            "text/plain": [
              "<IPython.core.display.HTML object>"
            ],
            "text/html": [
              "<span style=\"background-color:rgba(135,206,250,0.1988154);\">wine</span> <span style=\"background-color:rgba(135,206,250,0.3097569);\">review</span> <span style=\"background-color:rgba(135,206,250,0.50250083);\">:</span> <span style=\"background-color:rgba(135,206,250,0.25608215);\">germany</span> <span style=\"background-color:rgba(135,206,250,0.25226662);\">:</span> <span style=\"background-color:rgba(135,206,250,0.23880701);\">mosel</span> <span style=\"background-color:rgba(135,206,250,0.19485024);\">:</span> <span style=\"background-color:rgba(135,206,250,0.21069051);\">riesling</span> <span style=\"background-color:rgba(135,206,250,0.21169865);\">:</span> <span style=\"background-color:rgba(135,206,250,0.065084845);\">rich</span> <span style=\"background-color:rgba(135,206,250,0.07903294);\">and</span> <span style=\"background-color:rgba(135,206,250,0.046002176);\">sweet</span> <span style=\"background-color:rgba(135,206,250,0.05906471);\">,</span> <span style=\"background-color:rgba(135,206,250,0.07027258);\">this</span> <span style=\"background-color:rgba(135,206,250,0.052054044);\">is</span> <span style=\"background-color:rgba(135,206,250,0.042639498);\">a</span> <span style=\"background-color:rgba(135,206,250,0.041172493);\">bit</span> <span style=\"background-color:rgba(135,206,250,0.0671967);\">concentrated</span> <span style=\"background-color:rgba(135,206,250,0.049850762);\">in</span> <span style=\"background-color:rgba(135,206,250,0.08574215);\">flavor</span> <span style=\"background-color:rgba(135,206,250,0.08221504);\">and</span> <span style=\"background-color:rgba(135,206,250,0.061226718);\">a</span> <span style=\"background-color:rgba(135,206,250,0.07484556);\">hint</span> <span style=\"background-color:rgba(135,206,250,0.08849283);\">of</span> <span style=\"background-color:rgba(135,206,250,0.09690185);\">honey</span> <span style=\"background-color:rgba(135,206,250,0.11786011);\">and</span> <span style=\"background-color:rgba(135,206,250,0.11567547);\">apricot</span> <span style=\"background-color:rgba(135,206,250,0.17253034);\">flavors</span> <span style=\"background-color:rgba(135,206,250,0.51460296);\">.</span> <span style=\"background-color:rgba(135,206,250,0.26552713);\">it</span> <span style=\"background-color:rgba(135,206,250,0.11046266);\">'</span> <span style=\"background-color:rgba(135,206,250,0.29704568);\">s</span> <span style=\"background-color:rgba(135,206,250,0.41414624);\">a</span> <span style=\"background-color:rgba(135,206,250,0.30935687);\">bit</span> <span style=\"background-color:rgba(135,206,250,0.9050055);\">rustic</span> <span style=\"background-color:rgba(135,206,250,1.0);\">but</span> <span style=\"background-color:rgba(135,206,250,0.29798946);\">not</span>"
            ]
          },
          "metadata": {}
        },
        {
          "output_type": "stream",
          "name": "stdout",
          "text": [
            "particularly:   \t41.33%\n",
            "unpleasant:   \t28.61%\n",
            "overly:   \t8.11%\n",
            "overbearing:   \t7.63%\n",
            "terribly:   \t2.6%\n",
            "--------\n",
            "\n"
          ]
        },
        {
          "output_type": "display_data",
          "data": {
            "text/plain": [
              "<IPython.core.display.HTML object>"
            ],
            "text/html": [
              "<span style=\"background-color:rgba(135,206,250,0.14861245);\">wine</span> <span style=\"background-color:rgba(135,206,250,0.3152307);\">review</span> <span style=\"background-color:rgba(135,206,250,0.41664913);\">:</span> <span style=\"background-color:rgba(135,206,250,0.35139176);\">germany</span> <span style=\"background-color:rgba(135,206,250,0.1698576);\">:</span> <span style=\"background-color:rgba(135,206,250,0.19117813);\">mosel</span> <span style=\"background-color:rgba(135,206,250,0.14573638);\">:</span> <span style=\"background-color:rgba(135,206,250,0.22964951);\">riesling</span> <span style=\"background-color:rgba(135,206,250,0.16439956);\">:</span> <span style=\"background-color:rgba(135,206,250,0.063642114);\">rich</span> <span style=\"background-color:rgba(135,206,250,0.06362326);\">and</span> <span style=\"background-color:rgba(135,206,250,0.0518399);\">sweet</span> <span style=\"background-color:rgba(135,206,250,0.06914312);\">,</span> <span style=\"background-color:rgba(135,206,250,0.055914354);\">this</span> <span style=\"background-color:rgba(135,206,250,0.063771926);\">is</span> <span style=\"background-color:rgba(135,206,250,0.030022081);\">a</span> <span style=\"background-color:rgba(135,206,250,0.040111586);\">bit</span> <span style=\"background-color:rgba(135,206,250,0.050729893);\">concentrated</span> <span style=\"background-color:rgba(135,206,250,0.04445624);\">in</span> <span style=\"background-color:rgba(135,206,250,0.09151975);\">flavor</span> <span style=\"background-color:rgba(135,206,250,0.05788601);\">and</span> <span style=\"background-color:rgba(135,206,250,0.048326436);\">a</span> <span style=\"background-color:rgba(135,206,250,0.073185526);\">hint</span> <span style=\"background-color:rgba(135,206,250,0.08806241);\">of</span> <span style=\"background-color:rgba(135,206,250,0.09722551);\">honey</span> <span style=\"background-color:rgba(135,206,250,0.09571156);\">and</span> <span style=\"background-color:rgba(135,206,250,0.12689096);\">apricot</span> <span style=\"background-color:rgba(135,206,250,0.20661443);\">flavors</span> <span style=\"background-color:rgba(135,206,250,0.66505134);\">.</span> <span style=\"background-color:rgba(135,206,250,0.27769476);\">it</span> <span style=\"background-color:rgba(135,206,250,0.114934646);\">'</span> <span style=\"background-color:rgba(135,206,250,0.42565632);\">s</span> <span style=\"background-color:rgba(135,206,250,0.4357798);\">a</span> <span style=\"background-color:rgba(135,206,250,0.4312019);\">bit</span> <span style=\"background-color:rgba(135,206,250,0.4162952);\">rustic</span> <span style=\"background-color:rgba(135,206,250,1.0);\">but</span> <span style=\"background-color:rgba(135,206,250,0.7275859);\">not</span> <span style=\"background-color:rgba(135,206,250,0.48860547);\">overbearing</span>"
            ]
          },
          "metadata": {}
        },
        {
          "output_type": "stream",
          "name": "stdout",
          "text": [
            ",:   \t95.39%\n",
            ".:   \t4.11%\n",
            "or:   \t0.32%\n",
            "in:   \t0.1%\n",
            ";:   \t0.03%\n",
            "--------\n",
            "\n"
          ]
        },
        {
          "output_type": "display_data",
          "data": {
            "text/plain": [
              "<IPython.core.display.HTML object>"
            ],
            "text/html": [
              "<span style=\"background-color:rgba(135,206,250,0.03338165);\">wine</span> <span style=\"background-color:rgba(135,206,250,0.06894932);\">review</span> <span style=\"background-color:rgba(135,206,250,0.06948558);\">:</span> <span style=\"background-color:rgba(135,206,250,0.21591397);\">germany</span> <span style=\"background-color:rgba(135,206,250,0.03466225);\">:</span> <span style=\"background-color:rgba(135,206,250,0.090110414);\">mosel</span> <span style=\"background-color:rgba(135,206,250,0.03757919);\">:</span> <span style=\"background-color:rgba(135,206,250,0.1281381);\">riesling</span> <span style=\"background-color:rgba(135,206,250,0.050200842);\">:</span> <span style=\"background-color:rgba(135,206,250,0.060694218);\">rich</span> <span style=\"background-color:rgba(135,206,250,0.027025228);\">and</span> <span style=\"background-color:rgba(135,206,250,0.047796242);\">sweet</span> <span style=\"background-color:rgba(135,206,250,0.022404097);\">,</span> <span style=\"background-color:rgba(135,206,250,0.054855134);\">this</span> <span style=\"background-color:rgba(135,206,250,0.047182538);\">is</span> <span style=\"background-color:rgba(135,206,250,0.01663427);\">a</span> <span style=\"background-color:rgba(135,206,250,0.031040234);\">bit</span> <span style=\"background-color:rgba(135,206,250,0.033775907);\">concentrated</span> <span style=\"background-color:rgba(135,206,250,0.027665261);\">in</span> <span style=\"background-color:rgba(135,206,250,0.03891385);\">flavor</span> <span style=\"background-color:rgba(135,206,250,0.02341677);\">and</span> <span style=\"background-color:rgba(135,206,250,0.020565225);\">a</span> <span style=\"background-color:rgba(135,206,250,0.039103173);\">hint</span> <span style=\"background-color:rgba(135,206,250,0.024879126);\">of</span> <span style=\"background-color:rgba(135,206,250,0.060766652);\">honey</span> <span style=\"background-color:rgba(135,206,250,0.03431819);\">and</span> <span style=\"background-color:rgba(135,206,250,0.092508145);\">apricot</span> <span style=\"background-color:rgba(135,206,250,0.07412851);\">flavors</span> <span style=\"background-color:rgba(135,206,250,0.1704868);\">.</span> <span style=\"background-color:rgba(135,206,250,0.119900115);\">it</span> <span style=\"background-color:rgba(135,206,250,0.015665852);\">'</span> <span style=\"background-color:rgba(135,206,250,0.13244522);\">s</span> <span style=\"background-color:rgba(135,206,250,0.08660841);\">a</span> <span style=\"background-color:rgba(135,206,250,0.18039164);\">bit</span> <span style=\"background-color:rgba(135,206,250,0.30153623);\">rustic</span> <span style=\"background-color:rgba(135,206,250,0.36909068);\">but</span> <span style=\"background-color:rgba(135,206,250,0.3906569);\">not</span> <span style=\"background-color:rgba(135,206,250,1.0);\">overbearing</span> <span style=\"background-color:rgba(135,206,250,0.29526806);\">,</span>"
            ]
          },
          "metadata": {}
        },
        {
          "output_type": "stream",
          "name": "stdout",
          "text": [
            "with:   \t49.46%\n",
            "but:   \t42.05%\n",
            "and:   \t5.33%\n",
            "finishing:   \t0.99%\n",
            "though:   \t0.36%\n",
            "--------\n",
            "\n"
          ]
        },
        {
          "output_type": "display_data",
          "data": {
            "text/plain": [
              "<IPython.core.display.HTML object>"
            ],
            "text/html": [
              "<span style=\"background-color:rgba(135,206,250,0.06784079);\">wine</span> <span style=\"background-color:rgba(135,206,250,0.11302493);\">review</span> <span style=\"background-color:rgba(135,206,250,0.18112695);\">:</span> <span style=\"background-color:rgba(135,206,250,0.37445104);\">germany</span> <span style=\"background-color:rgba(135,206,250,0.07257806);\">:</span> <span style=\"background-color:rgba(135,206,250,0.22551537);\">mosel</span> <span style=\"background-color:rgba(135,206,250,0.07034393);\">:</span> <span style=\"background-color:rgba(135,206,250,0.28542984);\">riesling</span> <span style=\"background-color:rgba(135,206,250,0.09185571);\">:</span> <span style=\"background-color:rgba(135,206,250,0.13882911);\">rich</span> <span style=\"background-color:rgba(135,206,250,0.05369947);\">and</span> <span style=\"background-color:rgba(135,206,250,0.11800986);\">sweet</span> <span style=\"background-color:rgba(135,206,250,0.042355847);\">,</span> <span style=\"background-color:rgba(135,206,250,0.051582657);\">this</span> <span style=\"background-color:rgba(135,206,250,0.035172332);\">is</span> <span style=\"background-color:rgba(135,206,250,0.02543604);\">a</span> <span style=\"background-color:rgba(135,206,250,0.047501672);\">bit</span> <span style=\"background-color:rgba(135,206,250,0.09237658);\">concentrated</span> <span style=\"background-color:rgba(135,206,250,0.024138672);\">in</span> <span style=\"background-color:rgba(135,206,250,0.13938792);\">flavor</span> <span style=\"background-color:rgba(135,206,250,0.04798897);\">and</span> <span style=\"background-color:rgba(135,206,250,0.028910141);\">a</span> <span style=\"background-color:rgba(135,206,250,0.06253851);\">hint</span> <span style=\"background-color:rgba(135,206,250,0.03200652);\">of</span> <span style=\"background-color:rgba(135,206,250,0.14462402);\">honey</span> <span style=\"background-color:rgba(135,206,250,0.05756032);\">and</span> <span style=\"background-color:rgba(135,206,250,0.17648071);\">apricot</span> <span style=\"background-color:rgba(135,206,250,0.19443172);\">flavors</span> <span style=\"background-color:rgba(135,206,250,0.21779744);\">.</span> <span style=\"background-color:rgba(135,206,250,0.08061613);\">it</span> <span style=\"background-color:rgba(135,206,250,0.03827155);\">'</span> <span style=\"background-color:rgba(135,206,250,0.10691987);\">s</span> <span style=\"background-color:rgba(135,206,250,0.11549684);\">a</span> <span style=\"background-color:rgba(135,206,250,0.12286224);\">bit</span> <span style=\"background-color:rgba(135,206,250,0.5553942);\">rustic</span> <span style=\"background-color:rgba(135,206,250,0.5620776);\">but</span> <span style=\"background-color:rgba(135,206,250,0.46870762);\">not</span> <span style=\"background-color:rgba(135,206,250,0.88533366);\">overbearing</span> <span style=\"background-color:rgba(135,206,250,1.0);\">,</span> <span style=\"background-color:rgba(135,206,250,0.52474725);\">with</span>"
            ]
          },
          "metadata": {}
        },
        {
          "output_type": "stream",
          "name": "stdout",
          "text": [
            "a:   \t97.43%\n",
            "an:   \t1.15%\n",
            "its:   \t0.4%\n",
            "the:   \t0.21%\n",
            "just:   \t0.14%\n",
            "--------\n",
            "\n"
          ]
        },
        {
          "output_type": "display_data",
          "data": {
            "text/plain": [
              "<IPython.core.display.HTML object>"
            ],
            "text/html": [
              "<span style=\"background-color:rgba(135,206,250,0.057176992);\">wine</span> <span style=\"background-color:rgba(135,206,250,0.084848024);\">review</span> <span style=\"background-color:rgba(135,206,250,0.112540714);\">:</span> <span style=\"background-color:rgba(135,206,250,0.33495367);\">germany</span> <span style=\"background-color:rgba(135,206,250,0.05148871);\">:</span> <span style=\"background-color:rgba(135,206,250,0.21888448);\">mosel</span> <span style=\"background-color:rgba(135,206,250,0.048612915);\">:</span> <span style=\"background-color:rgba(135,206,250,0.24250828);\">riesling</span> <span style=\"background-color:rgba(135,206,250,0.05611242);\">:</span> <span style=\"background-color:rgba(135,206,250,0.112901725);\">rich</span> <span style=\"background-color:rgba(135,206,250,0.034986);\">and</span> <span style=\"background-color:rgba(135,206,250,0.0956847);\">sweet</span> <span style=\"background-color:rgba(135,206,250,0.035901915);\">,</span> <span style=\"background-color:rgba(135,206,250,0.037382185);\">this</span> <span style=\"background-color:rgba(135,206,250,0.025329508);\">is</span> <span style=\"background-color:rgba(135,206,250,0.018755961);\">a</span> <span style=\"background-color:rgba(135,206,250,0.055572998);\">bit</span> <span style=\"background-color:rgba(135,206,250,0.07704715);\">concentrated</span> <span style=\"background-color:rgba(135,206,250,0.02068247);\">in</span> <span style=\"background-color:rgba(135,206,250,0.11263419);\">flavor</span> <span style=\"background-color:rgba(135,206,250,0.029729985);\">and</span> <span style=\"background-color:rgba(135,206,250,0.01976876);\">a</span> <span style=\"background-color:rgba(135,206,250,0.059905164);\">hint</span> <span style=\"background-color:rgba(135,206,250,0.024133801);\">of</span> <span style=\"background-color:rgba(135,206,250,0.13445726);\">honey</span> <span style=\"background-color:rgba(135,206,250,0.033686716);\">and</span> <span style=\"background-color:rgba(135,206,250,0.13380787);\">apricot</span> <span style=\"background-color:rgba(135,206,250,0.14340027);\">flavors</span> <span style=\"background-color:rgba(135,206,250,0.11818069);\">.</span> <span style=\"background-color:rgba(135,206,250,0.043438204);\">it</span> <span style=\"background-color:rgba(135,206,250,0.026448505);\">'</span> <span style=\"background-color:rgba(135,206,250,0.06201697);\">s</span> <span style=\"background-color:rgba(135,206,250,0.04745346);\">a</span> <span style=\"background-color:rgba(135,206,250,0.106225014);\">bit</span> <span style=\"background-color:rgba(135,206,250,0.2946967);\">rustic</span> <span style=\"background-color:rgba(135,206,250,0.2588336);\">but</span> <span style=\"background-color:rgba(135,206,250,0.3938187);\">not</span> <span style=\"background-color:rgba(135,206,250,0.63254595);\">overbearing</span> <span style=\"background-color:rgba(135,206,250,0.94284785);\">,</span> <span style=\"background-color:rgba(135,206,250,1.0);\">with</span> <span style=\"background-color:rgba(135,206,250,0.25680736);\">its</span>"
            ]
          },
          "metadata": {}
        },
        {
          "output_type": "stream",
          "name": "stdout",
          "text": [
            "long:   \t17.02%\n",
            "lingering:   \t16.47%\n",
            "delicate:   \t14.53%\n",
            "[UNK]:   \t6.9%\n",
            "alcohol:   \t4.23%\n",
            "--------\n",
            "\n"
          ]
        },
        {
          "output_type": "display_data",
          "data": {
            "text/plain": [
              "<IPython.core.display.HTML object>"
            ],
            "text/html": [
              "<span style=\"background-color:rgba(135,206,250,0.029761184);\">wine</span> <span style=\"background-color:rgba(135,206,250,0.044533107);\">review</span> <span style=\"background-color:rgba(135,206,250,0.05885709);\">:</span> <span style=\"background-color:rgba(135,206,250,0.23388535);\">germany</span> <span style=\"background-color:rgba(135,206,250,0.02590032);\">:</span> <span style=\"background-color:rgba(135,206,250,0.14056095);\">mosel</span> <span style=\"background-color:rgba(135,206,250,0.037539694);\">:</span> <span style=\"background-color:rgba(135,206,250,0.20361595);\">riesling</span> <span style=\"background-color:rgba(135,206,250,0.04574765);\">:</span> <span style=\"background-color:rgba(135,206,250,0.054994546);\">rich</span> <span style=\"background-color:rgba(135,206,250,0.02632913);\">and</span> <span style=\"background-color:rgba(135,206,250,0.045674536);\">sweet</span> <span style=\"background-color:rgba(135,206,250,0.0205955);\">,</span> <span style=\"background-color:rgba(135,206,250,0.021082688);\">this</span> <span style=\"background-color:rgba(135,206,250,0.022812776);\">is</span> <span style=\"background-color:rgba(135,206,250,0.01017531);\">a</span> <span style=\"background-color:rgba(135,206,250,0.023894878);\">bit</span> <span style=\"background-color:rgba(135,206,250,0.030628834);\">concentrated</span> <span style=\"background-color:rgba(135,206,250,0.01666179);\">in</span> <span style=\"background-color:rgba(135,206,250,0.0615971);\">flavor</span> <span style=\"background-color:rgba(135,206,250,0.021573575);\">and</span> <span style=\"background-color:rgba(135,206,250,0.012694589);\">a</span> <span style=\"background-color:rgba(135,206,250,0.027328685);\">hint</span> <span style=\"background-color:rgba(135,206,250,0.016961008);\">of</span> <span style=\"background-color:rgba(135,206,250,0.0649787);\">honey</span> <span style=\"background-color:rgba(135,206,250,0.026068201);\">and</span> <span style=\"background-color:rgba(135,206,250,0.1132433);\">apricot</span> <span style=\"background-color:rgba(135,206,250,0.103591174);\">flavors</span> <span style=\"background-color:rgba(135,206,250,0.11158308);\">.</span> <span style=\"background-color:rgba(135,206,250,0.04567152);\">it</span> <span style=\"background-color:rgba(135,206,250,0.013309352);\">'</span> <span style=\"background-color:rgba(135,206,250,0.06756176);\">s</span> <span style=\"background-color:rgba(135,206,250,0.04903932);\">a</span> <span style=\"background-color:rgba(135,206,250,0.08644505);\">bit</span> <span style=\"background-color:rgba(135,206,250,0.098117195);\">rustic</span> <span style=\"background-color:rgba(135,206,250,0.10260225);\">but</span> <span style=\"background-color:rgba(135,206,250,0.13374428);\">not</span> <span style=\"background-color:rgba(135,206,250,0.1858168);\">overbearing</span> <span style=\"background-color:rgba(135,206,250,0.19659774);\">,</span> <span style=\"background-color:rgba(135,206,250,0.50276107);\">with</span> <span style=\"background-color:rgba(135,206,250,1.0);\">its</span> <span style=\"background-color:rgba(135,206,250,0.20052634);\">juicy</span>"
            ]
          },
          "metadata": {}
        },
        {
          "output_type": "stream",
          "name": "stdout",
          "text": [
            "acidity:   \t50.82%\n",
            "demeanor:   \t37.04%\n",
            ",:   \t3.25%\n",
            "acids:   \t2.41%\n",
            "fruit:   \t0.86%\n",
            "--------\n",
            "\n"
          ]
        },
        {
          "output_type": "display_data",
          "data": {
            "text/plain": [
              "<IPython.core.display.HTML object>"
            ],
            "text/html": [
              "<span style=\"background-color:rgba(135,206,250,0.044504657);\">wine</span> <span style=\"background-color:rgba(135,206,250,0.08116712);\">review</span> <span style=\"background-color:rgba(135,206,250,0.107744806);\">:</span> <span style=\"background-color:rgba(135,206,250,0.28072754);\">germany</span> <span style=\"background-color:rgba(135,206,250,0.09827274);\">:</span> <span style=\"background-color:rgba(135,206,250,0.070267744);\">mosel</span> <span style=\"background-color:rgba(135,206,250,0.055006895);\">:</span> <span style=\"background-color:rgba(135,206,250,0.07746663);\">riesling</span> <span style=\"background-color:rgba(135,206,250,0.053807754);\">:</span> <span style=\"background-color:rgba(135,206,250,0.03376745);\">rich</span> <span style=\"background-color:rgba(135,206,250,0.029031634);\">and</span> <span style=\"background-color:rgba(135,206,250,0.020658841);\">sweet</span> <span style=\"background-color:rgba(135,206,250,0.028549334);\">,</span> <span style=\"background-color:rgba(135,206,250,0.043491207);\">this</span> <span style=\"background-color:rgba(135,206,250,0.040441245);\">is</span> <span style=\"background-color:rgba(135,206,250,0.016738134);\">a</span> <span style=\"background-color:rgba(135,206,250,0.027772317);\">bit</span> <span style=\"background-color:rgba(135,206,250,0.025659211);\">concentrated</span> <span style=\"background-color:rgba(135,206,250,0.03221732);\">in</span> <span style=\"background-color:rgba(135,206,250,0.04726651);\">flavor</span> <span style=\"background-color:rgba(135,206,250,0.026871318);\">and</span> <span style=\"background-color:rgba(135,206,250,0.021644853);\">a</span> <span style=\"background-color:rgba(135,206,250,0.028674556);\">hint</span> <span style=\"background-color:rgba(135,206,250,0.032623027);\">of</span> <span style=\"background-color:rgba(135,206,250,0.04788722);\">honey</span> <span style=\"background-color:rgba(135,206,250,0.041552234);\">and</span> <span style=\"background-color:rgba(135,206,250,0.071219586);\">apricot</span> <span style=\"background-color:rgba(135,206,250,0.09460329);\">flavors</span> <span style=\"background-color:rgba(135,206,250,0.25627708);\">.</span> <span style=\"background-color:rgba(135,206,250,0.12289059);\">it</span> <span style=\"background-color:rgba(135,206,250,0.030955337);\">'</span> <span style=\"background-color:rgba(135,206,250,0.108289324);\">s</span> <span style=\"background-color:rgba(135,206,250,0.0759921);\">a</span> <span style=\"background-color:rgba(135,206,250,0.11258315);\">bit</span> <span style=\"background-color:rgba(135,206,250,0.11611332);\">rustic</span> <span style=\"background-color:rgba(135,206,250,0.27177703);\">but</span> <span style=\"background-color:rgba(135,206,250,0.19416742);\">not</span> <span style=\"background-color:rgba(135,206,250,0.2414443);\">overbearing</span> <span style=\"background-color:rgba(135,206,250,0.443722);\">,</span> <span style=\"background-color:rgba(135,206,250,0.8993589);\">with</span> <span style=\"background-color:rgba(135,206,250,1.0);\">its</span> <span style=\"background-color:rgba(135,206,250,0.462493);\">juicy</span> <span style=\"background-color:rgba(135,206,250,0.3461549);\">acidity</span>"
            ]
          },
          "metadata": {}
        },
        {
          "output_type": "stream",
          "name": "stdout",
          "text": [
            "and:   \t90.7%\n",
            ",:   \t4.46%\n",
            ".:   \t3.37%\n",
            "is:   \t0.91%\n",
            "cutting:   \t0.2%\n",
            "--------\n",
            "\n"
          ]
        },
        {
          "output_type": "display_data",
          "data": {
            "text/plain": [
              "<IPython.core.display.HTML object>"
            ],
            "text/html": [
              "<span style=\"background-color:rgba(135,206,250,0.03273464);\">wine</span> <span style=\"background-color:rgba(135,206,250,0.053540047);\">review</span> <span style=\"background-color:rgba(135,206,250,0.060999684);\">:</span> <span style=\"background-color:rgba(135,206,250,0.21040137);\">germany</span> <span style=\"background-color:rgba(135,206,250,0.03852204);\">:</span> <span style=\"background-color:rgba(135,206,250,0.12221715);\">mosel</span> <span style=\"background-color:rgba(135,206,250,0.035063677);\">:</span> <span style=\"background-color:rgba(135,206,250,0.15550561);\">riesling</span> <span style=\"background-color:rgba(135,206,250,0.045056418);\">:</span> <span style=\"background-color:rgba(135,206,250,0.07067384);\">rich</span> <span style=\"background-color:rgba(135,206,250,0.023399845);\">and</span> <span style=\"background-color:rgba(135,206,250,0.04875624);\">sweet</span> <span style=\"background-color:rgba(135,206,250,0.01985664);\">,</span> <span style=\"background-color:rgba(135,206,250,0.023363667);\">this</span> <span style=\"background-color:rgba(135,206,250,0.020601198);\">is</span> <span style=\"background-color:rgba(135,206,250,0.014051814);\">a</span> <span style=\"background-color:rgba(135,206,250,0.025995722);\">bit</span> <span style=\"background-color:rgba(135,206,250,0.042550392);\">concentrated</span> <span style=\"background-color:rgba(135,206,250,0.017525222);\">in</span> <span style=\"background-color:rgba(135,206,250,0.051965334);\">flavor</span> <span style=\"background-color:rgba(135,206,250,0.019832667);\">and</span> <span style=\"background-color:rgba(135,206,250,0.015135888);\">a</span> <span style=\"background-color:rgba(135,206,250,0.02872389);\">hint</span> <span style=\"background-color:rgba(135,206,250,0.017871933);\">of</span> <span style=\"background-color:rgba(135,206,250,0.062102877);\">honey</span> <span style=\"background-color:rgba(135,206,250,0.022117639);\">and</span> <span style=\"background-color:rgba(135,206,250,0.074792996);\">apricot</span> <span style=\"background-color:rgba(135,206,250,0.06494363);\">flavors</span> <span style=\"background-color:rgba(135,206,250,0.08543082);\">.</span> <span style=\"background-color:rgba(135,206,250,0.035029415);\">it</span> <span style=\"background-color:rgba(135,206,250,0.0155741535);\">'</span> <span style=\"background-color:rgba(135,206,250,0.04255842);\">s</span> <span style=\"background-color:rgba(135,206,250,0.025152344);\">a</span> <span style=\"background-color:rgba(135,206,250,0.04822681);\">bit</span> <span style=\"background-color:rgba(135,206,250,0.11680558);\">rustic</span> <span style=\"background-color:rgba(135,206,250,0.05881756);\">but</span> <span style=\"background-color:rgba(135,206,250,0.06373054);\">not</span> <span style=\"background-color:rgba(135,206,250,0.17582393);\">overbearing</span> <span style=\"background-color:rgba(135,206,250,0.19370517);\">,</span> <span style=\"background-color:rgba(135,206,250,0.21727052);\">with</span> <span style=\"background-color:rgba(135,206,250,0.4174561);\">its</span> <span style=\"background-color:rgba(135,206,250,0.3554732);\">juicy</span> <span style=\"background-color:rgba(135,206,250,1.0);\">acidity</span> <span style=\"background-color:rgba(135,206,250,0.2250732);\">and</span>"
            ]
          },
          "metadata": {}
        },
        {
          "output_type": "stream",
          "name": "stdout",
          "text": [
            "a:   \t66.62%\n",
            "delicate:   \t13.29%\n",
            "balance:   \t1.77%\n",
            "primary:   \t1.46%\n",
            "tannins:   \t1.32%\n",
            "--------\n",
            "\n"
          ]
        },
        {
          "output_type": "display_data",
          "data": {
            "text/plain": [
              "<IPython.core.display.HTML object>"
            ],
            "text/html": [
              "<span style=\"background-color:rgba(135,206,250,0.04079472);\">wine</span> <span style=\"background-color:rgba(135,206,250,0.068266936);\">review</span> <span style=\"background-color:rgba(135,206,250,0.0705917);\">:</span> <span style=\"background-color:rgba(135,206,250,0.27490324);\">germany</span> <span style=\"background-color:rgba(135,206,250,0.04611447);\">:</span> <span style=\"background-color:rgba(135,206,250,0.1441672);\">mosel</span> <span style=\"background-color:rgba(135,206,250,0.05627061);\">:</span> <span style=\"background-color:rgba(135,206,250,0.21815555);\">riesling</span> <span style=\"background-color:rgba(135,206,250,0.06785758);\">:</span> <span style=\"background-color:rgba(135,206,250,0.050451655);\">rich</span> <span style=\"background-color:rgba(135,206,250,0.028744595);\">and</span> <span style=\"background-color:rgba(135,206,250,0.03030445);\">sweet</span> <span style=\"background-color:rgba(135,206,250,0.022867808);\">,</span> <span style=\"background-color:rgba(135,206,250,0.01846828);\">this</span> <span style=\"background-color:rgba(135,206,250,0.024914742);\">is</span> <span style=\"background-color:rgba(135,206,250,0.010924255);\">a</span> <span style=\"background-color:rgba(135,206,250,0.02354318);\">bit</span> <span style=\"background-color:rgba(135,206,250,0.031301025);\">concentrated</span> <span style=\"background-color:rgba(135,206,250,0.017393652);\">in</span> <span style=\"background-color:rgba(135,206,250,0.06461646);\">flavor</span> <span style=\"background-color:rgba(135,206,250,0.023011386);\">and</span> <span style=\"background-color:rgba(135,206,250,0.012752909);\">a</span> <span style=\"background-color:rgba(135,206,250,0.026186327);\">hint</span> <span style=\"background-color:rgba(135,206,250,0.019336801);\">of</span> <span style=\"background-color:rgba(135,206,250,0.05188019);\">honey</span> <span style=\"background-color:rgba(135,206,250,0.026573937);\">and</span> <span style=\"background-color:rgba(135,206,250,0.09092297);\">apricot</span> <span style=\"background-color:rgba(135,206,250,0.09169555);\">flavors</span> <span style=\"background-color:rgba(135,206,250,0.12856044);\">.</span> <span style=\"background-color:rgba(135,206,250,0.03391087);\">it</span> <span style=\"background-color:rgba(135,206,250,0.016537365);\">'</span> <span style=\"background-color:rgba(135,206,250,0.048131708);\">s</span> <span style=\"background-color:rgba(135,206,250,0.033871725);\">a</span> <span style=\"background-color:rgba(135,206,250,0.0655652);\">bit</span> <span style=\"background-color:rgba(135,206,250,0.071469516);\">rustic</span> <span style=\"background-color:rgba(135,206,250,0.07256366);\">but</span> <span style=\"background-color:rgba(135,206,250,0.09550614);\">not</span> <span style=\"background-color:rgba(135,206,250,0.10934281);\">overbearing</span> <span style=\"background-color:rgba(135,206,250,0.106206775);\">,</span> <span style=\"background-color:rgba(135,206,250,0.28548908);\">with</span> <span style=\"background-color:rgba(135,206,250,0.49337283);\">its</span> <span style=\"background-color:rgba(135,206,250,0.13213404);\">juicy</span> <span style=\"background-color:rgba(135,206,250,1.0);\">acidity</span> <span style=\"background-color:rgba(135,206,250,0.530163);\">and</span> <span style=\"background-color:rgba(135,206,250,0.26382867);\">delicate</span>"
            ]
          },
          "metadata": {}
        },
        {
          "output_type": "stream",
          "name": "stdout",
          "text": [
            "pétillance:   \t41.15%\n",
            "demeanor:   \t21.36%\n",
            "sweetness:   \t6.76%\n",
            "balance:   \t4.59%\n",
            "texture:   \t4.18%\n",
            "--------\n",
            "\n"
          ]
        },
        {
          "output_type": "display_data",
          "data": {
            "text/plain": [
              "<IPython.core.display.HTML object>"
            ],
            "text/html": [
              "<span style=\"background-color:rgba(135,206,250,0.058883037);\">wine</span> <span style=\"background-color:rgba(135,206,250,0.11784235);\">review</span> <span style=\"background-color:rgba(135,206,250,0.18853317);\">:</span> <span style=\"background-color:rgba(135,206,250,0.4633745);\">germany</span> <span style=\"background-color:rgba(135,206,250,0.08532702);\">:</span> <span style=\"background-color:rgba(135,206,250,0.122644015);\">mosel</span> <span style=\"background-color:rgba(135,206,250,0.06821941);\">:</span> <span style=\"background-color:rgba(135,206,250,0.10544525);\">riesling</span> <span style=\"background-color:rgba(135,206,250,0.078197695);\">:</span> <span style=\"background-color:rgba(135,206,250,0.056104496);\">rich</span> <span style=\"background-color:rgba(135,206,250,0.03654407);\">and</span> <span style=\"background-color:rgba(135,206,250,0.030872883);\">sweet</span> <span style=\"background-color:rgba(135,206,250,0.035620037);\">,</span> <span style=\"background-color:rgba(135,206,250,0.038754433);\">this</span> <span style=\"background-color:rgba(135,206,250,0.046043172);\">is</span> <span style=\"background-color:rgba(135,206,250,0.024203654);\">a</span> <span style=\"background-color:rgba(135,206,250,0.03231197);\">bit</span> <span style=\"background-color:rgba(135,206,250,0.04199421);\">concentrated</span> <span style=\"background-color:rgba(135,206,250,0.035811983);\">in</span> <span style=\"background-color:rgba(135,206,250,0.053177167);\">flavor</span> <span style=\"background-color:rgba(135,206,250,0.029458454);\">and</span> <span style=\"background-color:rgba(135,206,250,0.03147775);\">a</span> <span style=\"background-color:rgba(135,206,250,0.034193125);\">hint</span> <span style=\"background-color:rgba(135,206,250,0.03850626);\">of</span> <span style=\"background-color:rgba(135,206,250,0.043826573);\">honey</span> <span style=\"background-color:rgba(135,206,250,0.04442973);\">and</span> <span style=\"background-color:rgba(135,206,250,0.052223105);\">apricot</span> <span style=\"background-color:rgba(135,206,250,0.11473525);\">flavors</span> <span style=\"background-color:rgba(135,206,250,0.2546794);\">.</span> <span style=\"background-color:rgba(135,206,250,0.12368505);\">it</span> <span style=\"background-color:rgba(135,206,250,0.029361162);\">'</span> <span style=\"background-color:rgba(135,206,250,0.11034425);\">s</span> <span style=\"background-color:rgba(135,206,250,0.0946461);\">a</span> <span style=\"background-color:rgba(135,206,250,0.12531711);\">bit</span> <span style=\"background-color:rgba(135,206,250,0.13902745);\">rustic</span> <span style=\"background-color:rgba(135,206,250,0.24607776);\">but</span> <span style=\"background-color:rgba(135,206,250,0.19934759);\">not</span> <span style=\"background-color:rgba(135,206,250,0.23037149);\">overbearing</span> <span style=\"background-color:rgba(135,206,250,0.2618692);\">,</span> <span style=\"background-color:rgba(135,206,250,0.7577763);\">with</span> <span style=\"background-color:rgba(135,206,250,0.47418395);\">its</span> <span style=\"background-color:rgba(135,206,250,0.30501184);\">juicy</span> <span style=\"background-color:rgba(135,206,250,0.50417286);\">acidity</span> <span style=\"background-color:rgba(135,206,250,1.0);\">and</span> <span style=\"background-color:rgba(135,206,250,0.74225366);\">delicate</span> <span style=\"background-color:rgba(135,206,250,0.6563382);\">body</span>"
            ]
          },
          "metadata": {}
        },
        {
          "output_type": "stream",
          "name": "stdout",
          "text": [
            ".:   \t93.88%\n",
            ",:   \t5.03%\n",
            "and:   \t0.7%\n",
            "to:   \t0.08%\n",
            "through:   \t0.05%\n",
            "--------\n",
            "\n"
          ]
        },
        {
          "output_type": "display_data",
          "data": {
            "text/plain": [
              "<IPython.core.display.HTML object>"
            ],
            "text/html": [
              "<span style=\"background-color:rgba(135,206,250,0.18266022);\">wine</span> <span style=\"background-color:rgba(135,206,250,0.18603246);\">review</span> <span style=\"background-color:rgba(135,206,250,1.0);\">:</span> <span style=\"background-color:rgba(135,206,250,0.81649905);\">germany</span> <span style=\"background-color:rgba(135,206,250,0.2619223);\">:</span> <span style=\"background-color:rgba(135,206,250,0.5514597);\">mosel</span> <span style=\"background-color:rgba(135,206,250,0.30848458);\">:</span> <span style=\"background-color:rgba(135,206,250,0.37354782);\">riesling</span> <span style=\"background-color:rgba(135,206,250,0.13900268);\">:</span> <span style=\"background-color:rgba(135,206,250,0.10074464);\">rich</span> <span style=\"background-color:rgba(135,206,250,0.0685827);\">and</span> <span style=\"background-color:rgba(135,206,250,0.07743761);\">sweet</span> <span style=\"background-color:rgba(135,206,250,0.060181346);\">,</span> <span style=\"background-color:rgba(135,206,250,0.12191855);\">this</span> <span style=\"background-color:rgba(135,206,250,0.07015432);\">is</span> <span style=\"background-color:rgba(135,206,250,0.03334855);\">a</span> <span style=\"background-color:rgba(135,206,250,0.06917394);\">bit</span> <span style=\"background-color:rgba(135,206,250,0.07223697);\">concentrated</span> <span style=\"background-color:rgba(135,206,250,0.035192482);\">in</span> <span style=\"background-color:rgba(135,206,250,0.10432625);\">flavor</span> <span style=\"background-color:rgba(135,206,250,0.052203655);\">and</span> <span style=\"background-color:rgba(135,206,250,0.03482252);\">a</span> <span style=\"background-color:rgba(135,206,250,0.053385288);\">hint</span> <span style=\"background-color:rgba(135,206,250,0.03592523);\">of</span> <span style=\"background-color:rgba(135,206,250,0.13166898);\">honey</span> <span style=\"background-color:rgba(135,206,250,0.059604);\">and</span> <span style=\"background-color:rgba(135,206,250,0.12899587);\">apricot</span> <span style=\"background-color:rgba(135,206,250,0.19328521);\">flavors</span> <span style=\"background-color:rgba(135,206,250,0.17734183);\">.</span> <span style=\"background-color:rgba(135,206,250,0.07853488);\">it</span> <span style=\"background-color:rgba(135,206,250,0.034614995);\">'</span> <span style=\"background-color:rgba(135,206,250,0.08517413);\">s</span> <span style=\"background-color:rgba(135,206,250,0.0644741);\">a</span> <span style=\"background-color:rgba(135,206,250,0.11921999);\">bit</span> <span style=\"background-color:rgba(135,206,250,0.19253717);\">rustic</span> <span style=\"background-color:rgba(135,206,250,0.1647064);\">but</span> <span style=\"background-color:rgba(135,206,250,0.14295515);\">not</span> <span style=\"background-color:rgba(135,206,250,0.28691152);\">overbearing</span> <span style=\"background-color:rgba(135,206,250,0.18008263);\">,</span> <span style=\"background-color:rgba(135,206,250,0.2470911);\">with</span> <span style=\"background-color:rgba(135,206,250,0.1311783);\">its</span> <span style=\"background-color:rgba(135,206,250,0.20846365);\">juicy</span> <span style=\"background-color:rgba(135,206,250,0.41960114);\">acidity</span> <span style=\"background-color:rgba(135,206,250,0.32848322);\">and</span> <span style=\"background-color:rgba(135,206,250,0.29913682);\">delicate</span> <span style=\"background-color:rgba(135,206,250,0.52139235);\">body</span> <span style=\"background-color:rgba(135,206,250,0.6414543);\">.</span>"
            ]
          },
          "metadata": {}
        },
        {
          "output_type": "stream",
          "name": "stdout",
          "text": [
            ":   \t92.06%\n",
            "drink:   \t4.18%\n",
            "it:   \t2.85%\n",
            "the:   \t0.56%\n",
            "a:   \t0.15%\n",
            "--------\n",
            "\n"
          ]
        }
      ],
      "source": [
        "info = text_generator.generate(\n",
        "    \"wine review : germany\", max_tokens=80, temperature=0.5\n",
        ")\n",
        "print_probs(info, vocab)"
      ]
    },
    {
      "cell_type": "code",
      "execution_count": null,
      "id": "fcc7a7c0-6c64-47d3-acee-96e48f025e01",
      "metadata": {
        "id": "fcc7a7c0-6c64-47d3-acee-96e48f025e01"
      },
      "outputs": [],
      "source": []
    },
    {
      "cell_type": "code",
      "execution_count": null,
      "id": "4122154c-9e41-44ba-8c5f-fe88a55fe977",
      "metadata": {
        "id": "4122154c-9e41-44ba-8c5f-fe88a55fe977"
      },
      "outputs": [],
      "source": []
    }
  ],
  "metadata": {
    "kernelspec": {
      "display_name": "Python 3",
      "name": "python3"
    },
    "language_info": {
      "codemirror_mode": {
        "name": "ipython",
        "version": 3
      },
      "file_extension": ".py",
      "mimetype": "text/x-python",
      "name": "python",
      "nbconvert_exporter": "python",
      "pygments_lexer": "ipython3",
      "version": "3.8.10"
    },
    "vscode": {
      "interpreter": {
        "hash": "31f2aee4e71d21fbe5cf8b01ff0e069b9275f58929596ceb00d14d90e3e16cd6"
      }
    },
    "colab": {
      "provenance": [],
      "gpuType": "T4"
    },
    "accelerator": "GPU"
  },
  "nbformat": 4,
  "nbformat_minor": 5
}